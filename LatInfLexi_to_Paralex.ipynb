{
 "cells": [
  {
   "cell_type": "code",
   "execution_count": 129,
   "id": "7000cf02",
   "metadata": {
    "ExecuteTime": {
     "end_time": "2023-11-21T13:00:57.182042012Z",
     "start_time": "2023-11-21T13:00:56.919440671Z"
    }
   },
   "outputs": [],
   "source": [
    "import pandas as pd\n",
    "import numpy as np\n",
    "import re\n",
    "import regex\n",
    "\n",
    "from tqdm import tqdm\n",
    "tqdm.pandas()"
   ]
  },
  {
   "cell_type": "markdown",
   "id": "767dbea641a13100",
   "metadata": {
    "collapsed": false,
    "jupyter": {
     "outputs_hidden": false
    }
   },
   "source": [
    "# Reading cells "
   ]
  },
  {
   "cell_type": "markdown",
   "id": "66f4c69b0cc6d94b",
   "metadata": {
    "collapsed": false,
    "jupyter": {
     "outputs_hidden": false
    }
   },
   "source": [
    "We have manually made tables in `etc/`, we just annotate them with POS and concatenate to make a single table:"
   ]
  },
  {
   "cell_type": "code",
   "execution_count": 130,
   "id": "bda42d78ed60358b",
   "metadata": {
    "ExecuteTime": {
     "end_time": "2023-11-21T13:00:57.182361126Z",
     "start_time": "2023-11-21T13:00:57.159986055Z"
    },
    "collapsed": false,
    "jupyter": {
     "outputs_hidden": false
    }
   },
   "outputs": [],
   "source": [
    "LatInfLexi_verbs_cells = pd.read_csv(\"etc/LatInfLexi-verbs_cells.csv\")\n",
    "LatInfLexi_verbs_cells[\"POS\"] = \"verb\"\n",
    "LatInfLexi_nouns_cells = pd.read_csv(\"etc/LatInfLexi-nouns_cells.csv\")\n",
    "LatInfLexi_nouns_cells[\"POS\"] = \"noun\"\n",
    "LatInfLexi_cells = pd.concat([LatInfLexi_verbs_cells, LatInfLexi_nouns_cells])"
   ]
  },
  {
   "cell_type": "markdown",
   "id": "48c462897f155180",
   "metadata": {
    "collapsed": false,
    "jupyter": {
     "outputs_hidden": false
    }
   },
   "source": [
    "# Reading forms"
   ]
  },
  {
   "cell_type": "markdown",
   "id": "115b19a4fd6e13ea",
   "metadata": {
    "collapsed": false,
    "jupyter": {
     "outputs_hidden": false
    }
   },
   "source": [
    "We get the previous version's forms"
   ]
  },
  {
   "cell_type": "code",
   "execution_count": 131,
   "id": "67cc46312e698bb2",
   "metadata": {
    "ExecuteTime": {
     "end_time": "2023-11-21T13:00:57.309573258Z",
     "start_time": "2023-11-21T13:00:57.160176902Z"
    },
    "collapsed": false,
    "jupyter": {
     "outputs_hidden": false
    }
   },
   "outputs": [],
   "source": [
    "%%bash \n",
    "git checkout v1.1 -- LatInfLexi-nouns.csv\n",
    "git checkout v1.1 -- LatInfLexi-verbs.csv"
   ]
  },
  {
   "cell_type": "markdown",
   "id": "75b626c8d40b19dc",
   "metadata": {
    "collapsed": false,
    "jupyter": {
     "outputs_hidden": false
    }
   },
   "source": [
    "We read these tables"
   ]
  },
  {
   "cell_type": "code",
   "execution_count": 132,
   "id": "2792d387",
   "metadata": {
    "ExecuteTime": {
     "end_time": "2023-11-21T13:00:57.935037040Z",
     "start_time": "2023-11-21T13:00:57.311536958Z"
    }
   },
   "outputs": [],
   "source": [
    "LatInfLexi_verbs = pd.read_csv(\"LatInfLexi-verbs.csv\")\n",
    "LatInfLexi_nouns = pd.read_csv(\"LatInfLexi-nouns.csv\")"
   ]
  },
  {
   "cell_type": "markdown",
   "id": "77d9c9b0-a6da-4d62-aaab-b2bd5167de71",
   "metadata": {},
   "source": [
    "# Making some corrections"
   ]
  },
  {
   "cell_type": "code",
   "execution_count": 133,
   "id": "95dfa07a-3ffc-40e2-86fb-7e6dc9db99f3",
   "metadata": {},
   "outputs": [],
   "source": [
    "changes_verbs = {\n",
    "# vowel length in the present system of lexeme \"praescisco\" (and consequently IPA transcriptions) \n",
    "633730: { \"form\" : \"praescīscō\" , \"form_IPA\" : \"prajskiːskoː\" } ,\n",
    "633731: { \"form\" : \"praescīscis\" , \"form_IPA\" : \"prajskiːskis\" } ,\n",
    "633732: { \"form\" : \"praescīscit\" , \"form_IPA\" : \"prajskiːskit\" } ,\n",
    "633733: { \"form\" : \"praescīscimus\" , \"form_IPA\" : \"prajskiːskimus\" } ,\n",
    "633734: { \"form\" : \"praescīscitis\" , \"form_IPA\" : \"prajskiːskitis\" } ,\n",
    "633735: { \"form\" : \"praescīscunt\" , \"form_IPA\" : \"prajskiːskunt\" } ,\n",
    "633736: { \"form\" : \"praescīscēbam\" , \"form_IPA\" : \"prajskiːskeːbam\" } ,\n",
    "633737: { \"form\" : \"praescīscēbās\" , \"form_IPA\" : \"prajskiːskeːbaːs\" } ,\n",
    "633738: { \"form\" : \"praescīscēbat\" , \"form_IPA\" : \"prajskiːskeːbat\" } ,\n",
    "633739: { \"form\" : \"praescīscēbāmus\" , \"form_IPA\" : \"prajskiːskeːbaːmus\" } ,\n",
    "633740: { \"form\" : \"praescīscēbātis\" , \"form_IPA\" : \"prajskiːskeːbaːtis\" } ,\n",
    "633741: { \"form\" : \"praescīscēbant\" , \"form_IPA\" : \"prajskiːskeːbant\" } ,\n",
    "633742: { \"form\" : \"praescīscam\" , \"form_IPA\" : \"prajskiːskam\" } ,\n",
    "633743: { \"form\" : \"praescīscēs\" , \"form_IPA\" : \"prajskiːskeːs\" } ,\n",
    "633744: { \"form\" : \"praescīscet\" , \"form_IPA\" : \"prajskiːsket\" } ,\n",
    "633745: { \"form\" : \"praescīscēmus\" , \"form_IPA\" : \"prajskiːskeːmus\" } ,\n",
    "633746: { \"form\" : \"praescīscētis\" , \"form_IPA\" : \"prajskiːskeːtis\" } ,\n",
    "633747: { \"form\" : \"praescīscent\" , \"form_IPA\" : \"prajskiːskent\" } ,\n",
    "633748: { \"form\" : \"praescīscam\" , \"form_IPA\" : \"prajskiːskam\" } ,\n",
    "633749: { \"form\" : \"praescīscās\" , \"form_IPA\" : \"prajskiːskaːs\" } ,\n",
    "633750: { \"form\" : \"praescīscat\" , \"form_IPA\" : \"prajskiːskat\" } ,\n",
    "633751: { \"form\" : \"praescīscāmus\" , \"form_IPA\" : \"prajskiːskaːmus\" } ,\n",
    "633752: { \"form\" : \"praescīscātis\" , \"form_IPA\" : \"prajskiːskaːtis\" } ,\n",
    "633753: { \"form\" : \"praescīscant\" , \"form_IPA\" : \"prajskiːskant\" } ,\n",
    "633754: { \"form\" : \"praescīscerem\" , \"form_IPA\" : \"prajskiːskerem\" } ,\n",
    "633755: { \"form\" : \"praescīscerēs\" , \"form_IPA\" : \"prajskiːskereːs\" } ,\n",
    "633756: { \"form\" : \"praescīsceret\" , \"form_IPA\" : \"prajskiːskeret\" } ,\n",
    "633757: { \"form\" : \"praescīscerēmus\" , \"form_IPA\" : \"prajskiːskereːmus\" } ,\n",
    "633758: { \"form\" : \"praescīscerētis\" , \"form_IPA\" : \"prajskiːskereːtis\" } ,\n",
    "633759: { \"form\" : \"praescīscerent\" , \"form_IPA\" : \"prajskiːskerent\" } ,\n",
    "633760: { \"form\" : \"praescīsce\" , \"form_IPA\" : \"prajskiːske\" } ,\n",
    "633761: { \"form\" : \"praescīscite\" , \"form_IPA\" : \"prajskiːskite\" } ,\n",
    "633762: { \"form\" : \"praescīscitō\" , \"form_IPA\" : \"prajskiːskitoː\" } ,\n",
    "633763: { \"form\" : \"praescīscitō\" , \"form_IPA\" : \"prajskiːskitoː\" } ,\n",
    "633764: { \"form\" : \"praescīscitōte\" , \"form_IPA\" : \"prajskiːskitoːte\" } ,\n",
    "633765: { \"form\" : \"praescīscuntō\" , \"form_IPA\" : \"prajskiːskuntoː\" } ,\n",
    "633766: { \"form\" : \"praescīscere\" , \"form_IPA\" : \"prajskiːskere\" } ,\n",
    "633767: { \"form\" : \"praescīscor\" , \"form_IPA\" : \"prajskiːskor\" } ,\n",
    "633768: { \"form\" : \"praescīsceris\" , \"form_IPA\" : \"prajskiːskeris\" } ,\n",
    "633769: { \"form\" : \"praescīscitur\" , \"form_IPA\" : \"prajskiːskitur\" } ,\n",
    "633770: { \"form\" : \"praescīscimur\" , \"form_IPA\" : \"prajskiːskimur\" } ,\n",
    "633771: { \"form\" : \"praescīsciminī\" , \"form_IPA\" : \"prajskiːskiminiː\" } ,\n",
    "633772: { \"form\" : \"praescīscuntur\" , \"form_IPA\" : \"prajskiːskuntur\" } ,\n",
    "633773: { \"form\" : \"praescīscēbar\" , \"form_IPA\" : \"prajskiːskeːbar\" } ,\n",
    "633774: { \"form\" : \"praescīscēbāris\" , \"form_IPA\" : \"prajskiːskeːbaːris\" } ,\n",
    "633775: { \"form\" : \"praescīscēbātur\" , \"form_IPA\" : \"prajskiːskeːbaːtur\" } ,\n",
    "633776: { \"form\" : \"praescīscēbāmur\" , \"form_IPA\" : \"prajskiːskeːbaːmur\" } ,\n",
    "633777: { \"form\" : \"praescīscēbāminī\" , \"form_IPA\" : \"prajskiːskeːbaːminiː\" } ,\n",
    "633778: { \"form\" : \"praescīscēbantur\" , \"form_IPA\" : \"prajskiːskeːbantur\" } ,\n",
    "633779: { \"form\" : \"praescīscar\" , \"form_IPA\" : \"prajskiːskar\" } ,\n",
    "633780: { \"form\" : \"praescīscēris\" , \"form_IPA\" : \"prajskiːskeːris\" } ,\n",
    "633781: { \"form\" : \"praescīscētur\" , \"form_IPA\" : \"prajskiːskeːtur\" } ,\n",
    "633782: { \"form\" : \"praescīscēmur\" , \"form_IPA\" : \"prajskiːskeːmur\" } ,\n",
    "633783: { \"form\" : \"praescīscēminī\" , \"form_IPA\" : \"prajskiːskeːminiː\" } ,\n",
    "633784: { \"form\" : \"praescīscentur\" , \"form_IPA\" : \"prajskiːskentur\" } ,\n",
    "633785: { \"form\" : \"praescīscar\" , \"form_IPA\" : \"prajskiːskar\" } ,\n",
    "633786: { \"form\" : \"praescīscāris\" , \"form_IPA\" : \"prajskiːskaːris\" } ,\n",
    "633787: { \"form\" : \"praescīscātur\" , \"form_IPA\" : \"prajskiːskaːtur\" } ,\n",
    "633788: { \"form\" : \"praescīscāmur\" , \"form_IPA\" : \"prajskiːskaːmur\" } ,\n",
    "633789: { \"form\" : \"praescīscāminī\" , \"form_IPA\" : \"prajskiːskaːminiː\" } ,\n",
    "633790: { \"form\" : \"praescīscantur\" , \"form_IPA\" : \"prajskiːskantur\" } ,\n",
    "633791: { \"form\" : \"praescīscerer\" , \"form_IPA\" : \"prajskiːskerer\" } ,\n",
    "633792: { \"form\" : \"praescīscerēris\" , \"form_IPA\" : \"prajskiːskereːris\" } ,\n",
    "633793: { \"form\" : \"praescīscerētur\" , \"form_IPA\" : \"prajskiːskereːtur\" } ,\n",
    "633794: { \"form\" : \"praescīscerēmur\" , \"form_IPA\" : \"prajskiːskereːmur\" } ,\n",
    "633795: { \"form\" : \"praescīscerēminī\" , \"form_IPA\" : \"prajskiːskereːminiː\" } ,\n",
    "633796: { \"form\" : \"praescīscerentur\" , \"form_IPA\" : \"prajskiːskerentur\" } ,\n",
    "633797: { \"form\" : \"praescīscere\" , \"form_IPA\" : \"prajskiːskere\" } ,\n",
    "633798: { \"form\" : \"praescīsciminī\" , \"form_IPA\" : \"prajskiːskiminiː\" } ,\n",
    "633799: { \"form\" : \"praescīscitor\" , \"form_IPA\" : \"prajskiːskitor\" } ,\n",
    "633800: { \"form\" : \"praescīscitor\" , \"form_IPA\" : \"prajskiːskitor\" } ,\n",
    "633801: { \"form\" : \"praescīscuntor\" , \"form_IPA\" : \"prajskiːskuntor\" } ,\n",
    "633802: { \"form\" : \"praescīscī\" , \"form_IPA\" : \"prajskiːskiː\" } ,\n",
    "633803: { \"form\" : \"praescīscendī\" , \"form_IPA\" : \"prajskiːskendiː\" } ,\n",
    "633804: { \"form\" : \"praescīscendō\" , \"form_IPA\" : \"prajskiːskendoː\" } ,\n",
    "633805: { \"form\" : \"praescīscendum\" , \"form_IPA\" : \"prajskiːskendum\" } ,\n",
    "633806: { \"form\" : \"praescīscendō\" , \"form_IPA\" : \"prajskiːskendoː\" } ,\n",
    "633807: { \"form\" : \"praescīscendus\" , \"form_IPA\" : \"prajskiːskendus\" } ,\n",
    "633808: { \"form\" : \"praescīscenda\" , \"form_IPA\" : \"prajskiːskenda\" } ,\n",
    "633809: { \"form\" : \"praescīscendum\" , \"form_IPA\" : \"prajskiːskendum\" } ,\n",
    "633810: { \"form\" : \"praescīscendī\" , \"form_IPA\" : \"prajskiːskendiː\" } ,\n",
    "633811: { \"form\" : \"praescīscendae\" , \"form_IPA\" : \"prajskiːskendaj\" } ,\n",
    "633812: { \"form\" : \"praescīscendī\" , \"form_IPA\" : \"prajskiːskendiː\" } ,\n",
    "633813: { \"form\" : \"praescīscendō\" , \"form_IPA\" : \"prajskiːskendoː\" } ,\n",
    "633814: { \"form\" : \"praescīscendae\" , \"form_IPA\" : \"prajskiːskendaj\" } ,\n",
    "633815: { \"form\" : \"praescīscendō\" , \"form_IPA\" : \"prajskiːskendoː\" } ,\n",
    "633816: { \"form\" : \"praescīscendum\" , \"form_IPA\" : \"prajskiːskendum\" } ,\n",
    "633817: { \"form\" : \"praescīscendam\" , \"form_IPA\" : \"prajskiːskendam\" } ,\n",
    "633818: { \"form\" : \"praescīscendum\" , \"form_IPA\" : \"prajskiːskendum\" } ,\n",
    "633819: { \"form\" : \"praescīscende\" , \"form_IPA\" : \"prajskiːskende\" } ,\n",
    "633820: { \"form\" : \"praescīscenda\" , \"form_IPA\" : \"prajskiːskenda\" } ,\n",
    "633821: { \"form\" : \"praescīscendum\" , \"form_IPA\" : \"prajskiːskendum\" } ,\n",
    "633822: { \"form\" : \"praescīscendō\" , \"form_IPA\" : \"prajskiːskendoː\" } ,\n",
    "633823: { \"form\" : \"praescīscendā\" , \"form_IPA\" : \"prajskiːskendaː\" } ,\n",
    "633824: { \"form\" : \"praescīscendō\" , \"form_IPA\" : \"prajskiːskendoː\" } ,\n",
    "633825: { \"form\" : \"praescīscendī\" , \"form_IPA\" : \"prajskiːskendiː\" } ,\n",
    "633826: { \"form\" : \"praescīscendae\" , \"form_IPA\" : \"prajskiːskendaj\" } ,\n",
    "633827: { \"form\" : \"praescīscenda\" , \"form_IPA\" : \"prajskiːskenda\" } ,\n",
    "633828: { \"form\" : \"praescīscendōrum\" , \"form_IPA\" : \"prajskiːskendoːrum\" } ,\n",
    "633829: { \"form\" : \"praescīscendārum\" , \"form_IPA\" : \"prajskiːskendaːrum\" } ,\n",
    "633830: { \"form\" : \"praescīscendōrum\" , \"form_IPA\" : \"prajskiːskendoːrum\" } ,\n",
    "633831: { \"form\" : \"praescīscendīs\" , \"form_IPA\" : \"prajskiːskendiːs\" } ,\n",
    "633832: { \"form\" : \"praescīscendīs\" , \"form_IPA\" : \"prajskiːskendiːs\" } ,\n",
    "633833: { \"form\" : \"praescīscendīs\" , \"form_IPA\" : \"prajskiːskendiːs\" } ,\n",
    "633834: { \"form\" : \"praescīscendōs\" , \"form_IPA\" : \"prajskiːskendoːs\" } ,\n",
    "633835: { \"form\" : \"praescīscendās\" , \"form_IPA\" : \"prajskiːskendaːs\" } ,\n",
    "633836: { \"form\" : \"praescīscenda\" , \"form_IPA\" : \"prajskiːskenda\" } ,\n",
    "633837: { \"form\" : \"praescīscendī\" , \"form_IPA\" : \"prajskiːskendiː\" } ,\n",
    "633838: { \"form\" : \"praescīscendae\" , \"form_IPA\" : \"prajskiːskendaj\" } ,\n",
    "633839: { \"form\" : \"praescīscenda\" , \"form_IPA\" : \"prajskiːskenda\" } ,\n",
    "633840: { \"form\" : \"praescīscendīs\" , \"form_IPA\" : \"prajskiːskendiːs\" } ,\n",
    "633841: { \"form\" : \"praescīscendīs\" , \"form_IPA\" : \"prajskiːskendiːs\" } ,\n",
    "633842: { \"form\" : \"praescīscendīs\" , \"form_IPA\" : \"prajskiːskendiːs\" } ,\n",
    "633843: { \"form\" : \"praescīscēns\" , \"form_IPA\" : \"prajskiːskeːns\" } ,\n",
    "633844: { \"form\" : \"praescīscēns\" , \"form_IPA\" : \"prajskiːskeːns\" } ,\n",
    "633845: { \"form\" : \"praescīscēns\" , \"form_IPA\" : \"prajskiːskeːns\" } ,\n",
    "633846: { \"form\" : \"praescīscentis\" , \"form_IPA\" : \"prajskiːskentis\" } ,\n",
    "633847: { \"form\" : \"praescīscentis\" , \"form_IPA\" : \"prajskiːskentis\" } ,\n",
    "633848: { \"form\" : \"praescīscentis\" , \"form_IPA\" : \"prajskiːskentis\" } ,\n",
    "633849: { \"form\" : \"praescīscentī\" , \"form_IPA\" : \"prajskiːskentiː\" } ,\n",
    "633850: { \"form\" : \"praescīscentī\" , \"form_IPA\" : \"prajskiːskentiː\" } ,\n",
    "633851: { \"form\" : \"praescīscentī\" , \"form_IPA\" : \"prajskiːskentiː\" } ,\n",
    "633852: { \"form\" : \"praescīscentem\" , \"form_IPA\" : \"prajskiːskentem\" } ,\n",
    "633853: { \"form\" : \"praescīscentem\" , \"form_IPA\" : \"prajskiːskentem\" } ,\n",
    "633854: { \"form\" : \"praescīscēns\" , \"form_IPA\" : \"prajskiːskeːns\" } ,\n",
    "633855: { \"form\" : \"praescīscēns\" , \"form_IPA\" : \"prajskiːskeːns\" } ,\n",
    "633856: { \"form\" : \"praescīscēns\" , \"form_IPA\" : \"prajskiːskeːns\" } ,\n",
    "633857: { \"form\" : \"praescīscēns\" , \"form_IPA\" : \"prajskiːskeːns\" } ,\n",
    "633858: { \"form\" : \"praescīscente\" , \"form_IPA\" : \"prajskiːskente\" } ,\n",
    "633859: { \"form\" : \"praescīscente\" , \"form_IPA\" : \"prajskiːskente\" } ,\n",
    "633860: { \"form\" : \"praescīscente\" , \"form_IPA\" : \"prajskiːskente\" } ,\n",
    "633861: { \"form\" : \"praescīscentēs\" , \"form_IPA\" : \"prajskiːskenteːs\" } ,\n",
    "633862: { \"form\" : \"praescīscentēs\" , \"form_IPA\" : \"prajskiːskenteːs\" } ,\n",
    "633863: { \"form\" : \"praescīscentia\" , \"form_IPA\" : \"prajskiːskentia\" } ,\n",
    "633864: { \"form\" : \"praescīscentium\" , \"form_IPA\" : \"prajskiːskentium\" } ,\n",
    "633865: { \"form\" : \"praescīscentium\" , \"form_IPA\" : \"prajskiːskentium\" } ,\n",
    "633866: { \"form\" : \"praescīscentium\" , \"form_IPA\" : \"prajskiːskentium\" } ,\n",
    "633867: { \"form\" : \"praescīscentibus\" , \"form_IPA\" : \"prajskiːskentibus\" } ,\n",
    "633868: { \"form\" : \"praescīscentibus\" , \"form_IPA\" : \"prajskiːskentibus\" } ,\n",
    "633869: { \"form\" : \"praescīscentibus\" , \"form_IPA\" : \"prajskiːskentibus\" } ,\n",
    "633870: { \"form\" : \"praescīscentēs\" , \"form_IPA\" : \"prajskiːskenteːs\" } ,\n",
    "633871: { \"form\" : \"praescīscentēs\" , \"form_IPA\" : \"prajskiːskenteːs\" } ,\n",
    "633872: { \"form\" : \"praescīscentia\" , \"form_IPA\" : \"prajskiːskentia\" } ,\n",
    "633873: { \"form\" : \"praescīscentēs\" , \"form_IPA\" : \"prajskiːskenteːs\" } ,\n",
    "633874: { \"form\" : \"praescīscentēs\" , \"form_IPA\" : \"prajskiːskenteːs\" } ,\n",
    "633875: { \"form\" : \"praescīscentia\" , \"form_IPA\" : \"prajskiːskentia\" } ,\n",
    "633876: { \"form\" : \"praescīscentibus\" , \"form_IPA\" : \"prajskiːskentibus\" } ,\n",
    "633877: { \"form\" : \"praescīscentibus\" , \"form_IPA\" : \"prajskiːskentibus\" } ,\n",
    "633878: { \"form\" : \"praescīscentibus\" , \"form_IPA\" : \"prajskiːskentibus\" } ,\n",
    "# \"i\" in prs.act.ind.2/3sg of lexeme \"aio\" is vowel, not glide (cf. Bennett grammar, §135)\n",
    "41149: { \"form_IPA\" : \"aiːs\" } ,\n",
    "41150: { \"form_IPA\" : \"ait\" } ,\n",
    "# fix to switch sbjv.1pl/3pl of \"aio\"\n",
    "41169: { \"form\" : \"#DEF#\" , \"form_IPA\" : \"#DEF#\" },\n",
    "41171: { \"form\" : \"aiant\" , \"form_IPA\" : \"ajant\" },\n",
    "# recovering prf.3sg of \"aio\"\n",
    "41299: { \"form\" : \"ait\" , \"form_IPA\" : \"ait\" },\n",
    "# recovering passive forms of transitive derivatives of irregular \"eo\" (cf. Bennett grammar, §132.1, identification of transitives based on lemlat's codles\n",
    "18579: { \"form\" : \"adeor\" , \"form_IPA\" : \"adeor\" } ,\n",
    "18580: { \"form\" : \"adīris\" , \"form_IPA\" : \"adiːris\" } ,\n",
    "18582: { \"form\" : \"adīmur\" , \"form_IPA\" : \"adiːmur\" } ,\n",
    "18583: { \"form\" : \"adīminī\" , \"form_IPA\" : \"adiːminiː\" } ,\n",
    "18584: { \"form\" : \"adeuntur\" , \"form_IPA\" : \"adeuntur\" } ,\n",
    "18585: { \"form\" : \"adībar\" , \"form_IPA\" : \"adiːbar\" } ,\n",
    "18586: { \"form\" : \"adībāris\" , \"form_IPA\" : \"adiːbaːris\" } ,\n",
    "18588: { \"form\" : \"adībāmur\" , \"form_IPA\" : \"adiːbaːmur\" } ,\n",
    "18589: { \"form\" : \"adībāminī\" , \"form_IPA\" : \"adiːbaːminiː\" } ,\n",
    "18590: { \"form\" : \"adībantur\" , \"form_IPA\" : \"adiːbantur\" } ,\n",
    "18591: { \"form\" : \"adībor\" , \"form_IPA\" : \"adiːbor\" } ,\n",
    "18592: { \"form\" : \"adīberis\" , \"form_IPA\" : \"adiːberis\" } ,\n",
    "18594: { \"form\" : \"adībimur\" , \"form_IPA\" : \"adiːbimur\" } ,\n",
    "18595: { \"form\" : \"adībiminī\" , \"form_IPA\" : \"adiːbiminiː\" } ,\n",
    "18596: { \"form\" : \"adībuntur\" , \"form_IPA\" : \"adiːbuntur\" } ,\n",
    "18597: { \"form\" : \"adear\" , \"form_IPA\" : \"adear\" } ,\n",
    "18598: { \"form\" : \"adeāris\" , \"form_IPA\" : \"adeaːris\" } ,\n",
    "18600: { \"form\" : \"adeāmur\" , \"form_IPA\" : \"adeaːmur\" } ,\n",
    "18601: { \"form\" : \"adeāminī\" , \"form_IPA\" : \"adeaːminiː\" } ,\n",
    "18602: { \"form\" : \"adeantur\" , \"form_IPA\" : \"adeantur\" } ,\n",
    "18603: { \"form\" : \"adīrer\" , \"form_IPA\" : \"adiːrer\" } ,\n",
    "18604: { \"form\" : \"adīrēris\" , \"form_IPA\" : \"adiːreːris\" } ,\n",
    "18606: { \"form\" : \"adīrēmur\" , \"form_IPA\" : \"adiːreːmur\" } ,\n",
    "18607: { \"form\" : \"adīrēminī\" , \"form_IPA\" : \"adiːreːminiː\" } ,\n",
    "18608: { \"form\" : \"adīrentur\" , \"form_IPA\" : \"adiːrentur\" } ,\n",
    "18609: { \"form\" : \"adīre\" , \"form_IPA\" : \"adiːre\" } ,\n",
    "18610: { \"form\" : \"adīminī\" , \"form_IPA\" : \"adiːminiː\" } ,\n",
    "18611: { \"form\" : \"adītor\" , \"form_IPA\" : \"adiːtor\" } ,\n",
    "18612: { \"form\" : \"adītor\" , \"form_IPA\" : \"adiːtor\" } ,\n",
    "18613: { \"form\" : \"adeuntor\" , \"form_IPA\" : \"adeuntor\" } ,\n",
    "18619: { \"form\" : \"adeundus\" , \"form_IPA\" : \"adeundus\" } ,\n",
    "18620: { \"form\" : \"adeunda\" , \"form_IPA\" : \"adeunda\" } ,\n",
    "18621: { \"form\" : \"adeundum\" , \"form_IPA\" : \"adeundum\" } ,\n",
    "18622: { \"form\" : \"adeundī\" , \"form_IPA\" : \"adeundiː\" } ,\n",
    "18623: { \"form\" : \"adeundae\" , \"form_IPA\" : \"adeundaj\" } ,\n",
    "18624: { \"form\" : \"adeundī\" , \"form_IPA\" : \"adeundiː\" } ,\n",
    "18625: { \"form\" : \"adeundō\" , \"form_IPA\" : \"adeundoː\" } ,\n",
    "18626: { \"form\" : \"adeundae\" , \"form_IPA\" : \"adeundaj\" } ,\n",
    "18627: { \"form\" : \"adeundō\" , \"form_IPA\" : \"adeundoː\" } ,\n",
    "18628: { \"form\" : \"adeundum\" , \"form_IPA\" : \"adeundum\" } ,\n",
    "18629: { \"form\" : \"adeundam\" , \"form_IPA\" : \"adeundam\" } ,\n",
    "18631: { \"form\" : \"adeunde\" , \"form_IPA\" : \"adeunde\" } ,\n",
    "18632: { \"form\" : \"adeunda\" , \"form_IPA\" : \"adeunda\" } ,\n",
    "18633: { \"form\" : \"adeundum\" , \"form_IPA\" : \"adeundum\" } ,\n",
    "18634: { \"form\" : \"adeundō\" , \"form_IPA\" : \"adeundoː\" } ,\n",
    "18635: { \"form\" : \"adeundā\" , \"form_IPA\" : \"adeundaː\" } ,\n",
    "18636: { \"form\" : \"adeundō\" , \"form_IPA\" : \"adeundoː\" } ,\n",
    "18637: { \"form\" : \"adeundī\" , \"form_IPA\" : \"adeundiː\" } ,\n",
    "18638: { \"form\" : \"adeundae\" , \"form_IPA\" : \"adeundaj\" } ,\n",
    "18639: { \"form\" : \"adeunda\" , \"form_IPA\" : \"adeunda\" } ,\n",
    "18640: { \"form\" : \"adeundōrum\" , \"form_IPA\" : \"adeundoːrum\" } ,\n",
    "18641: { \"form\" : \"adeundārum\" , \"form_IPA\" : \"adeundaːrum\" } ,\n",
    "18642: { \"form\" : \"adeundōrum\" , \"form_IPA\" : \"adeundoːrum\" } ,\n",
    "18643: { \"form\" : \"adeundīs\" , \"form_IPA\" : \"adeundiːs\" } ,\n",
    "18644: { \"form\" : \"adeundīs\" , \"form_IPA\" : \"adeundiːs\" } ,\n",
    "18645: { \"form\" : \"adeundīs\" , \"form_IPA\" : \"adeundiːs\" } ,\n",
    "18646: { \"form\" : \"adeundōs\" , \"form_IPA\" : \"adeundoːs\" } ,\n",
    "18647: { \"form\" : \"adeundās\" , \"form_IPA\" : \"adeundaːs\" } ,\n",
    "18648: { \"form\" : \"adeunda\" , \"form_IPA\" : \"adeunda\" } ,\n",
    "18649: { \"form\" : \"adeundī\" , \"form_IPA\" : \"adeundiː\" } ,\n",
    "18650: { \"form\" : \"adeundae\" , \"form_IPA\" : \"adeundaj\" } ,\n",
    "18651: { \"form\" : \"adeunda\" , \"form_IPA\" : \"adeunda\" } ,\n",
    "18652: { \"form\" : \"adeundīs\" , \"form_IPA\" : \"adeundiːs\" } ,\n",
    "18653: { \"form\" : \"adeundīs\" , \"form_IPA\" : \"adeundiːs\" } ,\n",
    "18654: { \"form\" : \"adeundīs\" , \"form_IPA\" : \"adeundiːs\" } ,\n",
    "53377: { \"form\" : \"anteeor\" , \"form_IPA\" : \"anteeor\" } ,\n",
    "53378: { \"form\" : \"anteīris\" , \"form_IPA\" : \"anteiːris\" } ,\n",
    "53380: { \"form\" : \"anteīmur\" , \"form_IPA\" : \"anteiːmur\" } ,\n",
    "53381: { \"form\" : \"anteīminī\" , \"form_IPA\" : \"anteiːminiː\" } ,\n",
    "53382: { \"form\" : \"anteeuntur\" , \"form_IPA\" : \"anteeuntur\" } ,\n",
    "53383: { \"form\" : \"anteībar\" , \"form_IPA\" : \"anteiːbar\" } ,\n",
    "53384: { \"form\" : \"anteībāris\" , \"form_IPA\" : \"anteiːbaːris\" } ,\n",
    "53386: { \"form\" : \"anteībāmur\" , \"form_IPA\" : \"anteiːbaːmur\" } ,\n",
    "53387: { \"form\" : \"anteībāminī\" , \"form_IPA\" : \"anteiːbaːminiː\" } ,\n",
    "53388: { \"form\" : \"anteībantur\" , \"form_IPA\" : \"anteiːbantur\" } ,\n",
    "53389: { \"form\" : \"anteībor\" , \"form_IPA\" : \"anteiːbor\" } ,\n",
    "53390: { \"form\" : \"anteīberis\" , \"form_IPA\" : \"anteiːberis\" } ,\n",
    "53392: { \"form\" : \"anteībimur\" , \"form_IPA\" : \"anteiːbimur\" } ,\n",
    "53393: { \"form\" : \"anteībiminī\" , \"form_IPA\" : \"anteiːbiminiː\" } ,\n",
    "53394: { \"form\" : \"anteībuntur\" , \"form_IPA\" : \"anteiːbuntur\" } ,\n",
    "53395: { \"form\" : \"anteear\" , \"form_IPA\" : \"anteear\" } ,\n",
    "53396: { \"form\" : \"anteeāris\" , \"form_IPA\" : \"anteeaːris\" } ,\n",
    "53398: { \"form\" : \"anteeāmur\" , \"form_IPA\" : \"anteeaːmur\" } ,\n",
    "53399: { \"form\" : \"anteeāminī\" , \"form_IPA\" : \"anteeaːminiː\" } ,\n",
    "53400: { \"form\" : \"anteeantur\" , \"form_IPA\" : \"anteeantur\" } ,\n",
    "53401: { \"form\" : \"anteīrer\" , \"form_IPA\" : \"anteiːrer\" } ,\n",
    "53402: { \"form\" : \"anteīrēris\" , \"form_IPA\" : \"anteiːreːris\" } ,\n",
    "53404: { \"form\" : \"anteīrēmur\" , \"form_IPA\" : \"anteiːreːmur\" } ,\n",
    "53405: { \"form\" : \"anteīrēminī\" , \"form_IPA\" : \"anteiːreːminiː\" } ,\n",
    "53406: { \"form\" : \"anteīrentur\" , \"form_IPA\" : \"anteiːrentur\" } ,\n",
    "53407: { \"form\" : \"anteīre\" , \"form_IPA\" : \"anteiːre\" } ,\n",
    "53408: { \"form\" : \"anteīminī\" , \"form_IPA\" : \"anteiːminiː\" } ,\n",
    "53409: { \"form\" : \"anteītor\" , \"form_IPA\" : \"anteiːtor\" } ,\n",
    "53410: { \"form\" : \"anteītor\" , \"form_IPA\" : \"anteiːtor\" } ,\n",
    "53411: { \"form\" : \"anteeuntor\" , \"form_IPA\" : \"anteeuntor\" } ,\n",
    "53417: { \"form\" : \"anteeundus\" , \"form_IPA\" : \"anteeundus\" } ,\n",
    "53418: { \"form\" : \"anteeunda\" , \"form_IPA\" : \"anteeunda\" } ,\n",
    "53419: { \"form\" : \"anteeundum\" , \"form_IPA\" : \"anteeundum\" } ,\n",
    "53420: { \"form\" : \"anteeundī\" , \"form_IPA\" : \"anteeundiː\" } ,\n",
    "53421: { \"form\" : \"anteeundae\" , \"form_IPA\" : \"anteeundaj\" } ,\n",
    "53422: { \"form\" : \"anteeundī\" , \"form_IPA\" : \"anteeundiː\" } ,\n",
    "53423: { \"form\" : \"anteeundō\" , \"form_IPA\" : \"anteeundoː\" } ,\n",
    "53424: { \"form\" : \"anteeundae\" , \"form_IPA\" : \"anteeundaj\" } ,\n",
    "53425: { \"form\" : \"anteeundō\" , \"form_IPA\" : \"anteeundoː\" } ,\n",
    "53426: { \"form\" : \"anteeundum\" , \"form_IPA\" : \"anteeundum\" } ,\n",
    "53427: { \"form\" : \"anteeundam\" , \"form_IPA\" : \"anteeundam\" } ,\n",
    "53429: { \"form\" : \"anteeunde\" , \"form_IPA\" : \"anteeunde\" } ,\n",
    "53430: { \"form\" : \"anteeunda\" , \"form_IPA\" : \"anteeunda\" } ,\n",
    "53431: { \"form\" : \"anteeundum\" , \"form_IPA\" : \"anteeundum\" } ,\n",
    "53432: { \"form\" : \"anteeundō\" , \"form_IPA\" : \"anteeundoː\" } ,\n",
    "53433: { \"form\" : \"anteeundā\" , \"form_IPA\" : \"anteeundaː\" } ,\n",
    "53434: { \"form\" : \"anteeundō\" , \"form_IPA\" : \"anteeundoː\" } ,\n",
    "53435: { \"form\" : \"anteeundī\" , \"form_IPA\" : \"anteeundiː\" } ,\n",
    "53436: { \"form\" : \"anteeundae\" , \"form_IPA\" : \"anteeundaj\" } ,\n",
    "53437: { \"form\" : \"anteeunda\" , \"form_IPA\" : \"anteeunda\" } ,\n",
    "53438: { \"form\" : \"anteeundōrum\" , \"form_IPA\" : \"anteeundoːrum\" } ,\n",
    "53439: { \"form\" : \"anteeundārum\" , \"form_IPA\" : \"anteeundaːrum\" } ,\n",
    "53440: { \"form\" : \"anteeundōrum\" , \"form_IPA\" : \"anteeundoːrum\" } ,\n",
    "53441: { \"form\" : \"anteeundīs\" , \"form_IPA\" : \"anteeundiːs\" } ,\n",
    "53442: { \"form\" : \"anteeundīs\" , \"form_IPA\" : \"anteeundiːs\" } ,\n",
    "53443: { \"form\" : \"anteeundīs\" , \"form_IPA\" : \"anteeundiːs\" } ,\n",
    "53444: { \"form\" : \"anteeundōs\" , \"form_IPA\" : \"anteeundoːs\" } ,\n",
    "53445: { \"form\" : \"anteeundās\" , \"form_IPA\" : \"anteeundaːs\" } ,\n",
    "53446: { \"form\" : \"anteeunda\" , \"form_IPA\" : \"anteeunda\" } ,\n",
    "53447: { \"form\" : \"anteeundī\" , \"form_IPA\" : \"anteeundiː\" } ,\n",
    "53448: { \"form\" : \"anteeundae\" , \"form_IPA\" : \"anteeundaj\" } ,\n",
    "53449: { \"form\" : \"anteeunda\" , \"form_IPA\" : \"anteeunda\" } ,\n",
    "53450: { \"form\" : \"anteeundīs\" , \"form_IPA\" : \"anteeundiːs\" } ,\n",
    "53451: { \"form\" : \"anteeundīs\" , \"form_IPA\" : \"anteeundiːs\" } ,\n",
    "53452: { \"form\" : \"anteeundīs\" , \"form_IPA\" : \"anteeundiːs\" } ,\n",
    "101129: { \"form\" : \"circumeor\" , \"form_IPA\" : \"kirkumeor\" } ,\n",
    "101130: { \"form\" : \"circumīris\" , \"form_IPA\" : \"kirkumiːris\" } ,\n",
    "101132: { \"form\" : \"circumīmur\" , \"form_IPA\" : \"kirkumiːmur\" } ,\n",
    "101133: { \"form\" : \"circumīminī\" , \"form_IPA\" : \"kirkumiːminiː\" } ,\n",
    "101134: { \"form\" : \"circumeuntur\" , \"form_IPA\" : \"kirkumeuntur\" } ,\n",
    "101135: { \"form\" : \"circumībar\" , \"form_IPA\" : \"kirkumiːbar\" } ,\n",
    "101136: { \"form\" : \"circumībāris\" , \"form_IPA\" : \"kirkumiːbaːris\" } ,\n",
    "101138: { \"form\" : \"circumībāmur\" , \"form_IPA\" : \"kirkumiːbaːmur\" } ,\n",
    "101139: { \"form\" : \"circumībāminī\" , \"form_IPA\" : \"kirkumiːbaːminiː\" } ,\n",
    "101140: { \"form\" : \"circumībantur\" , \"form_IPA\" : \"kirkumiːbantur\" } ,\n",
    "101141: { \"form\" : \"circumībor\" , \"form_IPA\" : \"kirkumiːbor\" } ,\n",
    "101142: { \"form\" : \"circumīberis\" , \"form_IPA\" : \"kirkumiːberis\" } ,\n",
    "101144: { \"form\" : \"circumībimur\" , \"form_IPA\" : \"kirkumiːbimur\" } ,\n",
    "101145: { \"form\" : \"circumībiminī\" , \"form_IPA\" : \"kirkumiːbiminiː\" } ,\n",
    "101146: { \"form\" : \"circumībuntur\" , \"form_IPA\" : \"kirkumiːbuntur\" } ,\n",
    "101147: { \"form\" : \"circumear\" , \"form_IPA\" : \"kirkumear\" } ,\n",
    "101148: { \"form\" : \"circumeāris\" , \"form_IPA\" : \"kirkumeaːris\" } ,\n",
    "101150: { \"form\" : \"circumeāmur\" , \"form_IPA\" : \"kirkumeaːmur\" } ,\n",
    "101151: { \"form\" : \"circumeāminī\" , \"form_IPA\" : \"kirkumeaːminiː\" } ,\n",
    "101152: { \"form\" : \"circumeantur\" , \"form_IPA\" : \"kirkumeantur\" } ,\n",
    "101153: { \"form\" : \"circumīrer\" , \"form_IPA\" : \"kirkumiːrer\" } ,\n",
    "101154: { \"form\" : \"circumīrēris\" , \"form_IPA\" : \"kirkumiːreːris\" } ,\n",
    "101156: { \"form\" : \"circumīrēmur\" , \"form_IPA\" : \"kirkumiːreːmur\" } ,\n",
    "101157: { \"form\" : \"circumīrēminī\" , \"form_IPA\" : \"kirkumiːreːminiː\" } ,\n",
    "101158: { \"form\" : \"circumīrentur\" , \"form_IPA\" : \"kirkumiːrentur\" } ,\n",
    "101159: { \"form\" : \"circumīre\" , \"form_IPA\" : \"kirkumiːre\" } ,\n",
    "101160: { \"form\" : \"circumīminī\" , \"form_IPA\" : \"kirkumiːminiː\" } ,\n",
    "101161: { \"form\" : \"circumītor\" , \"form_IPA\" : \"kirkumiːtor\" } ,\n",
    "101162: { \"form\" : \"circumītor\" , \"form_IPA\" : \"kirkumiːtor\" } ,\n",
    "101163: { \"form\" : \"circumeuntor\" , \"form_IPA\" : \"kirkumeuntor\" } ,\n",
    "101169: { \"form\" : \"circumeundus\" , \"form_IPA\" : \"kirkumeundus\" } ,\n",
    "101170: { \"form\" : \"circumeunda\" , \"form_IPA\" : \"kirkumeunda\" } ,\n",
    "101171: { \"form\" : \"circumeundum\" , \"form_IPA\" : \"kirkumeundum\" } ,\n",
    "101172: { \"form\" : \"circumeundī\" , \"form_IPA\" : \"kirkumeundiː\" } ,\n",
    "101173: { \"form\" : \"circumeundae\" , \"form_IPA\" : \"kirkumeundaj\" } ,\n",
    "101174: { \"form\" : \"circumeundī\" , \"form_IPA\" : \"kirkumeundiː\" } ,\n",
    "101175: { \"form\" : \"circumeundō\" , \"form_IPA\" : \"kirkumeundoː\" } ,\n",
    "101176: { \"form\" : \"circumeundae\" , \"form_IPA\" : \"kirkumeundaj\" } ,\n",
    "101177: { \"form\" : \"circumeundō\" , \"form_IPA\" : \"kirkumeundoː\" } ,\n",
    "101178: { \"form\" : \"circumeundum\" , \"form_IPA\" : \"kirkumeundum\" } ,\n",
    "101179: { \"form\" : \"circumeundam\" , \"form_IPA\" : \"kirkumeundam\" } ,\n",
    "101181: { \"form\" : \"circumeunde\" , \"form_IPA\" : \"kirkumeunde\" } ,\n",
    "101182: { \"form\" : \"circumeunda\" , \"form_IPA\" : \"kirkumeunda\" } ,\n",
    "101183: { \"form\" : \"circumeundum\" , \"form_IPA\" : \"kirkumeundum\" } ,\n",
    "101184: { \"form\" : \"circumeundō\" , \"form_IPA\" : \"kirkumeundoː\" } ,\n",
    "101185: { \"form\" : \"circumeundā\" , \"form_IPA\" : \"kirkumeundaː\" } ,\n",
    "101186: { \"form\" : \"circumeundō\" , \"form_IPA\" : \"kirkumeundoː\" } ,\n",
    "101187: { \"form\" : \"circumeundī\" , \"form_IPA\" : \"kirkumeundiː\" } ,\n",
    "101188: { \"form\" : \"circumeundae\" , \"form_IPA\" : \"kirkumeundaj\" } ,\n",
    "101189: { \"form\" : \"circumeunda\" , \"form_IPA\" : \"kirkumeunda\" } ,\n",
    "101190: { \"form\" : \"circumeundōrum\" , \"form_IPA\" : \"kirkumeundoːrum\" } ,\n",
    "101191: { \"form\" : \"circumeundārum\" , \"form_IPA\" : \"kirkumeundaːrum\" } ,\n",
    "101192: { \"form\" : \"circumeundōrum\" , \"form_IPA\" : \"kirkumeundoːrum\" } ,\n",
    "101193: { \"form\" : \"circumeundīs\" , \"form_IPA\" : \"kirkumeundiːs\" } ,\n",
    "101194: { \"form\" : \"circumeundīs\" , \"form_IPA\" : \"kirkumeundiːs\" } ,\n",
    "101195: { \"form\" : \"circumeundīs\" , \"form_IPA\" : \"kirkumeundiːs\" } ,\n",
    "101196: { \"form\" : \"circumeundōs\" , \"form_IPA\" : \"kirkumeundoːs\" } ,\n",
    "101197: { \"form\" : \"circumeundās\" , \"form_IPA\" : \"kirkumeundaːs\" } ,\n",
    "101198: { \"form\" : \"circumeunda\" , \"form_IPA\" : \"kirkumeunda\" } ,\n",
    "101199: { \"form\" : \"circumeundī\" , \"form_IPA\" : \"kirkumeundiː\" } ,\n",
    "101200: { \"form\" : \"circumeundae\" , \"form_IPA\" : \"kirkumeundaj\" } ,\n",
    "101201: { \"form\" : \"circumeunda\" , \"form_IPA\" : \"kirkumeunda\" } ,\n",
    "101202: { \"form\" : \"circumeundīs\" , \"form_IPA\" : \"kirkumeundiːs\" } ,\n",
    "101203: { \"form\" : \"circumeundīs\" , \"form_IPA\" : \"kirkumeundiːs\" } ,\n",
    "101204: { \"form\" : \"circumeundīs\" , \"form_IPA\" : \"kirkumeundiːs\" } ,\n",
    "637577: { \"form\" : \"praetereor\" , \"form_IPA\" : \"prajtereor\" } ,\n",
    "637578: { \"form\" : \"praeterīris\" , \"form_IPA\" : \"prajteriːris\" } ,\n",
    "637580: { \"form\" : \"praeterīmur\" , \"form_IPA\" : \"prajteriːmur\" } ,\n",
    "637581: { \"form\" : \"praeterīminī\" , \"form_IPA\" : \"prajteriːminiː\" } ,\n",
    "637582: { \"form\" : \"praetereuntur\" , \"form_IPA\" : \"prajtereuntur\" } ,\n",
    "637583: { \"form\" : \"praeterībar\" , \"form_IPA\" : \"prajteriːbar\" } ,\n",
    "637584: { \"form\" : \"praeterībāris\" , \"form_IPA\" : \"prajteriːbaːris\" } ,\n",
    "637586: { \"form\" : \"praeterībāmur\" , \"form_IPA\" : \"prajteriːbaːmur\" } ,\n",
    "637587: { \"form\" : \"praeterībāminī\" , \"form_IPA\" : \"prajteriːbaːminiː\" } ,\n",
    "637588: { \"form\" : \"praeterībantur\" , \"form_IPA\" : \"prajteriːbantur\" } ,\n",
    "637589: { \"form\" : \"praeterībor\" , \"form_IPA\" : \"prajteriːbor\" } ,\n",
    "637590: { \"form\" : \"praeterīberis\" , \"form_IPA\" : \"prajteriːberis\" } ,\n",
    "637592: { \"form\" : \"praeterībimur\" , \"form_IPA\" : \"prajteriːbimur\" } ,\n",
    "637593: { \"form\" : \"praeterībiminī\" , \"form_IPA\" : \"prajteriːbiminiː\" } ,\n",
    "637594: { \"form\" : \"praeterībuntur\" , \"form_IPA\" : \"prajteriːbuntur\" } ,\n",
    "637595: { \"form\" : \"praeterear\" , \"form_IPA\" : \"prajterear\" } ,\n",
    "637596: { \"form\" : \"praetereāris\" , \"form_IPA\" : \"prajtereaːris\" } ,\n",
    "637598: { \"form\" : \"praetereāmur\" , \"form_IPA\" : \"prajtereaːmur\" } ,\n",
    "637599: { \"form\" : \"praetereāminī\" , \"form_IPA\" : \"prajtereaːminiː\" } ,\n",
    "637600: { \"form\" : \"praetereantur\" , \"form_IPA\" : \"prajtereantur\" } ,\n",
    "637601: { \"form\" : \"praeterīrer\" , \"form_IPA\" : \"prajteriːrer\" } ,\n",
    "637602: { \"form\" : \"praeterīrēris\" , \"form_IPA\" : \"prajteriːreːris\" } ,\n",
    "637604: { \"form\" : \"praeterīrēmur\" , \"form_IPA\" : \"prajteriːreːmur\" } ,\n",
    "637605: { \"form\" : \"praeterīrēminī\" , \"form_IPA\" : \"prajteriːreːminiː\" } ,\n",
    "637606: { \"form\" : \"praeterīrentur\" , \"form_IPA\" : \"prajteriːrentur\" } ,\n",
    "637607: { \"form\" : \"praeterīre\" , \"form_IPA\" : \"prajteriːre\" } ,\n",
    "637608: { \"form\" : \"praeterīminī\" , \"form_IPA\" : \"prajteriːminiː\" } ,\n",
    "637609: { \"form\" : \"praeterītor\" , \"form_IPA\" : \"prajteriːtor\" } ,\n",
    "637610: { \"form\" : \"praeterītor\" , \"form_IPA\" : \"prajteriːtor\" } ,\n",
    "637611: { \"form\" : \"praetereuntor\" , \"form_IPA\" : \"prajtereuntor\" } ,\n",
    "637617: { \"form\" : \"praetereundus\" , \"form_IPA\" : \"prajtereundus\" } ,\n",
    "637618: { \"form\" : \"praetereunda\" , \"form_IPA\" : \"prajtereunda\" } ,\n",
    "637619: { \"form\" : \"praetereundum\" , \"form_IPA\" : \"prajtereundum\" } ,\n",
    "637620: { \"form\" : \"praetereundī\" , \"form_IPA\" : \"prajtereundiː\" } ,\n",
    "637621: { \"form\" : \"praetereundae\" , \"form_IPA\" : \"prajtereundaj\" } ,\n",
    "637622: { \"form\" : \"praetereundī\" , \"form_IPA\" : \"prajtereundiː\" } ,\n",
    "637623: { \"form\" : \"praetereundō\" , \"form_IPA\" : \"prajtereundoː\" } ,\n",
    "637624: { \"form\" : \"praetereundae\" , \"form_IPA\" : \"prajtereundaj\" } ,\n",
    "637625: { \"form\" : \"praetereundō\" , \"form_IPA\" : \"prajtereundoː\" } ,\n",
    "637626: { \"form\" : \"praetereundum\" , \"form_IPA\" : \"prajtereundum\" } ,\n",
    "637627: { \"form\" : \"praetereundam\" , \"form_IPA\" : \"prajtereundam\" } ,\n",
    "637629: { \"form\" : \"praetereunde\" , \"form_IPA\" : \"prajtereunde\" } ,\n",
    "637630: { \"form\" : \"praetereunda\" , \"form_IPA\" : \"prajtereunda\" } ,\n",
    "637631: { \"form\" : \"praetereundum\" , \"form_IPA\" : \"prajtereundum\" } ,\n",
    "637632: { \"form\" : \"praetereundō\" , \"form_IPA\" : \"prajtereundoː\" } ,\n",
    "637633: { \"form\" : \"praetereundā\" , \"form_IPA\" : \"prajtereundaː\" } ,\n",
    "637634: { \"form\" : \"praetereundō\" , \"form_IPA\" : \"prajtereundoː\" } ,\n",
    "637635: { \"form\" : \"praetereundī\" , \"form_IPA\" : \"prajtereundiː\" } ,\n",
    "637636: { \"form\" : \"praetereundae\" , \"form_IPA\" : \"prajtereundaj\" } ,\n",
    "637637: { \"form\" : \"praetereunda\" , \"form_IPA\" : \"prajtereunda\" } ,\n",
    "637638: { \"form\" : \"praetereundōrum\" , \"form_IPA\" : \"prajtereundoːrum\" } ,\n",
    "637639: { \"form\" : \"praetereundārum\" , \"form_IPA\" : \"prajtereundaːrum\" } ,\n",
    "637640: { \"form\" : \"praetereundōrum\" , \"form_IPA\" : \"prajtereundoːrum\" } ,\n",
    "637641: { \"form\" : \"praetereundīs\" , \"form_IPA\" : \"prajtereundiːs\" } ,\n",
    "637642: { \"form\" : \"praetereundīs\" , \"form_IPA\" : \"prajtereundiːs\" } ,\n",
    "637643: { \"form\" : \"praetereundīs\" , \"form_IPA\" : \"prajtereundiːs\" } ,\n",
    "637644: { \"form\" : \"praetereundōs\" , \"form_IPA\" : \"prajtereundoːs\" } ,\n",
    "637645: { \"form\" : \"praetereundās\" , \"form_IPA\" : \"prajtereundaːs\" } ,\n",
    "637646: { \"form\" : \"praetereunda\" , \"form_IPA\" : \"prajtereunda\" } ,\n",
    "637647: { \"form\" : \"praetereundī\" , \"form_IPA\" : \"prajtereundiː\" } ,\n",
    "637648: { \"form\" : \"praetereundae\" , \"form_IPA\" : \"prajtereundaj\" } ,\n",
    "637649: { \"form\" : \"praetereunda\" , \"form_IPA\" : \"prajtereunda\" } ,\n",
    "637650: { \"form\" : \"praetereundīs\" , \"form_IPA\" : \"prajtereundiːs\" } ,\n",
    "637651: { \"form\" : \"praetereundīs\" , \"form_IPA\" : \"prajtereundiːs\" } ,\n",
    "637652: { \"form\" : \"praetereundīs\" , \"form_IPA\" : \"prajtereundiːs\" } ,\n",
    "672375: { \"form\" : \"queor\" , \"form_IPA\" : \"kweor\" } ,\n",
    "672376: { \"form\" : \"quīris\" , \"form_IPA\" : \"kwiːris\" } ,\n",
    "672378: { \"form\" : \"quīmur\" , \"form_IPA\" : \"kwiːmur\" } ,\n",
    "672379: { \"form\" : \"quīminī\" , \"form_IPA\" : \"kwiːminiː\" } ,\n",
    "672380: { \"form\" : \"queuntur\" , \"form_IPA\" : \"kweuntur\" } ,\n",
    "672381: { \"form\" : \"quībar\" , \"form_IPA\" : \"kwiːbar\" } ,\n",
    "672382: { \"form\" : \"quībāris\" , \"form_IPA\" : \"kwiːbaːris\" } ,\n",
    "672384: { \"form\" : \"quībāmur\" , \"form_IPA\" : \"kwiːbaːmur\" } ,\n",
    "672385: { \"form\" : \"quībāminī\" , \"form_IPA\" : \"kwiːbaːminiː\" } ,\n",
    "672386: { \"form\" : \"quībantur\" , \"form_IPA\" : \"kwiːbantur\" } ,\n",
    "672387: { \"form\" : \"quībor\" , \"form_IPA\" : \"kwiːbor\" } ,\n",
    "672388: { \"form\" : \"quīberis\" , \"form_IPA\" : \"kwiːberis\" } ,\n",
    "672390: { \"form\" : \"quībimur\" , \"form_IPA\" : \"kwiːbimur\" } ,\n",
    "672391: { \"form\" : \"quībiminī\" , \"form_IPA\" : \"kwiːbiminiː\" } ,\n",
    "672392: { \"form\" : \"quībuntur\" , \"form_IPA\" : \"kwiːbuntur\" } ,\n",
    "672393: { \"form\" : \"quear\" , \"form_IPA\" : \"kwear\" } ,\n",
    "672394: { \"form\" : \"queāris\" , \"form_IPA\" : \"kweaːris\" } ,\n",
    "672396: { \"form\" : \"queāmur\" , \"form_IPA\" : \"kweaːmur\" } ,\n",
    "672397: { \"form\" : \"queāminī\" , \"form_IPA\" : \"kweaːminiː\" } ,\n",
    "672398: { \"form\" : \"queantur\" , \"form_IPA\" : \"kweantur\" } ,\n",
    "672399: { \"form\" : \"quīrer\" , \"form_IPA\" : \"kwiːrer\" } ,\n",
    "672400: { \"form\" : \"quīrēris\" , \"form_IPA\" : \"kwiːreːris\" } ,\n",
    "672402: { \"form\" : \"quīrēmur\" , \"form_IPA\" : \"kwiːreːmur\" } ,\n",
    "672403: { \"form\" : \"quīrēminī\" , \"form_IPA\" : \"kwiːreːminiː\" } ,\n",
    "672404: { \"form\" : \"quīrentur\" , \"form_IPA\" : \"kwiːrentur\" } ,\n",
    "672405: { \"form\" : \"quīre\" , \"form_IPA\" : \"kwiːre\" } ,\n",
    "672406: { \"form\" : \"quīminī\" , \"form_IPA\" : \"kwiːminiː\" } ,\n",
    "672407: { \"form\" : \"quītor\" , \"form_IPA\" : \"kwiːtor\" } ,\n",
    "672408: { \"form\" : \"quītor\" , \"form_IPA\" : \"kwiːtor\" } ,\n",
    "672409: { \"form\" : \"queuntor\" , \"form_IPA\" : \"kweuntor\" } ,\n",
    "672415: { \"form\" : \"queundus\" , \"form_IPA\" : \"kweundus\" } ,\n",
    "672416: { \"form\" : \"queunda\" , \"form_IPA\" : \"kweunda\" } ,\n",
    "672417: { \"form\" : \"queundum\" , \"form_IPA\" : \"kweundum\" } ,\n",
    "672418: { \"form\" : \"queundī\" , \"form_IPA\" : \"kweundiː\" } ,\n",
    "672419: { \"form\" : \"queundae\" , \"form_IPA\" : \"kweundaj\" } ,\n",
    "672420: { \"form\" : \"queundī\" , \"form_IPA\" : \"kweundiː\" } ,\n",
    "672421: { \"form\" : \"queundō\" , \"form_IPA\" : \"kweundoː\" } ,\n",
    "672422: { \"form\" : \"queundae\" , \"form_IPA\" : \"kweundaj\" } ,\n",
    "672423: { \"form\" : \"queundō\" , \"form_IPA\" : \"kweundoː\" } ,\n",
    "672424: { \"form\" : \"queundum\" , \"form_IPA\" : \"kweundum\" } ,\n",
    "672425: { \"form\" : \"queundam\" , \"form_IPA\" : \"kweundam\" } ,\n",
    "672427: { \"form\" : \"queunde\" , \"form_IPA\" : \"kweunde\" } ,\n",
    "672428: { \"form\" : \"queunda\" , \"form_IPA\" : \"kweunda\" } ,\n",
    "672429: { \"form\" : \"queundum\" , \"form_IPA\" : \"kweundum\" } ,\n",
    "672430: { \"form\" : \"queundō\" , \"form_IPA\" : \"kweundoː\" } ,\n",
    "672431: { \"form\" : \"queundā\" , \"form_IPA\" : \"kweundaː\" } ,\n",
    "672432: { \"form\" : \"queundō\" , \"form_IPA\" : \"kweundoː\" } ,\n",
    "672433: { \"form\" : \"queundī\" , \"form_IPA\" : \"kweundiː\" } ,\n",
    "672434: { \"form\" : \"queundae\" , \"form_IPA\" : \"kweundaj\" } ,\n",
    "672435: { \"form\" : \"queunda\" , \"form_IPA\" : \"kweunda\" } ,\n",
    "672436: { \"form\" : \"queundōrum\" , \"form_IPA\" : \"kweundoːrum\" } ,\n",
    "672437: { \"form\" : \"queundārum\" , \"form_IPA\" : \"kweundaːrum\" } ,\n",
    "672438: { \"form\" : \"queundōrum\" , \"form_IPA\" : \"kweundoːrum\" } ,\n",
    "672439: { \"form\" : \"queundīs\" , \"form_IPA\" : \"kweundiːs\" } ,\n",
    "672440: { \"form\" : \"queundīs\" , \"form_IPA\" : \"kweundiːs\" } ,\n",
    "672441: { \"form\" : \"queundīs\" , \"form_IPA\" : \"kweundiːs\" } ,\n",
    "672442: { \"form\" : \"queundōs\" , \"form_IPA\" : \"kweundoːs\" } ,\n",
    "672443: { \"form\" : \"queundās\" , \"form_IPA\" : \"kweundaːs\" } ,\n",
    "672444: { \"form\" : \"queunda\" , \"form_IPA\" : \"kweunda\" } ,\n",
    "672445: { \"form\" : \"queundī\" , \"form_IPA\" : \"kweundiː\" } ,\n",
    "672446: { \"form\" : \"queundae\" , \"form_IPA\" : \"kweundaj\" } ,\n",
    "672447: { \"form\" : \"queunda\" , \"form_IPA\" : \"kweunda\" } ,\n",
    "672448: { \"form\" : \"queundīs\" , \"form_IPA\" : \"kweundiːs\" } ,\n",
    "672449: { \"form\" : \"queundīs\" , \"form_IPA\" : \"kweundiːs\" } ,\n",
    "672450: { \"form\" : \"queundīs\" , \"form_IPA\" : \"kweundiːs\" } ,\n",
    "768895: { \"form\" : \"subeor\" , \"form_IPA\" : \"subeor\" } ,\n",
    "768896: { \"form\" : \"subīris\" , \"form_IPA\" : \"subiːris\" } ,\n",
    "768898: { \"form\" : \"subīmur\" , \"form_IPA\" : \"subiːmur\" } ,\n",
    "768899: { \"form\" : \"subīminī\" , \"form_IPA\" : \"subiːminiː\" } ,\n",
    "768900: { \"form\" : \"subeuntur\" , \"form_IPA\" : \"subeuntur\" } ,\n",
    "768901: { \"form\" : \"subībar\" , \"form_IPA\" : \"subiːbar\" } ,\n",
    "768902: { \"form\" : \"subībāris\" , \"form_IPA\" : \"subiːbaːris\" } ,\n",
    "768904: { \"form\" : \"subībāmur\" , \"form_IPA\" : \"subiːbaːmur\" } ,\n",
    "768905: { \"form\" : \"subībāminī\" , \"form_IPA\" : \"subiːbaːminiː\" } ,\n",
    "768906: { \"form\" : \"subībantur\" , \"form_IPA\" : \"subiːbantur\" } ,\n",
    "768907: { \"form\" : \"subībor\" , \"form_IPA\" : \"subiːbor\" } ,\n",
    "768908: { \"form\" : \"subīberis\" , \"form_IPA\" : \"subiːberis\" } ,\n",
    "768910: { \"form\" : \"subībimur\" , \"form_IPA\" : \"subiːbimur\" } ,\n",
    "768911: { \"form\" : \"subībiminī\" , \"form_IPA\" : \"subiːbiminiː\" } ,\n",
    "768912: { \"form\" : \"subībuntur\" , \"form_IPA\" : \"subiːbuntur\" } ,\n",
    "768913: { \"form\" : \"subear\" , \"form_IPA\" : \"subear\" } ,\n",
    "768914: { \"form\" : \"subeāris\" , \"form_IPA\" : \"subeaːris\" } ,\n",
    "768916: { \"form\" : \"subeāmur\" , \"form_IPA\" : \"subeaːmur\" } ,\n",
    "768917: { \"form\" : \"subeāminī\" , \"form_IPA\" : \"subeaːminiː\" } ,\n",
    "768918: { \"form\" : \"subeantur\" , \"form_IPA\" : \"subeantur\" } ,\n",
    "768919: { \"form\" : \"subīrer\" , \"form_IPA\" : \"subiːrer\" } ,\n",
    "768920: { \"form\" : \"subīrēris\" , \"form_IPA\" : \"subiːreːris\" } ,\n",
    "768922: { \"form\" : \"subīrēmur\" , \"form_IPA\" : \"subiːreːmur\" } ,\n",
    "768923: { \"form\" : \"subīrēminī\" , \"form_IPA\" : \"subiːreːminiː\" } ,\n",
    "768924: { \"form\" : \"subīrentur\" , \"form_IPA\" : \"subiːrentur\" } ,\n",
    "768925: { \"form\" : \"subīre\" , \"form_IPA\" : \"subiːre\" } ,\n",
    "768926: { \"form\" : \"subīminī\" , \"form_IPA\" : \"subiːminiː\" } ,\n",
    "768927: { \"form\" : \"subītor\" , \"form_IPA\" : \"subiːtor\" } ,\n",
    "768928: { \"form\" : \"subītor\" , \"form_IPA\" : \"subiːtor\" } ,\n",
    "768929: { \"form\" : \"subeuntor\" , \"form_IPA\" : \"subeuntor\" } ,\n",
    "768935: { \"form\" : \"subeundus\" , \"form_IPA\" : \"subeundus\" } ,\n",
    "768936: { \"form\" : \"subeunda\" , \"form_IPA\" : \"subeunda\" } ,\n",
    "768937: { \"form\" : \"subeundum\" , \"form_IPA\" : \"subeundum\" } ,\n",
    "768938: { \"form\" : \"subeundī\" , \"form_IPA\" : \"subeundiː\" } ,\n",
    "768939: { \"form\" : \"subeundae\" , \"form_IPA\" : \"subeundaj\" } ,\n",
    "768940: { \"form\" : \"subeundī\" , \"form_IPA\" : \"subeundiː\" } ,\n",
    "768941: { \"form\" : \"subeundō\" , \"form_IPA\" : \"subeundoː\" } ,\n",
    "768942: { \"form\" : \"subeundae\" , \"form_IPA\" : \"subeundaj\" } ,\n",
    "768943: { \"form\" : \"subeundō\" , \"form_IPA\" : \"subeundoː\" } ,\n",
    "768944: { \"form\" : \"subeundum\" , \"form_IPA\" : \"subeundum\" } ,\n",
    "768945: { \"form\" : \"subeundam\" , \"form_IPA\" : \"subeundam\" } ,\n",
    "768947: { \"form\" : \"subeunde\" , \"form_IPA\" : \"subeunde\" } ,\n",
    "768948: { \"form\" : \"subeunda\" , \"form_IPA\" : \"subeunda\" } ,\n",
    "768949: { \"form\" : \"subeundum\" , \"form_IPA\" : \"subeundum\" } ,\n",
    "768950: { \"form\" : \"subeundō\" , \"form_IPA\" : \"subeundoː\" } ,\n",
    "768951: { \"form\" : \"subeundā\" , \"form_IPA\" : \"subeundaː\" } ,\n",
    "768952: { \"form\" : \"subeundō\" , \"form_IPA\" : \"subeundoː\" } ,\n",
    "768953: { \"form\" : \"subeundī\" , \"form_IPA\" : \"subeundiː\" } ,\n",
    "768954: { \"form\" : \"subeundae\" , \"form_IPA\" : \"subeundaj\" } ,\n",
    "768955: { \"form\" : \"subeunda\" , \"form_IPA\" : \"subeunda\" } ,\n",
    "768956: { \"form\" : \"subeundōrum\" , \"form_IPA\" : \"subeundoːrum\" } ,\n",
    "768957: { \"form\" : \"subeundārum\" , \"form_IPA\" : \"subeundaːrum\" } ,\n",
    "768958: { \"form\" : \"subeundōrum\" , \"form_IPA\" : \"subeundoːrum\" } ,\n",
    "768959: { \"form\" : \"subeundīs\" , \"form_IPA\" : \"subeundiːs\" } ,\n",
    "768960: { \"form\" : \"subeundīs\" , \"form_IPA\" : \"subeundiːs\" } ,\n",
    "768961: { \"form\" : \"subeundīs\" , \"form_IPA\" : \"subeundiːs\" } ,\n",
    "768962: { \"form\" : \"subeundōs\" , \"form_IPA\" : \"subeundoːs\" } ,\n",
    "768963: { \"form\" : \"subeundās\" , \"form_IPA\" : \"subeundaːs\" } ,\n",
    "768964: { \"form\" : \"subeunda\" , \"form_IPA\" : \"subeunda\" } ,\n",
    "768965: { \"form\" : \"subeundī\" , \"form_IPA\" : \"subeundiː\" } ,\n",
    "768966: { \"form\" : \"subeundae\" , \"form_IPA\" : \"subeundaj\" } ,\n",
    "768967: { \"form\" : \"subeunda\" , \"form_IPA\" : \"subeunda\" } ,\n",
    "768968: { \"form\" : \"subeundīs\" , \"form_IPA\" : \"subeundiːs\" } ,\n",
    "768969: { \"form\" : \"subeundīs\" , \"form_IPA\" : \"subeundiːs\" } ,\n",
    "768970: { \"form\" : \"subeundīs\" , \"form_IPA\" : \"subeundiːs\" } ,\n",
    "814107: { \"form\" : \"trānseor\" , \"form_IPA\" : \"traːnseor\" } ,\n",
    "814108: { \"form\" : \"trānsīris\" , \"form_IPA\" : \"traːnsiːris\" } ,\n",
    "814110: { \"form\" : \"trānsīmur\" , \"form_IPA\" : \"traːnsiːmur\" } ,\n",
    "814111: { \"form\" : \"trānsīminī\" , \"form_IPA\" : \"traːnsiːminiː\" } ,\n",
    "814112: { \"form\" : \"trānseuntur\" , \"form_IPA\" : \"traːnseuntur\" } ,\n",
    "814113: { \"form\" : \"trānsībar\" , \"form_IPA\" : \"traːnsiːbar\" } ,\n",
    "814114: { \"form\" : \"trānsībāris\" , \"form_IPA\" : \"traːnsiːbaːris\" } ,\n",
    "814116: { \"form\" : \"trānsībāmur\" , \"form_IPA\" : \"traːnsiːbaːmur\" } ,\n",
    "814117: { \"form\" : \"trānsībāminī\" , \"form_IPA\" : \"traːnsiːbaːminiː\" } ,\n",
    "814118: { \"form\" : \"trānsībantur\" , \"form_IPA\" : \"traːnsiːbantur\" } ,\n",
    "814119: { \"form\" : \"trānsībor\" , \"form_IPA\" : \"traːnsiːbor\" } ,\n",
    "814120: { \"form\" : \"trānsīberis\" , \"form_IPA\" : \"traːnsiːberis\" } ,\n",
    "814122: { \"form\" : \"trānsībimur\" , \"form_IPA\" : \"traːnsiːbimur\" } ,\n",
    "814123: { \"form\" : \"trānsībiminī\" , \"form_IPA\" : \"traːnsiːbiminiː\" } ,\n",
    "814124: { \"form\" : \"trānsībuntur\" , \"form_IPA\" : \"traːnsiːbuntur\" } ,\n",
    "814125: { \"form\" : \"trānsear\" , \"form_IPA\" : \"traːnsear\" } ,\n",
    "814126: { \"form\" : \"trānseāris\" , \"form_IPA\" : \"traːnseaːris\" } ,\n",
    "814128: { \"form\" : \"trānseāmur\" , \"form_IPA\" : \"traːnseaːmur\" } ,\n",
    "814129: { \"form\" : \"trānseāminī\" , \"form_IPA\" : \"traːnseaːminiː\" } ,\n",
    "814130: { \"form\" : \"trānseantur\" , \"form_IPA\" : \"traːnseantur\" } ,\n",
    "814131: { \"form\" : \"trānsīrer\" , \"form_IPA\" : \"traːnsiːrer\" } ,\n",
    "814132: { \"form\" : \"trānsīrēris\" , \"form_IPA\" : \"traːnsiːreːris\" } ,\n",
    "814134: { \"form\" : \"trānsīrēmur\" , \"form_IPA\" : \"traːnsiːreːmur\" } ,\n",
    "814135: { \"form\" : \"trānsīrēminī\" , \"form_IPA\" : \"traːnsiːreːminiː\" } ,\n",
    "814136: { \"form\" : \"trānsīrentur\" , \"form_IPA\" : \"traːnsiːrentur\" } ,\n",
    "814137: { \"form\" : \"trānsīre\" , \"form_IPA\" : \"traːnsiːre\" } ,\n",
    "814138: { \"form\" : \"trānsīminī\" , \"form_IPA\" : \"traːnsiːminiː\" } ,\n",
    "814139: { \"form\" : \"trānsītor\" , \"form_IPA\" : \"traːnsiːtor\" } ,\n",
    "814140: { \"form\" : \"trānsītor\" , \"form_IPA\" : \"traːnsiːtor\" } ,\n",
    "814141: { \"form\" : \"trānseuntor\" , \"form_IPA\" : \"traːnseuntor\" } ,\n",
    "814147: { \"form\" : \"trānseundus\" , \"form_IPA\" : \"traːnseundus\" } ,\n",
    "814148: { \"form\" : \"trānseunda\" , \"form_IPA\" : \"traːnseunda\" } ,\n",
    "814149: { \"form\" : \"trānseundum\" , \"form_IPA\" : \"traːnseundum\" } ,\n",
    "814150: { \"form\" : \"trānseundī\" , \"form_IPA\" : \"traːnseundiː\" } ,\n",
    "814151: { \"form\" : \"trānseundae\" , \"form_IPA\" : \"traːnseundaj\" } ,\n",
    "814152: { \"form\" : \"trānseundī\" , \"form_IPA\" : \"traːnseundiː\" } ,\n",
    "814153: { \"form\" : \"trānseundō\" , \"form_IPA\" : \"traːnseundoː\" } ,\n",
    "814154: { \"form\" : \"trānseundae\" , \"form_IPA\" : \"traːnseundaj\" } ,\n",
    "814155: { \"form\" : \"trānseundō\" , \"form_IPA\" : \"traːnseundoː\" } ,\n",
    "814156: { \"form\" : \"trānseundum\" , \"form_IPA\" : \"traːnseundum\" } ,\n",
    "814157: { \"form\" : \"trānseundam\" , \"form_IPA\" : \"traːnseundam\" } ,\n",
    "814159: { \"form\" : \"trānseunde\" , \"form_IPA\" : \"traːnseunde\" } ,\n",
    "814160: { \"form\" : \"trānseunda\" , \"form_IPA\" : \"traːnseunda\" } ,\n",
    "814161: { \"form\" : \"trānseundum\" , \"form_IPA\" : \"traːnseundum\" } ,\n",
    "814162: { \"form\" : \"trānseundō\" , \"form_IPA\" : \"traːnseundoː\" } ,\n",
    "814163: { \"form\" : \"trānseundā\" , \"form_IPA\" : \"traːnseundaː\" } ,\n",
    "814164: { \"form\" : \"trānseundō\" , \"form_IPA\" : \"traːnseundoː\" } ,\n",
    "814165: { \"form\" : \"trānseundī\" , \"form_IPA\" : \"traːnseundiː\" } ,\n",
    "814166: { \"form\" : \"trānseundae\" , \"form_IPA\" : \"traːnseundaj\" } ,\n",
    "814167: { \"form\" : \"trānseunda\" , \"form_IPA\" : \"traːnseunda\" } ,\n",
    "814168: { \"form\" : \"trānseundōrum\" , \"form_IPA\" : \"traːnseundoːrum\" } ,\n",
    "814169: { \"form\" : \"trānseundārum\" , \"form_IPA\" : \"traːnseundaːrum\" } ,\n",
    "814170: { \"form\" : \"trānseundōrum\" , \"form_IPA\" : \"traːnseundoːrum\" } ,\n",
    "814171: { \"form\" : \"trānseundīs\" , \"form_IPA\" : \"traːnseundiːs\" } ,\n",
    "814172: { \"form\" : \"trānseundīs\" , \"form_IPA\" : \"traːnseundiːs\" } ,\n",
    "814173: { \"form\" : \"trānseundīs\" , \"form_IPA\" : \"traːnseundiːs\" } ,\n",
    "814174: { \"form\" : \"trānseundōs\" , \"form_IPA\" : \"traːnseundoːs\" } ,\n",
    "814175: { \"form\" : \"trānseundās\" , \"form_IPA\" : \"traːnseundaːs\" } ,\n",
    "814176: { \"form\" : \"trānseunda\" , \"form_IPA\" : \"traːnseunda\" } ,\n",
    "814177: { \"form\" : \"trānseundī\" , \"form_IPA\" : \"traːnseundiː\" } ,\n",
    "814178: { \"form\" : \"trānseundae\" , \"form_IPA\" : \"traːnseundaj\" } ,\n",
    "814179: { \"form\" : \"trānseunda\" , \"form_IPA\" : \"traːnseunda\" } ,\n",
    "814180: { \"form\" : \"trānseundīs\" , \"form_IPA\" : \"traːnseundiːs\" } ,\n",
    "814181: { \"form\" : \"trānseundīs\" , \"form_IPA\" : \"traːnseundiːs\" } ,\n",
    "814182: { \"form\" : \"trānseundīs\" , \"form_IPA\" : \"traːnseundiːs\" } ,\n",
    "833157: { \"form\" : \"uēneor\" , \"form_IPA\" : \"weːneor\" } ,\n",
    "833158: { \"form\" : \"uēnīris\" , \"form_IPA\" : \"weːniːris\" } ,\n",
    "833160: { \"form\" : \"uēnīmur\" , \"form_IPA\" : \"weːniːmur\" } ,\n",
    "833161: { \"form\" : \"uēnīminī\" , \"form_IPA\" : \"weːniːminiː\" } ,\n",
    "833162: { \"form\" : \"uēneuntur\" , \"form_IPA\" : \"weːneuntur\" } ,\n",
    "833163: { \"form\" : \"uēnībar\" , \"form_IPA\" : \"weːniːbar\" } ,\n",
    "833164: { \"form\" : \"uēnībāris\" , \"form_IPA\" : \"weːniːbaːris\" } ,\n",
    "833166: { \"form\" : \"uēnībāmur\" , \"form_IPA\" : \"weːniːbaːmur\" } ,\n",
    "833167: { \"form\" : \"uēnībāminī\" , \"form_IPA\" : \"weːniːbaːminiː\" } ,\n",
    "833168: { \"form\" : \"uēnībantur\" , \"form_IPA\" : \"weːniːbantur\" } ,\n",
    "833169: { \"form\" : \"uēnībor\" , \"form_IPA\" : \"weːniːbor\" } ,\n",
    "833170: { \"form\" : \"uēnīberis\" , \"form_IPA\" : \"weːniːberis\" } ,\n",
    "833172: { \"form\" : \"uēnībimur\" , \"form_IPA\" : \"weːniːbimur\" } ,\n",
    "833173: { \"form\" : \"uēnībiminī\" , \"form_IPA\" : \"weːniːbiminiː\" } ,\n",
    "833174: { \"form\" : \"uēnībuntur\" , \"form_IPA\" : \"weːniːbuntur\" } ,\n",
    "833175: { \"form\" : \"uēnear\" , \"form_IPA\" : \"weːnear\" } ,\n",
    "833176: { \"form\" : \"uēneāris\" , \"form_IPA\" : \"weːneaːris\" } ,\n",
    "833178: { \"form\" : \"uēneāmur\" , \"form_IPA\" : \"weːneaːmur\" } ,\n",
    "833179: { \"form\" : \"uēneāminī\" , \"form_IPA\" : \"weːneaːminiː\" } ,\n",
    "833180: { \"form\" : \"uēneantur\" , \"form_IPA\" : \"weːneantur\" } ,\n",
    "833181: { \"form\" : \"uēnīrer\" , \"form_IPA\" : \"weːniːrer\" } ,\n",
    "833182: { \"form\" : \"uēnīrēris\" , \"form_IPA\" : \"weːniːreːris\" } ,\n",
    "833184: { \"form\" : \"uēnīrēmur\" , \"form_IPA\" : \"weːniːreːmur\" } ,\n",
    "833185: { \"form\" : \"uēnīrēminī\" , \"form_IPA\" : \"weːniːreːminiː\" } ,\n",
    "833186: { \"form\" : \"uēnīrentur\" , \"form_IPA\" : \"weːniːrentur\" } ,\n",
    "833187: { \"form\" : \"uēnīre\" , \"form_IPA\" : \"weːniːre\" } ,\n",
    "833188: { \"form\" : \"uēnīminī\" , \"form_IPA\" : \"weːniːminiː\" } ,\n",
    "833189: { \"form\" : \"uēnītor\" , \"form_IPA\" : \"weːniːtor\" } ,\n",
    "833190: { \"form\" : \"uēnītor\" , \"form_IPA\" : \"weːniːtor\" } ,\n",
    "833191: { \"form\" : \"uēneuntor\" , \"form_IPA\" : \"weːneuntor\" } ,\n",
    "833197: { \"form\" : \"uēneundus\" , \"form_IPA\" : \"weːneundus\" } ,\n",
    "833198: { \"form\" : \"uēneunda\" , \"form_IPA\" : \"weːneunda\" } ,\n",
    "833199: { \"form\" : \"uēneundum\" , \"form_IPA\" : \"weːneundum\" } ,\n",
    "833200: { \"form\" : \"uēneundī\" , \"form_IPA\" : \"weːneundiː\" } ,\n",
    "833201: { \"form\" : \"uēneundae\" , \"form_IPA\" : \"weːneundaj\" } ,\n",
    "833202: { \"form\" : \"uēneundī\" , \"form_IPA\" : \"weːneundiː\" } ,\n",
    "833203: { \"form\" : \"uēneundō\" , \"form_IPA\" : \"weːneundoː\" } ,\n",
    "833204: { \"form\" : \"uēneundae\" , \"form_IPA\" : \"weːneundaj\" } ,\n",
    "833205: { \"form\" : \"uēneundō\" , \"form_IPA\" : \"weːneundoː\" } ,\n",
    "833206: { \"form\" : \"uēneundum\" , \"form_IPA\" : \"weːneundum\" } ,\n",
    "833207: { \"form\" : \"uēneundam\" , \"form_IPA\" : \"weːneundam\" } ,\n",
    "833209: { \"form\" : \"uēneunde\" , \"form_IPA\" : \"weːneunde\" } ,\n",
    "833210: { \"form\" : \"uēneunda\" , \"form_IPA\" : \"weːneunda\" } ,\n",
    "833211: { \"form\" : \"uēneundum\" , \"form_IPA\" : \"weːneundum\" } ,\n",
    "833212: { \"form\" : \"uēneundō\" , \"form_IPA\" : \"weːneundoː\" } ,\n",
    "833213: { \"form\" : \"uēneundā\" , \"form_IPA\" : \"weːneundaː\" } ,\n",
    "833214: { \"form\" : \"uēneundō\" , \"form_IPA\" : \"weːneundoː\" } ,\n",
    "833215: { \"form\" : \"uēneundī\" , \"form_IPA\" : \"weːneundiː\" } ,\n",
    "833216: { \"form\" : \"uēneundae\" , \"form_IPA\" : \"weːneundaj\" } ,\n",
    "833217: { \"form\" : \"uēneunda\" , \"form_IPA\" : \"weːneunda\" } ,\n",
    "833218: { \"form\" : \"uēneundōrum\" , \"form_IPA\" : \"weːneundoːrum\" } ,\n",
    "833219: { \"form\" : \"uēneundārum\" , \"form_IPA\" : \"weːneundaːrum\" } ,\n",
    "833220: { \"form\" : \"uēneundōrum\" , \"form_IPA\" : \"weːneundoːrum\" } ,\n",
    "833221: { \"form\" : \"uēneundīs\" , \"form_IPA\" : \"weːneundiːs\" } ,\n",
    "833222: { \"form\" : \"uēneundīs\" , \"form_IPA\" : \"weːneundiːs\" } ,\n",
    "833223: { \"form\" : \"uēneundīs\" , \"form_IPA\" : \"weːneundiːs\" } ,\n",
    "833224: { \"form\" : \"uēneundōs\" , \"form_IPA\" : \"weːneundoːs\" } ,\n",
    "833225: { \"form\" : \"uēneundās\" , \"form_IPA\" : \"weːneundaːs\" } ,\n",
    "833226: { \"form\" : \"uēneunda\" , \"form_IPA\" : \"weːneunda\" } ,\n",
    "833227: { \"form\" : \"uēneundī\" , \"form_IPA\" : \"weːneundiː\" } ,\n",
    "833228: { \"form\" : \"uēneundae\" , \"form_IPA\" : \"weːneundaj\" } ,\n",
    "833229: { \"form\" : \"uēneunda\" , \"form_IPA\" : \"weːneunda\" } ,\n",
    "833230: { \"form\" : \"uēneundīs\" , \"form_IPA\" : \"weːneundiːs\" } ,\n",
    "833231: { \"form\" : \"uēneundīs\" , \"form_IPA\" : \"weːneundiːs\" } ,\n",
    "833232: { \"form\" : \"uēneundīs\" , \"form_IPA\" : \"weːneundiːs\" }\n",
    "}"
   ]
  },
  {
   "cell_type": "code",
   "execution_count": 134,
   "id": "8e2c8f52-33e9-49fb-a683-9b9cdff676fc",
   "metadata": {},
   "outputs": [],
   "source": [
    "for row in changes_verbs:\n",
    "    #print(row)\n",
    "    for column in changes_verbs[row]:\n",
    "        #print(column)\n",
    "        #print(changes[row][column])\n",
    "        LatInfLexi_verbs.loc[row,column] = changes_verbs[row][column]"
   ]
  },
  {
   "cell_type": "code",
   "execution_count": 135,
   "id": "1fd9990b-218d-4a4c-ac68-4037c1326450",
   "metadata": {},
   "outputs": [],
   "source": [
    "changes_nouns = {\n",
    "# removing capital letters introduced by excel for \"falso\" and \"uero\"\n",
    "3638: { \"form\" : \"falsō\"},\n",
    "3641: { \"form\" : \"falsō\"},\n",
    "11870: { \"form\" : \"uērō\"},\n",
    "11873: { \"form\" : \"uērō\"}\n",
    "}"
   ]
  },
  {
   "cell_type": "code",
   "execution_count": 136,
   "id": "b5645de1-099e-4edc-bc08-84a653497579",
   "metadata": {},
   "outputs": [],
   "source": [
    "for row in changes_nouns:\n",
    "    #print(row)\n",
    "    for column in changes_nouns[row]:\n",
    "        #print(column)\n",
    "        #print(changes[row][column])\n",
    "        LatInfLexi_nouns.loc[row,column] = changes_nouns[row][column]"
   ]
  },
  {
   "cell_type": "markdown",
   "id": "385280e7-04ff-4992-b1b1-dbe707d7fc00",
   "metadata": {},
   "source": [
    "# Distinguishing defective cells from missing data"
   ]
  },
  {
   "cell_type": "code",
   "execution_count": 137,
   "id": "746b98d6-3472-49e1-8d96-fadff4593d51",
   "metadata": {},
   "outputs": [],
   "source": [
    "defective_verbs = pd.read_csv(\"./etc/verbs_defectiveness_mapping_manual.csv\", sep=\"\\t\", index_col=\"lexeme\")\n",
    "defective_nouns = pd.read_csv(\"./etc/nouns_defectiveness_mapping_manual.csv\", sep=\"\\t\", index_col=\"lexeme\")"
   ]
  },
  {
   "cell_type": "code",
   "execution_count": 138,
   "id": "3bd84e8c-1e5e-409c-b068-34fdf843b1ec",
   "metadata": {},
   "outputs": [],
   "source": [
    "for i in LatInfLexi_nouns.index:\n",
    "    if LatInfLexi_nouns.loc[i,\"form\"] == \"#DEF#\" and LatInfLexi_nouns.loc[i,\"form_IPA\"] == \"#DEF#\" :\n",
    "        if defective_nouns.loc[LatInfLexi_nouns.loc[i,\"lexeme\"],\"systematicDefectiveness\"] != \"plurale tantum\":\n",
    "            LatInfLexi_nouns.loc[i,\"form\"] = \"\"\n",
    "            LatInfLexi_nouns.loc[i,\"form_IPA\"] = \"\"\n",
    "            #print(LatInfLexi_nouns.loc[i,\"lexeme\"],LatInfLexi_nouns.loc[i,\"PoSTag:features\"],LatInfLexi_nouns.loc[i,\"form_IPA\"],type(LatInfLexi_nouns.loc[i,\"form_IPA\"]))"
   ]
  },
  {
   "cell_type": "code",
   "execution_count": 139,
   "id": "a8633dcb-fcbb-4641-8bcc-933af6e1c51f",
   "metadata": {},
   "outputs": [],
   "source": [
    "LatInfLexi_nouns = LatInfLexi_nouns[LatInfLexi_nouns[\"form\"] != \"\"]"
   ]
  },
  {
   "cell_type": "code",
   "execution_count": 140,
   "id": "4d93a37d-b1db-4086-99df-9dd636b7f118",
   "metadata": {},
   "outputs": [],
   "source": [
    "never_defective_cells = ['VERB:Sup+-+-+-+Act+-+-+Acc+-', 'VERB:Sup+-+-+-+Pass+-+-+Abl+-', 'VERB:Part+-+Past+Perf+Pass+-+Sing+Nom+Masc', 'VERB:Part+-+Past+Perf+Pass+-+Sing+Nom+Fem', 'VERB:Part+-+Past+Perf+Pass+-+Sing+Nom+Neut', 'VERB:Part+-+Past+Perf+Pass+-+Sing+Gen+Masc', 'VERB:Part+-+Past+Perf+Pass+-+Sing+Gen+Fem', 'VERB:Part+-+Past+Perf+Pass+-+Sing+Gen+Neut', 'VERB:Part+-+Past+Perf+Pass+-+Sing+Dat+Masc', 'VERB:Part+-+Past+Perf+Pass+-+Sing+Dat+Fem', 'VERB:Part+-+Past+Perf+Pass+-+Sing+Dat+Neut', 'VERB:Part+-+Past+Perf+Pass+-+Sing+Acc+Masc', 'VERB:Part+-+Past+Perf+Pass+-+Sing+Acc+Fem', 'VERB:Part+-+Past+Perf+Pass+-+Sing+Acc+Neut', 'VERB:Part+-+Past+Perf+Pass+-+Sing+Voc+Masc', 'VERB:Part+-+Past+Perf+Pass+-+Sing+Voc+Fem', 'VERB:Part+-+Past+Perf+Pass+-+Sing+Voc+Neut', 'VERB:Part+-+Past+Perf+Pass+-+Sing+Abl+Masc', 'VERB:Part+-+Past+Perf+Pass+-+Sing+Abl+Fem', 'VERB:Part+-+Past+Perf+Pass+-+Sing+Abl+Neut', 'VERB:Part+-+Past+Perf+Pass+-+Plur+Nom+Masc', 'VERB:Part+-+Past+Perf+Pass+-+Plur+Nom+Fem', 'VERB:Part+-+Past+Perf+Pass+-+Plur+Nom+Neut', 'VERB:Part+-+Past+Perf+Pass+-+Plur+Gen+Masc', 'VERB:Part+-+Past+Perf+Pass+-+Plur+Gen+Fem', 'VERB:Part+-+Past+Perf+Pass+-+Plur+Gen+Neut', 'VERB:Part+-+Past+Perf+Pass+-+Plur+Dat+Masc', 'VERB:Part+-+Past+Perf+Pass+-+Plur+Dat+Fem', 'VERB:Part+-+Past+Perf+Pass+-+Plur+Dat+Neut', 'VERB:Part+-+Past+Perf+Pass+-+Plur+Acc+Masc', 'VERB:Part+-+Past+Perf+Pass+-+Plur+Acc+Fem', 'VERB:Part+-+Past+Perf+Pass+-+Plur+Acc+Neut', 'VERB:Part+-+Past+Perf+Pass+-+Plur+Voc+Masc', 'VERB:Part+-+Past+Perf+Pass+-+Plur+Voc+Fem', 'VERB:Part+-+Past+Perf+Pass+-+Plur+Voc+Neut', 'VERB:Part+-+Past+Perf+Pass+-+Plur+Abl+Masc', 'VERB:Part+-+Past+Perf+Pass+-+Plur+Abl+Fem', 'VERB:Part+-+Past+Perf+Pass+-+Plur+Abl+Neut', 'VERB:Part+-+Fut+-+Act+-+Sing+Nom+Masc', 'VERB:Part+-+Fut+-+Act+-+Sing+Nom+Fem', 'VERB:Part+-+Fut+-+Act+-+Sing+Nom+Neut', 'VERB:Part+-+Fut+-+Act+-+Sing+Gen+Masc', 'VERB:Part+-+Fut+-+Act+-+Sing+Gen+Fem', 'VERB:Part+-+Fut+-+Act+-+Sing+Gen+Neut', 'VERB:Part+-+Fut+-+Act+-+Sing+Dat+Masc', 'VERB:Part+-+Fut+-+Act+-+Sing+Dat+Fem', 'VERB:Part+-+Fut+-+Act+-+Sing+Dat+Neut', 'VERB:Part+-+Fut+-+Act+-+Sing+Acc+Masc', 'VERB:Part+-+Fut+-+Act+-+Sing+Acc+Fem', 'VERB:Part+-+Fut+-+Act+-+Sing+Acc+Neut', 'VERB:Part+-+Fut+-+Act+-+Sing+Voc+Masc', 'VERB:Part+-+Fut+-+Act+-+Sing+Voc+Fem', 'VERB:Part+-+Fut+-+Act+-+Sing+Voc+Neut', 'VERB:Part+-+Fut+-+Act+-+Sing+Abl+Masc', 'VERB:Part+-+Fut+-+Act+-+Sing+Abl+Fem', 'VERB:Part+-+Fut+-+Act+-+Sing+Abl+Neut', 'VERB:Part+-+Fut+-+Act+-+Plur+Nom+Masc', 'VERB:Part+-+Fut+-+Act+-+Plur+Nom+Fem', 'VERB:Part+-+Fut+-+Act+-+Plur+Nom+Neut', 'VERB:Part+-+Fut+-+Act+-+Plur+Gen+Masc', 'VERB:Part+-+Fut+-+Act+-+Plur+Gen+Fem', 'VERB:Part+-+Fut+-+Act+-+Plur+Gen+Neut', 'VERB:Part+-+Fut+-+Act+-+Plur+Dat+Masc', 'VERB:Part+-+Fut+-+Act+-+Plur+Dat+Fem', 'VERB:Part+-+Fut+-+Act+-+Plur+Dat+Neut', 'VERB:Part+-+Fut+-+Act+-+Plur+Acc+Masc', 'VERB:Part+-+Fut+-+Act+-+Plur+Acc+Fem', 'VERB:Part+-+Fut+-+Act+-+Plur+Acc+Neut', 'VERB:Part+-+Fut+-+Act+-+Plur+Voc+Masc', 'VERB:Part+-+Fut+-+Act+-+Plur+Voc+Fem', 'VERB:Part+-+Fut+-+Act+-+Plur+Voc+Neut', 'VERB:Part+-+Fut+-+Act+-+Plur+Abl+Masc', 'VERB:Part+-+Fut+-+Act+-+Plur+Abl+Fem', 'VERB:Part+-+Fut+-+Act+-+Plur+Abl+Neut']"
   ]
  },
  {
   "cell_type": "code",
   "execution_count": null,
   "id": "bb39dcd2-8e95-4246-8b6b-7969e759ae27",
   "metadata": {},
   "outputs": [
    {
     "name": "stderr",
     "output_type": "stream",
     "text": [
      " 93%|████████████████████████████████████████████████████████████████████     | 793074/850392 [08:47<01:55, 496.91it/s]"
     ]
    }
   ],
   "source": [
    "for i in tqdm(LatInfLexi_verbs.index):\n",
    "    if LatInfLexi_verbs.loc[i,\"form\"] == \"#DEF#\" and LatInfLexi_verbs.loc[i,\"form_IPA\"] == \"#DEF#\":\n",
    "        if defective_verbs.loc[LatInfLexi_verbs.loc[i,\"lexeme\"],\"systematicDefectiveness\"] == \"none\" or LatInfLexi_verbs.loc[i,\"PoSTag:features\"] in never_defective_cells:\n",
    "            LatInfLexi_verbs.loc[i,\"form\"] = \"\"\n",
    "            LatInfLexi_verbs.loc[i,\"form_IPA\"] = \"\"\n",
    "            #print(LatInfLexi_verbs.loc[i,\"lexeme\"],LatInfLexi_verbs.loc[i,\"PoSTag:features\"],LatInfLexi_verbs.loc[i,\"form_IPA\"],type(LatInfLexi_verbs.loc[i,\"form_IPA\"]))"
   ]
  },
  {
   "cell_type": "code",
   "execution_count": null,
   "id": "51d59e6d-2d6f-4e08-92dc-08f337783165",
   "metadata": {},
   "outputs": [],
   "source": [
    "LatInfLexi_verbs = LatInfLexi_verbs[LatInfLexi_verbs[\"form\"] != \"\"]"
   ]
  },
  {
   "cell_type": "markdown",
   "id": "e22f228abea29755",
   "metadata": {
    "collapsed": false,
    "jupyter": {
     "outputs_hidden": false
    }
   },
   "source": [
    "# Combining forms tables"
   ]
  },
  {
   "cell_type": "markdown",
   "id": "d3221180c97d6912",
   "metadata": {
    "collapsed": false,
    "jupyter": {
     "outputs_hidden": false
    }
   },
   "source": [
    "Adding POS"
   ]
  },
  {
   "cell_type": "code",
   "execution_count": null,
   "id": "10d820ea",
   "metadata": {
    "ExecuteTime": {
     "end_time": "2023-11-21T13:00:57.971809516Z",
     "start_time": "2023-11-21T13:00:57.949544775Z"
    }
   },
   "outputs": [],
   "source": [
    "LatInfLexi_verbs[\"POS\"] = \"verb\"\n",
    "LatInfLexi_nouns[\"POS\"] = \"noun\""
   ]
  },
  {
   "cell_type": "markdown",
   "id": "40bb8cc2f2095405",
   "metadata": {
    "collapsed": false,
    "jupyter": {
     "outputs_hidden": false
    }
   },
   "source": [
    "Generating form_id"
   ]
  },
  {
   "cell_type": "code",
   "execution_count": null,
   "id": "1a75d1017c405c42",
   "metadata": {
    "ExecuteTime": {
     "end_time": "2023-11-21T13:00:58.124742878Z",
     "start_time": "2023-11-21T13:00:57.957949501Z"
    },
    "collapsed": false,
    "jupyter": {
     "outputs_hidden": false
    }
   },
   "outputs": [],
   "source": [
    "def add_form_id(df, suffix=\"\"):\n",
    "    df.index.name = \"form_id\"\n",
    "    df.reset_index(inplace=True)\n",
    "    df[\"form_id\"] = \"form_\" + df[\"form_id\"].apply(str) + suffix\n",
    "\n",
    "add_form_id(LatInfLexi_verbs, \"_v\")\n",
    "add_form_id(LatInfLexi_nouns, \"_n\")"
   ]
  },
  {
   "cell_type": "markdown",
   "id": "b6c3e4cdd55bee24",
   "metadata": {
    "collapsed": false,
    "jupyter": {
     "outputs_hidden": false
    }
   },
   "source": [
    "Concatenating forms tables:"
   ]
  },
  {
   "cell_type": "code",
   "execution_count": null,
   "id": "19af8e84219aa94b",
   "metadata": {
    "ExecuteTime": {
     "end_time": "2023-11-21T13:00:58.201850861Z",
     "start_time": "2023-11-21T13:00:58.124578719Z"
    },
    "collapsed": false,
    "jupyter": {
     "outputs_hidden": false
    }
   },
   "outputs": [],
   "source": [
    "LatInfLexi_forms = pd.concat([LatInfLexi_verbs, LatInfLexi_nouns])"
   ]
  },
  {
   "cell_type": "markdown",
   "id": "cc3f84079a4187d",
   "metadata": {
    "collapsed": false,
    "jupyter": {
     "outputs_hidden": false
    }
   },
   "source": [
    "# Converting forms to Paralex format"
   ]
  },
  {
   "cell_type": "markdown",
   "id": "8b4b27e741d8ff6",
   "metadata": {
    "collapsed": false,
    "jupyter": {
     "outputs_hidden": false
    }
   },
   "source": [
    "Obtaining columns in Paralex format:"
   ]
  },
  {
   "cell_type": "code",
   "execution_count": null,
   "id": "73d9fe66",
   "metadata": {
    "ExecuteTime": {
     "end_time": "2023-11-21T13:00:58.207228624Z",
     "start_time": "2023-11-21T13:00:58.189356148Z"
    }
   },
   "outputs": [],
   "source": [
    "col_map = {\"form\": \"orth_form\", \"form_IPA\": \"phon_form\", \"PoSTag:features\": \"cell\",\n",
    "           \"freqTFTL\":\"frequency\",\n",
    "           \"freqAntiquitas\":\"frequency_Antiquitas\" ,\n",
    "           \"freqAetasPatrum\":\"frequency_AetasPatrum\",\n",
    "            \"freqMediumAeuum\":\"frequency_MediumAeuum\",\n",
    "            \"freqRecentiorLatinitas\":\"frequency_RecentiorLatinitas\"\n",
    "           }\n",
    "LatInfLexi_forms.rename(col_map, axis=1, inplace=True)"
   ]
  },
  {
   "cell_type": "markdown",
   "id": "eb75402379a88c4a",
   "metadata": {
    "collapsed": false,
    "jupyter": {
     "outputs_hidden": false
    }
   },
   "source": [
    "Mapping cells to new scheme:"
   ]
  },
  {
   "cell_type": "code",
   "execution_count": null,
   "id": "5e1f7c0173511219",
   "metadata": {
    "ExecuteTime": {
     "end_time": "2023-11-21T13:00:58.258968619Z",
     "start_time": "2023-11-21T13:00:58.195513272Z"
    },
    "collapsed": false,
    "jupyter": {
     "outputs_hidden": false
    }
   },
   "outputs": [],
   "source": [
    "LatInfLexi_cells_mapper = LatInfLexi_cells.set_index(\"LatInFlexi-cell\").cell_id.to_dict()\n",
    "LatInfLexi_forms.loc[:,\"cell\"] = LatInfLexi_forms.cell.map(LatInfLexi_cells_mapper)"
   ]
  },
  {
   "cell_type": "code",
   "execution_count": null,
   "id": "8385f70c72669fad",
   "metadata": {
    "ExecuteTime": {
     "end_time": "2023-11-21T13:00:58.276812826Z",
     "start_time": "2023-11-21T13:00:58.233922805Z"
    },
    "collapsed": false,
    "jupyter": {
     "outputs_hidden": false
    }
   },
   "outputs": [],
   "source": [
    "LatInfLexi_forms.sample(5)"
   ]
  },
  {
   "cell_type": "markdown",
   "id": "fcd4b3795e3a761",
   "metadata": {
    "collapsed": false,
    "jupyter": {
     "outputs_hidden": false
    }
   },
   "source": [
    "Setting form_id as index"
   ]
  },
  {
   "cell_type": "code",
   "execution_count": null,
   "id": "169f36eee87e7e85",
   "metadata": {
    "ExecuteTime": {
     "end_time": "2023-11-21T13:00:58.421537348Z",
     "start_time": "2023-11-21T13:00:58.276071229Z"
    }
   },
   "outputs": [],
   "source": [
    "LatInfLexi_forms = LatInfLexi_forms.set_index(\"form_id\")"
   ]
  },
  {
   "cell_type": "code",
   "execution_count": null,
   "id": "5b00c561095c1be6",
   "metadata": {
    "ExecuteTime": {
     "end_time": "2023-11-21T13:00:58.453597203Z",
     "start_time": "2023-11-21T13:00:58.402685989Z"
    },
    "collapsed": false,
    "jupyter": {
     "outputs_hidden": false
    }
   },
   "outputs": [],
   "source": [
    "LatInfLexi_forms"
   ]
  },
  {
   "cell_type": "markdown",
   "id": "e45f928a882fe366",
   "metadata": {
    "collapsed": false,
    "jupyter": {
     "outputs_hidden": false
    }
   },
   "source": [
    "Adding stress"
   ]
  },
  {
   "cell_type": "code",
   "execution_count": null,
   "id": "a1347d8fd04d2543",
   "metadata": {
    "ExecuteTime": {
     "end_time": "2023-11-21T13:01:02.498239734Z",
     "start_time": "2023-11-21T13:00:58.443958281Z"
    },
    "collapsed": false,
    "jupyter": {
     "outputs_hidden": false
    }
   },
   "outputs": [],
   "source": [
    "C = r\"b|d|ɡ|m|n|l|r|z|p|pʰ|f|t|tʰ|s|k|kʰ|h\"\n",
    "V = r\"waj|[jw][aeiouy]ː|[aeiouy]ː?|[jw][aeiouy]|[aeiouy][jw]\"\n",
    "segmenter = f\"(?:{C}|({V}))*?\"\n",
    "\n",
    "\n",
    "def search_vowels(word):\n",
    "    segmented = regex.fullmatch(segmenter, word)\n",
    "    return segmented.spans(1)\n",
    "\n",
    "def find_latin_stress(word):\n",
    "\n",
    "    if word == \"#DEF#\" or word == \"\":\n",
    "        return word\n",
    "\n",
    "    def stress(idxs):\n",
    "        i = idxs[0]\n",
    "        if word[i] in 'wj':\n",
    "            i += 1\n",
    "        return word[:i] + \"ˈ\" + word[i:]\n",
    "\n",
    "    indexes = search_vowels(word)\n",
    "\n",
    "    # 2 syllables or less => stress first syllable\n",
    "    if len(indexes) <= 2:\n",
    "        return stress(indexes[0])\n",
    "\n",
    "    *_, antepenult, penult, ultimate = indexes\n",
    "\n",
    "    # If the penult has a long vowel it is stressed\n",
    "    if word[slice(*penult)][-1] in {\"ː\", \"j\", \"w\"}:\n",
    "        return stress(penult)\n",
    "\n",
    "    # Single C after the penult => short penult => stress antepenult\n",
    "    if (ultimate[0] - penult[1]) < 2:\n",
    "        return stress(antepenult)\n",
    "\n",
    "    # For the rest, it depends on the consonant sequence\n",
    "    c_seq = word[penult[1]:ultimate[0]]\n",
    "    cl = re.compile(\"^[bdɡpctd]ʰ?[rl]$\")\n",
    "\n",
    "    # C seq is a liquid cluster => short penult => stress antepenult\n",
    "    if cl.match(c_seq):\n",
    "        return stress(antepenult)\n",
    "\n",
    "    # other C sequence => long penult => stress penult\n",
    "    return stress(penult)\n",
    "\n",
    "\n",
    "LatInfLexi_forms.loc[:, \"phon_form\"] = LatInfLexi_forms[\"phon_form\"].apply(find_latin_stress)"
   ]
  },
  {
   "cell_type": "markdown",
   "id": "e38f366aa4d7ba3e",
   "metadata": {
    "collapsed": false,
    "jupyter": {
     "outputs_hidden": false
    }
   },
   "source": [
    "Separating sounds with spaces"
   ]
  },
  {
   "cell_type": "code",
   "execution_count": null,
   "id": "4f0c826681ed2758",
   "metadata": {
    "ExecuteTime": {
     "end_time": "2023-11-21T13:01:05.076581395Z",
     "start_time": "2023-11-21T13:01:02.482146700Z"
    },
    "collapsed": false,
    "jupyter": {
     "outputs_hidden": false
    }
   },
   "outputs": [],
   "source": [
    "def splitter(series, split_pattern):\n",
    "    series = series.str.split(pat=split_pattern, regex=True)\n",
    "    return series.apply(lambda x: \" \".join([char for char in x if char]))\n",
    "\n",
    "sounds = ['b', 'd', 'ɡ', 'm', 'n', 'l', 'r', 'z', 'p', 'pʰ', 'f', 't', 'tʰ', 's', 'k', 'kʰ', 'h', 'j', 'w', 'a', 'aː', 'e', 'eː', 'i', 'iː', 'o', 'oː', 'u', 'uː', 'ˈa', 'ˈaː', 'ˈe', 'ˈeː', 'ˈi', 'ˈiː', 'ˈo', 'ˈoː', 'ˈu', 'ˈuː', 'ˈy', 'ˈyː']\n",
    "split_pattern = \"(\" + \"|\".join(sorted(sounds, key=len, reverse=True)) + \")\"\n",
    "LatInfLexi_forms[\"phon_form\"] = splitter(LatInfLexi_forms[\"phon_form\"], split_pattern)"
   ]
  },
  {
   "cell_type": "markdown",
   "id": "bd06721f2f1b9648",
   "metadata": {
    "collapsed": false,
    "jupyter": {
     "outputs_hidden": false
    }
   },
   "source": [
    "# Adjusting the transcription"
   ]
  },
  {
   "cell_type": "code",
   "execution_count": null,
   "id": "9cf1ca089764139a",
   "metadata": {
    "ExecuteTime": {
     "end_time": "2023-11-21T13:01:05.085900582Z",
     "start_time": "2023-11-21T13:01:05.076921200Z"
    },
    "collapsed": false,
    "jupyter": {
     "outputs_hidden": false
    }
   },
   "outputs": [],
   "source": [
    "# Adding frequencies to the cells"
   ]
  },
  {
   "cell_type": "code",
   "execution_count": null,
   "id": "e99c21980bc47764",
   "metadata": {
    "ExecuteTime": {
     "end_time": "2023-11-21T13:01:05.132604231Z",
     "start_time": "2023-11-21T13:01:05.079288975Z"
    },
    "collapsed": false,
    "jupyter": {
     "outputs_hidden": false
    }
   },
   "outputs": [],
   "source": [
    "cells_freq = LatInfLexi_forms.groupby(\"cell\")[[\"frequency\", \n",
    "                                              \"frequency_Antiquitas\",\n",
    "                                              \"frequency_AetasPatrum\",\n",
    "                                              \"frequency_MediumAeuum\",\n",
    "                                              \"frequency_RecentiorLatinitas\"]].agg(sum)\n",
    "cells_freq.index.name = \"cell_id\""
   ]
  },
  {
   "cell_type": "code",
   "execution_count": null,
   "id": "24ba7b8138dde3b3",
   "metadata": {
    "ExecuteTime": {
     "end_time": "2023-11-21T13:01:05.133589871Z",
     "start_time": "2023-11-21T13:01:05.121449584Z"
    },
    "collapsed": false,
    "jupyter": {
     "outputs_hidden": false
    }
   },
   "outputs": [],
   "source": [
    "cells_freq"
   ]
  },
  {
   "cell_type": "code",
   "execution_count": null,
   "id": "3fc2a0ced4b9ad34",
   "metadata": {
    "ExecuteTime": {
     "end_time": "2023-11-21T13:01:05.133764734Z",
     "start_time": "2023-11-21T13:01:05.123932297Z"
    },
    "collapsed": false,
    "jupyter": {
     "outputs_hidden": false
    }
   },
   "outputs": [],
   "source": [
    "LatInfLexi_cells.set_index(\"cell_id\", inplace=True)"
   ]
  },
  {
   "cell_type": "code",
   "execution_count": null,
   "id": "a619e9d137255c83",
   "metadata": {
    "ExecuteTime": {
     "end_time": "2023-11-21T13:01:05.133912013Z",
     "start_time": "2023-11-21T13:01:05.128034659Z"
    },
    "collapsed": false,
    "jupyter": {
     "outputs_hidden": false
    }
   },
   "outputs": [],
   "source": [
    "LatInfLexi_cells = pd.merge(LatInfLexi_cells, cells_freq, left_index=True, right_index=True)"
   ]
  },
  {
   "cell_type": "markdown",
   "id": "996f2e0ca5858551",
   "metadata": {
    "collapsed": false,
    "jupyter": {
     "outputs_hidden": false
    }
   },
   "source": [
    "# Creating the lexemes table"
   ]
  },
  {
   "cell_type": "code",
   "execution_count": null,
   "id": "8c9f645aa7c0e0ee",
   "metadata": {
    "ExecuteTime": {
     "end_time": "2023-11-21T13:01:05.263446165Z",
     "start_time": "2023-11-21T13:01:05.132922798Z"
    },
    "collapsed": false,
    "jupyter": {
     "outputs_hidden": false
    }
   },
   "outputs": [],
   "source": [
    "LatInfLexi_lexemes = LatInfLexi_forms.groupby([\"lexeme\", \"POS\"])[[\"frequency\", \n",
    "                                                                      \"frequency_Antiquitas\",\n",
    "                                                                      \"frequency_AetasPatrum\",\n",
    "                                                                      \"frequency_MediumAeuum\",\n",
    "                                                                      \"frequency_RecentiorLatinitas\"]].agg(sum).reset_index(\"POS\", drop=False)\n",
    "LatInfLexi_lexemes.index.name = \"lexeme_id\""
   ]
  },
  {
   "cell_type": "code",
   "execution_count": null,
   "id": "5923bce1f2a1e9f8",
   "metadata": {
    "ExecuteTime": {
     "end_time": "2023-11-21T13:01:05.264557558Z",
     "start_time": "2023-11-21T13:01:05.227951300Z"
    },
    "collapsed": false,
    "jupyter": {
     "outputs_hidden": false
    }
   },
   "outputs": [],
   "source": [
    "LatInfLexi_lexemes"
   ]
  },
  {
   "cell_type": "markdown",
   "id": "c89e335f2ff3e020",
   "metadata": {
    "collapsed": false,
    "jupyter": {
     "outputs_hidden": false
    }
   },
   "source": [
    "# Output"
   ]
  },
  {
   "cell_type": "markdown",
   "id": "1a71f72f1ce3fa47",
   "metadata": {
    "collapsed": false,
    "jupyter": {
     "outputs_hidden": false
    }
   },
   "source": [
    "Writing it all to file"
   ]
  },
  {
   "cell_type": "code",
   "execution_count": null,
   "id": "f7472c11",
   "metadata": {
    "ExecuteTime": {
     "end_time": "2023-11-21T13:01:06.936662866Z",
     "start_time": "2023-11-21T13:01:05.228154427Z"
    },
    "collapsed": false,
    "jupyter": {
     "outputs_hidden": false
    }
   },
   "outputs": [],
   "source": [
    "LatInfLexi_lexemes.to_csv(\"LatInfLexi-lexemes.csv\")\n",
    "LatInfLexi_forms.to_csv(\"LatInfLexi-forms.csv\")\n",
    "LatInfLexi_cells.to_csv(\"LatInfLexi-cells.csv\")"
   ]
  },
  {
   "cell_type": "markdown",
   "id": "4bfe5c4cfeff0d95",
   "metadata": {
    "collapsed": false,
    "jupyter": {
     "outputs_hidden": false
    }
   },
   "source": [
    "Remove temporary files from v1.1"
   ]
  },
  {
   "cell_type": "code",
   "execution_count": null,
   "id": "dbb1715d99b9881b",
   "metadata": {
    "ExecuteTime": {
     "end_time": "2023-11-21T13:01:06.992333360Z",
     "start_time": "2023-11-21T13:01:06.938291821Z"
    },
    "collapsed": false,
    "jupyter": {
     "outputs_hidden": false
    }
   },
   "outputs": [],
   "source": [
    "%%bash\n",
    "rm LatInfLexi-nouns.csv\n",
    "rm LatInfLexi-verbs.csv\n"
   ]
  },
  {
   "cell_type": "code",
   "execution_count": null,
   "id": "81f6407878dfcb5d",
   "metadata": {
    "ExecuteTime": {
     "end_time": "2023-11-21T13:01:06.992676076Z",
     "start_time": "2023-11-21T13:01:06.992115294Z"
    },
    "collapsed": false,
    "jupyter": {
     "outputs_hidden": false
    }
   },
   "outputs": [],
   "source": []
  }
 ],
 "metadata": {
  "kernelspec": {
   "display_name": "Python 3 (ipykernel)",
   "language": "python",
   "name": "python3"
  },
  "language_info": {
   "codemirror_mode": {
    "name": "ipython",
    "version": 3
   },
   "file_extension": ".py",
   "mimetype": "text/x-python",
   "name": "python",
   "nbconvert_exporter": "python",
   "pygments_lexer": "ipython3",
   "version": "3.12.0"
  }
 },
 "nbformat": 4,
 "nbformat_minor": 5
}
