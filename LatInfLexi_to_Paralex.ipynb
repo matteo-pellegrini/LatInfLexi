{
 "cells": [
  {
   "cell_type": "code",
   "execution_count": 1,
   "id": "7000cf02",
   "metadata": {
    "ExecuteTime": {
     "end_time": "2023-11-21T13:00:57.182042012Z",
     "start_time": "2023-11-21T13:00:56.919440671Z"
    }
   },
   "outputs": [],
   "source": [
    "import pandas as pd\n",
    "import numpy as np\n",
    "import re\n",
    "import regex\n",
    "\n",
    "from tqdm import tqdm\n",
    "tqdm.pandas()"
   ]
  },
  {
   "cell_type": "markdown",
   "id": "767dbea641a13100",
   "metadata": {
    "collapsed": false,
    "jupyter": {
     "outputs_hidden": false
    }
   },
   "source": [
    "# Reading cells "
   ]
  },
  {
   "cell_type": "markdown",
   "id": "66f4c69b0cc6d94b",
   "metadata": {
    "collapsed": false,
    "jupyter": {
     "outputs_hidden": false
    }
   },
   "source": [
    "We have manually made tables in `etc/`, we just annotate them with POS and concatenate to make a single table:"
   ]
  },
  {
   "cell_type": "code",
   "execution_count": 2,
   "id": "bda42d78ed60358b",
   "metadata": {
    "ExecuteTime": {
     "end_time": "2023-11-21T13:00:57.182361126Z",
     "start_time": "2023-11-21T13:00:57.159986055Z"
    },
    "collapsed": false,
    "jupyter": {
     "outputs_hidden": false
    }
   },
   "outputs": [],
   "source": [
    "LatInfLexi_verbs_cells = pd.read_csv(\"etc/LatInfLexi-verbs_cells.csv\")\n",
    "LatInfLexi_verbs_cells[\"POS\"] = \"verb\"\n",
    "LatInfLexi_nouns_cells = pd.read_csv(\"etc/LatInfLexi-nouns_cells.csv\")\n",
    "LatInfLexi_nouns_cells[\"POS\"] = \"noun\"\n",
    "LatInfLexi_cells = pd.concat([LatInfLexi_verbs_cells, LatInfLexi_nouns_cells])"
   ]
  },
  {
   "cell_type": "markdown",
   "id": "48c462897f155180",
   "metadata": {
    "collapsed": false,
    "jupyter": {
     "outputs_hidden": false
    }
   },
   "source": [
    "# Reading forms"
   ]
  },
  {
   "cell_type": "markdown",
   "id": "115b19a4fd6e13ea",
   "metadata": {
    "collapsed": false,
    "jupyter": {
     "outputs_hidden": false
    }
   },
   "source": [
    "We get the previous version's forms"
   ]
  },
  {
   "cell_type": "code",
   "execution_count": 3,
   "id": "67cc46312e698bb2",
   "metadata": {
    "ExecuteTime": {
     "end_time": "2023-11-21T13:00:57.309573258Z",
     "start_time": "2023-11-21T13:00:57.160176902Z"
    },
    "collapsed": false,
    "jupyter": {
     "outputs_hidden": false
    }
   },
   "outputs": [],
   "source": [
    "%%bash \n",
    "git checkout v1.1 -- LatInfLexi-nouns.csv\n",
    "git checkout v1.1 -- LatInfLexi-verbs.csv"
   ]
  },
  {
   "cell_type": "markdown",
   "id": "75b626c8d40b19dc",
   "metadata": {
    "collapsed": false,
    "jupyter": {
     "outputs_hidden": false
    }
   },
   "source": [
    "We read these tables"
   ]
  },
  {
   "cell_type": "code",
   "execution_count": 4,
   "id": "2792d387",
   "metadata": {
    "ExecuteTime": {
     "end_time": "2023-11-21T13:00:57.935037040Z",
     "start_time": "2023-11-21T13:00:57.311536958Z"
    }
   },
   "outputs": [],
   "source": [
    "LatInfLexi_verbs = pd.read_csv(\"LatInfLexi-verbs.csv\")\n",
    "LatInfLexi_nouns = pd.read_csv(\"LatInfLexi-nouns.csv\")"
   ]
  },
  {
   "cell_type": "markdown",
   "id": "77d9c9b0-a6da-4d62-aaab-b2bd5167de71",
   "metadata": {},
   "source": [
    "# Making some corrections"
   ]
  },
  {
   "cell_type": "code",
   "execution_count": 6,
   "id": "95dfa07a-3ffc-40e2-86fb-7e6dc9db99f3",
   "metadata": {},
   "outputs": [],
   "source": [
    "changes = {\n",
    "# vowel length in the present system of lexeme \"praescisco\" (and consequently IPA transcriptions) \n",
    "633730: { \"form\" : \"praescīscō\" , \"form_IPA\" : \"prajskiːskoː\" } ,\n",
    "633731: { \"form\" : \"praescīscis\" , \"form_IPA\" : \"prajskiːskis\" } ,\n",
    "633732: { \"form\" : \"praescīscit\" , \"form_IPA\" : \"prajskiːskit\" } ,\n",
    "633733: { \"form\" : \"praescīscimus\" , \"form_IPA\" : \"prajskiːskimus\" } ,\n",
    "633734: { \"form\" : \"praescīscitis\" , \"form_IPA\" : \"prajskiːskitis\" } ,\n",
    "633735: { \"form\" : \"praescīscunt\" , \"form_IPA\" : \"prajskiːskunt\" } ,\n",
    "633736: { \"form\" : \"praescīscēbam\" , \"form_IPA\" : \"prajskiːskeːbam\" } ,\n",
    "633737: { \"form\" : \"praescīscēbās\" , \"form_IPA\" : \"prajskiːskeːbaːs\" } ,\n",
    "633738: { \"form\" : \"praescīscēbat\" , \"form_IPA\" : \"prajskiːskeːbat\" } ,\n",
    "633739: { \"form\" : \"praescīscēbāmus\" , \"form_IPA\" : \"prajskiːskeːbaːmus\" } ,\n",
    "633740: { \"form\" : \"praescīscēbātis\" , \"form_IPA\" : \"prajskiːskeːbaːtis\" } ,\n",
    "633741: { \"form\" : \"praescīscēbant\" , \"form_IPA\" : \"prajskiːskeːbant\" } ,\n",
    "633742: { \"form\" : \"praescīscam\" , \"form_IPA\" : \"prajskiːskam\" } ,\n",
    "633743: { \"form\" : \"praescīscēs\" , \"form_IPA\" : \"prajskiːskeːs\" } ,\n",
    "633744: { \"form\" : \"praescīscet\" , \"form_IPA\" : \"prajskiːsket\" } ,\n",
    "633745: { \"form\" : \"praescīscēmus\" , \"form_IPA\" : \"prajskiːskeːmus\" } ,\n",
    "633746: { \"form\" : \"praescīscētis\" , \"form_IPA\" : \"prajskiːskeːtis\" } ,\n",
    "633747: { \"form\" : \"praescīscent\" , \"form_IPA\" : \"prajskiːskent\" } ,\n",
    "633748: { \"form\" : \"praescīscam\" , \"form_IPA\" : \"prajskiːskam\" } ,\n",
    "633749: { \"form\" : \"praescīscās\" , \"form_IPA\" : \"prajskiːskaːs\" } ,\n",
    "633750: { \"form\" : \"praescīscat\" , \"form_IPA\" : \"prajskiːskat\" } ,\n",
    "633751: { \"form\" : \"praescīscāmus\" , \"form_IPA\" : \"prajskiːskaːmus\" } ,\n",
    "633752: { \"form\" : \"praescīscātis\" , \"form_IPA\" : \"prajskiːskaːtis\" } ,\n",
    "633753: { \"form\" : \"praescīscant\" , \"form_IPA\" : \"prajskiːskant\" } ,\n",
    "633754: { \"form\" : \"praescīscerem\" , \"form_IPA\" : \"prajskiːskerem\" } ,\n",
    "633755: { \"form\" : \"praescīscerēs\" , \"form_IPA\" : \"prajskiːskereːs\" } ,\n",
    "633756: { \"form\" : \"praescīsceret\" , \"form_IPA\" : \"prajskiːskeret\" } ,\n",
    "633757: { \"form\" : \"praescīscerēmus\" , \"form_IPA\" : \"prajskiːskereːmus\" } ,\n",
    "633758: { \"form\" : \"praescīscerētis\" , \"form_IPA\" : \"prajskiːskereːtis\" } ,\n",
    "633759: { \"form\" : \"praescīscerent\" , \"form_IPA\" : \"prajskiːskerent\" } ,\n",
    "633760: { \"form\" : \"praescīsce\" , \"form_IPA\" : \"prajskiːske\" } ,\n",
    "633761: { \"form\" : \"praescīscite\" , \"form_IPA\" : \"prajskiːskite\" } ,\n",
    "633762: { \"form\" : \"praescīscitō\" , \"form_IPA\" : \"prajskiːskitoː\" } ,\n",
    "633763: { \"form\" : \"praescīscitō\" , \"form_IPA\" : \"prajskiːskitoː\" } ,\n",
    "633764: { \"form\" : \"praescīscitōte\" , \"form_IPA\" : \"prajskiːskitoːte\" } ,\n",
    "633765: { \"form\" : \"praescīscuntō\" , \"form_IPA\" : \"prajskiːskuntoː\" } ,\n",
    "633766: { \"form\" : \"praescīscere\" , \"form_IPA\" : \"prajskiːskere\" } ,\n",
    "633767: { \"form\" : \"praescīscor\" , \"form_IPA\" : \"prajskiːskor\" } ,\n",
    "633768: { \"form\" : \"praescīsceris\" , \"form_IPA\" : \"prajskiːskeris\" } ,\n",
    "633769: { \"form\" : \"praescīscitur\" , \"form_IPA\" : \"prajskiːskitur\" } ,\n",
    "633770: { \"form\" : \"praescīscimur\" , \"form_IPA\" : \"prajskiːskimur\" } ,\n",
    "633771: { \"form\" : \"praescīsciminī\" , \"form_IPA\" : \"prajskiːskiminiː\" } ,\n",
    "633772: { \"form\" : \"praescīscuntur\" , \"form_IPA\" : \"prajskiːskuntur\" } ,\n",
    "633773: { \"form\" : \"praescīscēbar\" , \"form_IPA\" : \"prajskiːskeːbar\" } ,\n",
    "633774: { \"form\" : \"praescīscēbāris\" , \"form_IPA\" : \"prajskiːskeːbaːris\" } ,\n",
    "633775: { \"form\" : \"praescīscēbātur\" , \"form_IPA\" : \"prajskiːskeːbaːtur\" } ,\n",
    "633776: { \"form\" : \"praescīscēbāmur\" , \"form_IPA\" : \"prajskiːskeːbaːmur\" } ,\n",
    "633777: { \"form\" : \"praescīscēbāminī\" , \"form_IPA\" : \"prajskiːskeːbaːminiː\" } ,\n",
    "633778: { \"form\" : \"praescīscēbantur\" , \"form_IPA\" : \"prajskiːskeːbantur\" } ,\n",
    "633779: { \"form\" : \"praescīscar\" , \"form_IPA\" : \"prajskiːskar\" } ,\n",
    "633780: { \"form\" : \"praescīscēris\" , \"form_IPA\" : \"prajskiːskeːris\" } ,\n",
    "633781: { \"form\" : \"praescīscētur\" , \"form_IPA\" : \"prajskiːskeːtur\" } ,\n",
    "633782: { \"form\" : \"praescīscēmur\" , \"form_IPA\" : \"prajskiːskeːmur\" } ,\n",
    "633783: { \"form\" : \"praescīscēminī\" , \"form_IPA\" : \"prajskiːskeːminiː\" } ,\n",
    "633784: { \"form\" : \"praescīscentur\" , \"form_IPA\" : \"prajskiːskentur\" } ,\n",
    "633785: { \"form\" : \"praescīscar\" , \"form_IPA\" : \"prajskiːskar\" } ,\n",
    "633786: { \"form\" : \"praescīscāris\" , \"form_IPA\" : \"prajskiːskaːris\" } ,\n",
    "633787: { \"form\" : \"praescīscātur\" , \"form_IPA\" : \"prajskiːskaːtur\" } ,\n",
    "633788: { \"form\" : \"praescīscāmur\" , \"form_IPA\" : \"prajskiːskaːmur\" } ,\n",
    "633789: { \"form\" : \"praescīscāminī\" , \"form_IPA\" : \"prajskiːskaːminiː\" } ,\n",
    "633790: { \"form\" : \"praescīscantur\" , \"form_IPA\" : \"prajskiːskantur\" } ,\n",
    "633791: { \"form\" : \"praescīscerer\" , \"form_IPA\" : \"prajskiːskerer\" } ,\n",
    "633792: { \"form\" : \"praescīscerēris\" , \"form_IPA\" : \"prajskiːskereːris\" } ,\n",
    "633793: { \"form\" : \"praescīscerētur\" , \"form_IPA\" : \"prajskiːskereːtur\" } ,\n",
    "633794: { \"form\" : \"praescīscerēmur\" , \"form_IPA\" : \"prajskiːskereːmur\" } ,\n",
    "633795: { \"form\" : \"praescīscerēminī\" , \"form_IPA\" : \"prajskiːskereːminiː\" } ,\n",
    "633796: { \"form\" : \"praescīscerentur\" , \"form_IPA\" : \"prajskiːskerentur\" } ,\n",
    "633797: { \"form\" : \"praescīscere\" , \"form_IPA\" : \"prajskiːskere\" } ,\n",
    "633798: { \"form\" : \"praescīsciminī\" , \"form_IPA\" : \"prajskiːskiminiː\" } ,\n",
    "633799: { \"form\" : \"praescīscitor\" , \"form_IPA\" : \"prajskiːskitor\" } ,\n",
    "633800: { \"form\" : \"praescīscitor\" , \"form_IPA\" : \"prajskiːskitor\" } ,\n",
    "633801: { \"form\" : \"praescīscuntor\" , \"form_IPA\" : \"prajskiːskuntor\" } ,\n",
    "633802: { \"form\" : \"praescīscī\" , \"form_IPA\" : \"prajskiːskiː\" } ,\n",
    "633803: { \"form\" : \"praescīscendī\" , \"form_IPA\" : \"prajskiːskendiː\" } ,\n",
    "633804: { \"form\" : \"praescīscendō\" , \"form_IPA\" : \"prajskiːskendoː\" } ,\n",
    "633805: { \"form\" : \"praescīscendum\" , \"form_IPA\" : \"prajskiːskendum\" } ,\n",
    "633806: { \"form\" : \"praescīscendō\" , \"form_IPA\" : \"prajskiːskendoː\" } ,\n",
    "633807: { \"form\" : \"praescīscendus\" , \"form_IPA\" : \"prajskiːskendus\" } ,\n",
    "633808: { \"form\" : \"praescīscenda\" , \"form_IPA\" : \"prajskiːskenda\" } ,\n",
    "633809: { \"form\" : \"praescīscendum\" , \"form_IPA\" : \"prajskiːskendum\" } ,\n",
    "633810: { \"form\" : \"praescīscendī\" , \"form_IPA\" : \"prajskiːskendiː\" } ,\n",
    "633811: { \"form\" : \"praescīscendae\" , \"form_IPA\" : \"prajskiːskendaj\" } ,\n",
    "633812: { \"form\" : \"praescīscendī\" , \"form_IPA\" : \"prajskiːskendiː\" } ,\n",
    "633813: { \"form\" : \"praescīscendō\" , \"form_IPA\" : \"prajskiːskendoː\" } ,\n",
    "633814: { \"form\" : \"praescīscendae\" , \"form_IPA\" : \"prajskiːskendaj\" } ,\n",
    "633815: { \"form\" : \"praescīscendō\" , \"form_IPA\" : \"prajskiːskendoː\" } ,\n",
    "633816: { \"form\" : \"praescīscendum\" , \"form_IPA\" : \"prajskiːskendum\" } ,\n",
    "633817: { \"form\" : \"praescīscendam\" , \"form_IPA\" : \"prajskiːskendam\" } ,\n",
    "633818: { \"form\" : \"praescīscendum\" , \"form_IPA\" : \"prajskiːskendum\" } ,\n",
    "633819: { \"form\" : \"praescīscende\" , \"form_IPA\" : \"prajskiːskende\" } ,\n",
    "633820: { \"form\" : \"praescīscenda\" , \"form_IPA\" : \"prajskiːskenda\" } ,\n",
    "633821: { \"form\" : \"praescīscendum\" , \"form_IPA\" : \"prajskiːskendum\" } ,\n",
    "633822: { \"form\" : \"praescīscendō\" , \"form_IPA\" : \"prajskiːskendoː\" } ,\n",
    "633823: { \"form\" : \"praescīscendā\" , \"form_IPA\" : \"prajskiːskendaː\" } ,\n",
    "633824: { \"form\" : \"praescīscendō\" , \"form_IPA\" : \"prajskiːskendoː\" } ,\n",
    "633825: { \"form\" : \"praescīscendī\" , \"form_IPA\" : \"prajskiːskendiː\" } ,\n",
    "633826: { \"form\" : \"praescīscendae\" , \"form_IPA\" : \"prajskiːskendaj\" } ,\n",
    "633827: { \"form\" : \"praescīscenda\" , \"form_IPA\" : \"prajskiːskenda\" } ,\n",
    "633828: { \"form\" : \"praescīscendōrum\" , \"form_IPA\" : \"prajskiːskendoːrum\" } ,\n",
    "633829: { \"form\" : \"praescīscendārum\" , \"form_IPA\" : \"prajskiːskendaːrum\" } ,\n",
    "633830: { \"form\" : \"praescīscendōrum\" , \"form_IPA\" : \"prajskiːskendoːrum\" } ,\n",
    "633831: { \"form\" : \"praescīscendīs\" , \"form_IPA\" : \"prajskiːskendiːs\" } ,\n",
    "633832: { \"form\" : \"praescīscendīs\" , \"form_IPA\" : \"prajskiːskendiːs\" } ,\n",
    "633833: { \"form\" : \"praescīscendīs\" , \"form_IPA\" : \"prajskiːskendiːs\" } ,\n",
    "633834: { \"form\" : \"praescīscendōs\" , \"form_IPA\" : \"prajskiːskendoːs\" } ,\n",
    "633835: { \"form\" : \"praescīscendās\" , \"form_IPA\" : \"prajskiːskendaːs\" } ,\n",
    "633836: { \"form\" : \"praescīscenda\" , \"form_IPA\" : \"prajskiːskenda\" } ,\n",
    "633837: { \"form\" : \"praescīscendī\" , \"form_IPA\" : \"prajskiːskendiː\" } ,\n",
    "633838: { \"form\" : \"praescīscendae\" , \"form_IPA\" : \"prajskiːskendaj\" } ,\n",
    "633839: { \"form\" : \"praescīscenda\" , \"form_IPA\" : \"prajskiːskenda\" } ,\n",
    "633840: { \"form\" : \"praescīscendīs\" , \"form_IPA\" : \"prajskiːskendiːs\" } ,\n",
    "633841: { \"form\" : \"praescīscendīs\" , \"form_IPA\" : \"prajskiːskendiːs\" } ,\n",
    "633842: { \"form\" : \"praescīscendīs\" , \"form_IPA\" : \"prajskiːskendiːs\" } ,\n",
    "633843: { \"form\" : \"praescīscēns\" , \"form_IPA\" : \"prajskiːskeːns\" } ,\n",
    "633844: { \"form\" : \"praescīscēns\" , \"form_IPA\" : \"prajskiːskeːns\" } ,\n",
    "633845: { \"form\" : \"praescīscēns\" , \"form_IPA\" : \"prajskiːskeːns\" } ,\n",
    "633846: { \"form\" : \"praescīscentis\" , \"form_IPA\" : \"prajskiːskentis\" } ,\n",
    "633847: { \"form\" : \"praescīscentis\" , \"form_IPA\" : \"prajskiːskentis\" } ,\n",
    "633848: { \"form\" : \"praescīscentis\" , \"form_IPA\" : \"prajskiːskentis\" } ,\n",
    "633849: { \"form\" : \"praescīscentī\" , \"form_IPA\" : \"prajskiːskentiː\" } ,\n",
    "633850: { \"form\" : \"praescīscentī\" , \"form_IPA\" : \"prajskiːskentiː\" } ,\n",
    "633851: { \"form\" : \"praescīscentī\" , \"form_IPA\" : \"prajskiːskentiː\" } ,\n",
    "633852: { \"form\" : \"praescīscentem\" , \"form_IPA\" : \"prajskiːskentem\" } ,\n",
    "633853: { \"form\" : \"praescīscentem\" , \"form_IPA\" : \"prajskiːskentem\" } ,\n",
    "633854: { \"form\" : \"praescīscēns\" , \"form_IPA\" : \"prajskiːskeːns\" } ,\n",
    "633855: { \"form\" : \"praescīscēns\" , \"form_IPA\" : \"prajskiːskeːns\" } ,\n",
    "633856: { \"form\" : \"praescīscēns\" , \"form_IPA\" : \"prajskiːskeːns\" } ,\n",
    "633857: { \"form\" : \"praescīscēns\" , \"form_IPA\" : \"prajskiːskeːns\" } ,\n",
    "633858: { \"form\" : \"praescīscente\" , \"form_IPA\" : \"prajskiːskente\" } ,\n",
    "633859: { \"form\" : \"praescīscente\" , \"form_IPA\" : \"prajskiːskente\" } ,\n",
    "633860: { \"form\" : \"praescīscente\" , \"form_IPA\" : \"prajskiːskente\" } ,\n",
    "633861: { \"form\" : \"praescīscentēs\" , \"form_IPA\" : \"prajskiːskenteːs\" } ,\n",
    "633862: { \"form\" : \"praescīscentēs\" , \"form_IPA\" : \"prajskiːskenteːs\" } ,\n",
    "633863: { \"form\" : \"praescīscentia\" , \"form_IPA\" : \"prajskiːskentia\" } ,\n",
    "633864: { \"form\" : \"praescīscentium\" , \"form_IPA\" : \"prajskiːskentium\" } ,\n",
    "633865: { \"form\" : \"praescīscentium\" , \"form_IPA\" : \"prajskiːskentium\" } ,\n",
    "633866: { \"form\" : \"praescīscentium\" , \"form_IPA\" : \"prajskiːskentium\" } ,\n",
    "633867: { \"form\" : \"praescīscentibus\" , \"form_IPA\" : \"prajskiːskentibus\" } ,\n",
    "633868: { \"form\" : \"praescīscentibus\" , \"form_IPA\" : \"prajskiːskentibus\" } ,\n",
    "633869: { \"form\" : \"praescīscentibus\" , \"form_IPA\" : \"prajskiːskentibus\" } ,\n",
    "633870: { \"form\" : \"praescīscentēs\" , \"form_IPA\" : \"prajskiːskenteːs\" } ,\n",
    "633871: { \"form\" : \"praescīscentēs\" , \"form_IPA\" : \"prajskiːskenteːs\" } ,\n",
    "633872: { \"form\" : \"praescīscentia\" , \"form_IPA\" : \"prajskiːskentia\" } ,\n",
    "633873: { \"form\" : \"praescīscentēs\" , \"form_IPA\" : \"prajskiːskenteːs\" } ,\n",
    "633874: { \"form\" : \"praescīscentēs\" , \"form_IPA\" : \"prajskiːskenteːs\" } ,\n",
    "633875: { \"form\" : \"praescīscentia\" , \"form_IPA\" : \"prajskiːskentia\" } ,\n",
    "633876: { \"form\" : \"praescīscentibus\" , \"form_IPA\" : \"prajskiːskentibus\" } ,\n",
    "633877: { \"form\" : \"praescīscentibus\" , \"form_IPA\" : \"prajskiːskentibus\" } ,\n",
    "633878: { \"form\" : \"praescīscentibus\" , \"form_IPA\" : \"prajskiːskentibus\" } ,\n",
    "# \"i\" in prs.act.ind.2/3sg of lexeme \"aio\" is vowel, not glide (cf. Bennett grammar, §135)\n",
    "41149: { \"form_IPA\" : \"aiːs\" } ,\n",
    "41150: { \"form_IPA\" : \"ait\" } ,\n",
    "# recovering passive forms of transitive derivatives of irregular \"eo\" (cf. Bennett grammar, §132.1, identification of transitives based on lemlat's codles\n",
    "1857: { \"form\" : \"adeor\" , \"form_ipa\" : \"adeor\" } ,\n",
    "1858: { \"form\" : \"adīris\" , \"form_ipa\" : \"adiːris\" } ,\n",
    "1858: { \"form\" : \"adīmur\" , \"form_ipa\" : \"adiːmur\" } ,\n",
    "1858: { \"form\" : \"adīminī\" , \"form_ipa\" : \"adiːminiː\" } ,\n",
    "1858: { \"form\" : \"adeuntur\" , \"form_ipa\" : \"adeuntur\" } ,\n",
    "1858: { \"form\" : \"adībar\" , \"form_ipa\" : \"adiːbar\" } ,\n",
    "1858: { \"form\" : \"adībāris\" , \"form_ipa\" : \"adiːbaːris\" } ,\n",
    "1858: { \"form\" : \"adībāmur\" , \"form_ipa\" : \"adiːbaːmur\" } ,\n",
    "1858: { \"form\" : \"adībāminī\" , \"form_ipa\" : \"adiːbaːminiː\" } ,\n",
    "1859: { \"form\" : \"adībantur\" , \"form_ipa\" : \"adiːbantur\" } ,\n",
    "1859: { \"form\" : \"adībor\" , \"form_ipa\" : \"adiːbor\" } ,\n",
    "1859: { \"form\" : \"adīberis\" , \"form_ipa\" : \"adiːberis\" } ,\n",
    "1859: { \"form\" : \"adībimur\" , \"form_ipa\" : \"adiːbimur\" } ,\n",
    "1859: { \"form\" : \"adībiminī\" , \"form_ipa\" : \"adiːbiminiː\" } ,\n",
    "1859: { \"form\" : \"adībuntur\" , \"form_ipa\" : \"adiːbuntur\" } ,\n",
    "1859: { \"form\" : \"adear\" , \"form_ipa\" : \"adear\" } ,\n",
    "1859: { \"form\" : \"adeāris\" , \"form_ipa\" : \"adeaːris\" } ,\n",
    "1860: { \"form\" : \"adeāmur\" , \"form_ipa\" : \"adeaːmur\" } ,\n",
    "1860: { \"form\" : \"adeāminī\" , \"form_ipa\" : \"adeaːminiː\" } ,\n",
    "1860: { \"form\" : \"adeantur\" , \"form_ipa\" : \"adeantur\" } ,\n",
    "1860: { \"form\" : \"adīrer\" , \"form_ipa\" : \"adiːrer\" } ,\n",
    "1860: { \"form\" : \"adīrēris\" , \"form_ipa\" : \"adiːreːris\" } ,\n",
    "1860: { \"form\" : \"adīrēmur\" , \"form_ipa\" : \"adiːreːmur\" } ,\n",
    "1860: { \"form\" : \"adīrēminī\" , \"form_ipa\" : \"adiːreːminiː\" } ,\n",
    "1860: { \"form\" : \"adīrentur\" , \"form_ipa\" : \"adiːrentur\" } ,\n",
    "1860: { \"form\" : \"adīre\" , \"form_ipa\" : \"adiːre\" } ,\n",
    "1861: { \"form\" : \"adīminī\" , \"form_ipa\" : \"adiːminiː\" } ,\n",
    "1861: { \"form\" : \"adītor\" , \"form_ipa\" : \"adiːtor\" } ,\n",
    "1861: { \"form\" : \"adītor\" , \"form_ipa\" : \"adiːtor\" } ,\n",
    "1861: { \"form\" : \"adeuntor\" , \"form_ipa\" : \"adeuntor\" } ,\n",
    "1861: { \"form\" : \"adeundus\" , \"form_ipa\" : \"adeundus\" } ,\n",
    "1862: { \"form\" : \"adeunda\" , \"form_ipa\" : \"adeunda\" } ,\n",
    "1862: { \"form\" : \"adeundum\" , \"form_ipa\" : \"adeundum\" } ,\n",
    "1862: { \"form\" : \"adeundī\" , \"form_ipa\" : \"adeundiː\" } ,\n",
    "1862: { \"form\" : \"adeundae\" , \"form_ipa\" : \"adeundaj\" } ,\n",
    "1862: { \"form\" : \"adeundī\" , \"form_ipa\" : \"adeundiː\" } ,\n",
    "1862: { \"form\" : \"adeundō\" , \"form_ipa\" : \"adeundoː\" } ,\n",
    "1862: { \"form\" : \"adeundae\" , \"form_ipa\" : \"adeundaj\" } ,\n",
    "1862: { \"form\" : \"adeundō\" , \"form_ipa\" : \"adeundoː\" } ,\n",
    "1862: { \"form\" : \"adeundum\" , \"form_ipa\" : \"adeundum\" } ,\n",
    "1862: { \"form\" : \"adeundam\" , \"form_ipa\" : \"adeundam\" } ,\n",
    "1863: { \"form\" : \"adeunde\" , \"form_ipa\" : \"adeunde\" } ,\n",
    "1863: { \"form\" : \"adeunda\" , \"form_ipa\" : \"adeunda\" } ,\n",
    "1863: { \"form\" : \"adeundum\" , \"form_ipa\" : \"adeundum\" } ,\n",
    "1863: { \"form\" : \"adeundō\" , \"form_ipa\" : \"adeundoː\" } ,\n",
    "1863: { \"form\" : \"adeundā\" , \"form_ipa\" : \"adeundaː\" } ,\n",
    "1863: { \"form\" : \"adeundō\" , \"form_ipa\" : \"adeundoː\" } ,\n",
    "1863: { \"form\" : \"adeundī\" , \"form_ipa\" : \"adeundiː\" } ,\n",
    "1863: { \"form\" : \"adeundae\" , \"form_ipa\" : \"adeundaj\" } ,\n",
    "1863: { \"form\" : \"adeunda\" , \"form_ipa\" : \"adeunda\" } ,\n",
    "1864: { \"form\" : \"adeundōrum\" , \"form_ipa\" : \"adeundoːrum\" } ,\n",
    "1864: { \"form\" : \"adeundārum\" , \"form_ipa\" : \"adeundaːrum\" } ,\n",
    "1864: { \"form\" : \"adeundōrum\" , \"form_ipa\" : \"adeundoːrum\" } ,\n",
    "1864: { \"form\" : \"adeundīs\" , \"form_ipa\" : \"adeundiːs\" } ,\n",
    "1864: { \"form\" : \"adeundīs\" , \"form_ipa\" : \"adeundiːs\" } ,\n",
    "1864: { \"form\" : \"adeundīs\" , \"form_ipa\" : \"adeundiːs\" } ,\n",
    "1864: { \"form\" : \"adeundōs\" , \"form_ipa\" : \"adeundoːs\" } ,\n",
    "1864: { \"form\" : \"adeundās\" , \"form_ipa\" : \"adeundaːs\" } ,\n",
    "1864: { \"form\" : \"adeunda\" , \"form_ipa\" : \"adeunda\" } ,\n",
    "1864: { \"form\" : \"adeundī\" , \"form_ipa\" : \"adeundiː\" } ,\n",
    "1865: { \"form\" : \"adeundae\" , \"form_ipa\" : \"adeundaj\" } ,\n",
    "1865: { \"form\" : \"adeunda\" , \"form_ipa\" : \"adeunda\" } ,\n",
    "1865: { \"form\" : \"adeundīs\" , \"form_ipa\" : \"adeundiːs\" } ,\n",
    "1865: { \"form\" : \"adeundīs\" , \"form_ipa\" : \"adeundiːs\" } ,\n",
    "1865: { \"form\" : \"adeundīs\" , \"form_ipa\" : \"adeundiːs\" } ,\n",
    "5337: { \"form\" : \"anteeor\" , \"form_ipa\" : \"anteeor\" } ,\n",
    "5337: { \"form\" : \"anteīris\" , \"form_ipa\" : \"anteiːris\" } ,\n",
    "5338: { \"form\" : \"anteīmur\" , \"form_ipa\" : \"anteiːmur\" } ,\n",
    "5338: { \"form\" : \"anteīminī\" , \"form_ipa\" : \"anteiːminiː\" } ,\n",
    "5338: { \"form\" : \"anteeuntur\" , \"form_ipa\" : \"anteeuntur\" } ,\n",
    "5338: { \"form\" : \"anteībar\" , \"form_ipa\" : \"anteiːbar\" } ,\n",
    "5338: { \"form\" : \"anteībāris\" , \"form_ipa\" : \"anteiːbaːris\" } ,\n",
    "5338: { \"form\" : \"anteībāmur\" , \"form_ipa\" : \"anteiːbaːmur\" } ,\n",
    "5338: { \"form\" : \"anteībāminī\" , \"form_ipa\" : \"anteiːbaːminiː\" } ,\n",
    "5338: { \"form\" : \"anteībantur\" , \"form_ipa\" : \"anteiːbantur\" } ,\n",
    "5338: { \"form\" : \"anteībor\" , \"form_ipa\" : \"anteiːbor\" } ,\n",
    "5339: { \"form\" : \"anteīberis\" , \"form_ipa\" : \"anteiːberis\" } ,\n",
    "5339: { \"form\" : \"anteībimur\" , \"form_ipa\" : \"anteiːbimur\" } ,\n",
    "5339: { \"form\" : \"anteībiminī\" , \"form_ipa\" : \"anteiːbiminiː\" } ,\n",
    "5339: { \"form\" : \"anteībuntur\" , \"form_ipa\" : \"anteiːbuntur\" } ,\n",
    "5339: { \"form\" : \"anteear\" , \"form_ipa\" : \"anteear\" } ,\n",
    "5339: { \"form\" : \"anteeāris\" , \"form_ipa\" : \"anteeaːris\" } ,\n",
    "5339: { \"form\" : \"anteeāmur\" , \"form_ipa\" : \"anteeaːmur\" } ,\n",
    "5339: { \"form\" : \"anteeāminī\" , \"form_ipa\" : \"anteeaːminiː\" } ,\n",
    "5340: { \"form\" : \"anteeantur\" , \"form_ipa\" : \"anteeantur\" } ,\n",
    "5340: { \"form\" : \"anteīrer\" , \"form_ipa\" : \"anteiːrer\" } ,\n",
    "5340: { \"form\" : \"anteīrēris\" , \"form_ipa\" : \"anteiːreːris\" } ,\n",
    "5340: { \"form\" : \"anteīrēmur\" , \"form_ipa\" : \"anteiːreːmur\" } ,\n",
    "5340: { \"form\" : \"anteīrēminī\" , \"form_ipa\" : \"anteiːreːminiː\" } ,\n",
    "5340: { \"form\" : \"anteīrentur\" , \"form_ipa\" : \"anteiːrentur\" } ,\n",
    "5340: { \"form\" : \"anteīre\" , \"form_ipa\" : \"anteiːre\" } ,\n",
    "5340: { \"form\" : \"anteīminī\" , \"form_ipa\" : \"anteiːminiː\" } ,\n",
    "5340: { \"form\" : \"anteītor\" , \"form_ipa\" : \"anteiːtor\" } ,\n",
    "5341: { \"form\" : \"anteītor\" , \"form_ipa\" : \"anteiːtor\" } ,\n",
    "5341: { \"form\" : \"anteeuntor\" , \"form_ipa\" : \"anteeuntor\" } ,\n",
    "5341: { \"form\" : \"anteeundus\" , \"form_ipa\" : \"anteeundus\" } ,\n",
    "5341: { \"form\" : \"anteeunda\" , \"form_ipa\" : \"anteeunda\" } ,\n",
    "5341: { \"form\" : \"anteeundum\" , \"form_ipa\" : \"anteeundum\" } ,\n",
    "5342: { \"form\" : \"anteeundī\" , \"form_ipa\" : \"anteeundiː\" } ,\n",
    "5342: { \"form\" : \"anteeundae\" , \"form_ipa\" : \"anteeundaj\" } ,\n",
    "5342: { \"form\" : \"anteeundī\" , \"form_ipa\" : \"anteeundiː\" } ,\n",
    "5342: { \"form\" : \"anteeundō\" , \"form_ipa\" : \"anteeundoː\" } ,\n",
    "5342: { \"form\" : \"anteeundae\" , \"form_ipa\" : \"anteeundaj\" } ,\n",
    "5342: { \"form\" : \"anteeundō\" , \"form_ipa\" : \"anteeundoː\" } ,\n",
    "5342: { \"form\" : \"anteeundum\" , \"form_ipa\" : \"anteeundum\" } ,\n",
    "5342: { \"form\" : \"anteeundam\" , \"form_ipa\" : \"anteeundam\" } ,\n",
    "5342: { \"form\" : \"anteeunde\" , \"form_ipa\" : \"anteeunde\" } ,\n",
    "5343: { \"form\" : \"anteeunda\" , \"form_ipa\" : \"anteeunda\" } ,\n",
    "5343: { \"form\" : \"anteeundum\" , \"form_ipa\" : \"anteeundum\" } ,\n",
    "5343: { \"form\" : \"anteeundō\" , \"form_ipa\" : \"anteeundoː\" } ,\n",
    "5343: { \"form\" : \"anteeundā\" , \"form_ipa\" : \"anteeundaː\" } ,\n",
    "5343: { \"form\" : \"anteeundō\" , \"form_ipa\" : \"anteeundoː\" } ,\n",
    "5343: { \"form\" : \"anteeundī\" , \"form_ipa\" : \"anteeundiː\" } ,\n",
    "5343: { \"form\" : \"anteeundae\" , \"form_ipa\" : \"anteeundaj\" } ,\n",
    "5343: { \"form\" : \"anteeunda\" , \"form_ipa\" : \"anteeunda\" } ,\n",
    "5343: { \"form\" : \"anteeundōrum\" , \"form_ipa\" : \"anteeundoːrum\" } ,\n",
    "5343: { \"form\" : \"anteeundārum\" , \"form_ipa\" : \"anteeundaːrum\" } ,\n",
    "5344: { \"form\" : \"anteeundōrum\" , \"form_ipa\" : \"anteeundoːrum\" } ,\n",
    "5344: { \"form\" : \"anteeundīs\" , \"form_ipa\" : \"anteeundiːs\" } ,\n",
    "5344: { \"form\" : \"anteeundīs\" , \"form_ipa\" : \"anteeundiːs\" } ,\n",
    "5344: { \"form\" : \"anteeundīs\" , \"form_ipa\" : \"anteeundiːs\" } ,\n",
    "5344: { \"form\" : \"anteeundōs\" , \"form_ipa\" : \"anteeundoːs\" } ,\n",
    "5344: { \"form\" : \"anteeundās\" , \"form_ipa\" : \"anteeundaːs\" } ,\n",
    "5344: { \"form\" : \"anteeunda\" , \"form_ipa\" : \"anteeunda\" } ,\n",
    "5344: { \"form\" : \"anteeundī\" , \"form_ipa\" : \"anteeundiː\" } ,\n",
    "5344: { \"form\" : \"anteeundae\" , \"form_ipa\" : \"anteeundaj\" } ,\n",
    "5344: { \"form\" : \"anteeunda\" , \"form_ipa\" : \"anteeunda\" } ,\n",
    "5345: { \"form\" : \"anteeundīs\" , \"form_ipa\" : \"anteeundiːs\" } ,\n",
    "5345: { \"form\" : \"anteeundīs\" , \"form_ipa\" : \"anteeundiːs\" } ,\n",
    "5345: { \"form\" : \"anteeundīs\" , \"form_ipa\" : \"anteeundiːs\" } ,\n",
    "10112: { \"form\" : \"circumeor\" , \"form_ipa\" : \"kirkumeor\" } ,\n",
    "10113: { \"form\" : \"circumīris\" , \"form_ipa\" : \"kirkumiːris\" } ,\n",
    "10113: { \"form\" : \"circumīmur\" , \"form_ipa\" : \"kirkumiːmur\" } ,\n",
    "10113: { \"form\" : \"circumīminī\" , \"form_ipa\" : \"kirkumiːminiː\" } ,\n",
    "10113: { \"form\" : \"circumeuntur\" , \"form_ipa\" : \"kirkumeuntur\" } ,\n",
    "10113: { \"form\" : \"circumībar\" , \"form_ipa\" : \"kirkumiːbar\" } ,\n",
    "10113: { \"form\" : \"circumībāris\" , \"form_ipa\" : \"kirkumiːbaːris\" } ,\n",
    "10113: { \"form\" : \"circumībāmur\" , \"form_ipa\" : \"kirkumiːbaːmur\" } ,\n",
    "10113: { \"form\" : \"circumībāminī\" , \"form_ipa\" : \"kirkumiːbaːminiː\" } ,\n",
    "10114: { \"form\" : \"circumībantur\" , \"form_ipa\" : \"kirkumiːbantur\" } ,\n",
    "10114: { \"form\" : \"circumībor\" , \"form_ipa\" : \"kirkumiːbor\" } ,\n",
    "10114: { \"form\" : \"circumīberis\" , \"form_ipa\" : \"kirkumiːberis\" } ,\n",
    "10114: { \"form\" : \"circumībimur\" , \"form_ipa\" : \"kirkumiːbimur\" } ,\n",
    "10114: { \"form\" : \"circumībiminī\" , \"form_ipa\" : \"kirkumiːbiminiː\" } ,\n",
    "10114: { \"form\" : \"circumībuntur\" , \"form_ipa\" : \"kirkumiːbuntur\" } ,\n",
    "10114: { \"form\" : \"circumear\" , \"form_ipa\" : \"kirkumear\" } ,\n",
    "10114: { \"form\" : \"circumeāris\" , \"form_ipa\" : \"kirkumeaːris\" } ,\n",
    "10115: { \"form\" : \"circumeāmur\" , \"form_ipa\" : \"kirkumeaːmur\" } ,\n",
    "10115: { \"form\" : \"circumeāminī\" , \"form_ipa\" : \"kirkumeaːminiː\" } ,\n",
    "10115: { \"form\" : \"circumeantur\" , \"form_ipa\" : \"kirkumeantur\" } ,\n",
    "10115: { \"form\" : \"circumīrer\" , \"form_ipa\" : \"kirkumiːrer\" } ,\n",
    "10115: { \"form\" : \"circumīrēris\" , \"form_ipa\" : \"kirkumiːreːris\" } ,\n",
    "10115: { \"form\" : \"circumīrēmur\" , \"form_ipa\" : \"kirkumiːreːmur\" } ,\n",
    "10115: { \"form\" : \"circumīrēminī\" , \"form_ipa\" : \"kirkumiːreːminiː\" } ,\n",
    "10115: { \"form\" : \"circumīrentur\" , \"form_ipa\" : \"kirkumiːrentur\" } ,\n",
    "10115: { \"form\" : \"circumīre\" , \"form_ipa\" : \"kirkumiːre\" } ,\n",
    "10116: { \"form\" : \"circumīminī\" , \"form_ipa\" : \"kirkumiːminiː\" } ,\n",
    "10116: { \"form\" : \"circumītor\" , \"form_ipa\" : \"kirkumiːtor\" } ,\n",
    "10116: { \"form\" : \"circumītor\" , \"form_ipa\" : \"kirkumiːtor\" } ,\n",
    "10116: { \"form\" : \"circumeuntor\" , \"form_ipa\" : \"kirkumeuntor\" } ,\n",
    "10116: { \"form\" : \"circumeundus\" , \"form_ipa\" : \"kirkumeundus\" } ,\n",
    "10117: { \"form\" : \"circumeunda\" , \"form_ipa\" : \"kirkumeunda\" } ,\n",
    "10117: { \"form\" : \"circumeundum\" , \"form_ipa\" : \"kirkumeundum\" } ,\n",
    "10117: { \"form\" : \"circumeundī\" , \"form_ipa\" : \"kirkumeundiː\" } ,\n",
    "10117: { \"form\" : \"circumeundae\" , \"form_ipa\" : \"kirkumeundaj\" } ,\n",
    "10117: { \"form\" : \"circumeundī\" , \"form_ipa\" : \"kirkumeundiː\" } ,\n",
    "10117: { \"form\" : \"circumeundō\" , \"form_ipa\" : \"kirkumeundoː\" } ,\n",
    "10117: { \"form\" : \"circumeundae\" , \"form_ipa\" : \"kirkumeundaj\" } ,\n",
    "10117: { \"form\" : \"circumeundō\" , \"form_ipa\" : \"kirkumeundoː\" } ,\n",
    "10117: { \"form\" : \"circumeundum\" , \"form_ipa\" : \"kirkumeundum\" } ,\n",
    "10117: { \"form\" : \"circumeundam\" , \"form_ipa\" : \"kirkumeundam\" } ,\n",
    "10118: { \"form\" : \"circumeunde\" , \"form_ipa\" : \"kirkumeunde\" } ,\n",
    "10118: { \"form\" : \"circumeunda\" , \"form_ipa\" : \"kirkumeunda\" } ,\n",
    "10118: { \"form\" : \"circumeundum\" , \"form_ipa\" : \"kirkumeundum\" } ,\n",
    "10118: { \"form\" : \"circumeundō\" , \"form_ipa\" : \"kirkumeundoː\" } ,\n",
    "10118: { \"form\" : \"circumeundā\" , \"form_ipa\" : \"kirkumeundaː\" } ,\n",
    "10118: { \"form\" : \"circumeundō\" , \"form_ipa\" : \"kirkumeundoː\" } ,\n",
    "10118: { \"form\" : \"circumeundī\" , \"form_ipa\" : \"kirkumeundiː\" } ,\n",
    "10118: { \"form\" : \"circumeundae\" , \"form_ipa\" : \"kirkumeundaj\" } ,\n",
    "10118: { \"form\" : \"circumeunda\" , \"form_ipa\" : \"kirkumeunda\" } ,\n",
    "10119: { \"form\" : \"circumeundōrum\" , \"form_ipa\" : \"kirkumeundoːrum\" } ,\n",
    "10119: { \"form\" : \"circumeundārum\" , \"form_ipa\" : \"kirkumeundaːrum\" } ,\n",
    "10119: { \"form\" : \"circumeundōrum\" , \"form_ipa\" : \"kirkumeundoːrum\" } ,\n",
    "10119: { \"form\" : \"circumeundīs\" , \"form_ipa\" : \"kirkumeundiːs\" } ,\n",
    "10119: { \"form\" : \"circumeundīs\" , \"form_ipa\" : \"kirkumeundiːs\" } ,\n",
    "10119: { \"form\" : \"circumeundīs\" , \"form_ipa\" : \"kirkumeundiːs\" } ,\n",
    "10119: { \"form\" : \"circumeundōs\" , \"form_ipa\" : \"kirkumeundoːs\" } ,\n",
    "10119: { \"form\" : \"circumeundās\" , \"form_ipa\" : \"kirkumeundaːs\" } ,\n",
    "10119: { \"form\" : \"circumeunda\" , \"form_ipa\" : \"kirkumeunda\" } ,\n",
    "10119: { \"form\" : \"circumeundī\" , \"form_ipa\" : \"kirkumeundiː\" } ,\n",
    "10120: { \"form\" : \"circumeundae\" , \"form_ipa\" : \"kirkumeundaj\" } ,\n",
    "10120: { \"form\" : \"circumeunda\" , \"form_ipa\" : \"kirkumeunda\" } ,\n",
    "10120: { \"form\" : \"circumeundīs\" , \"form_ipa\" : \"kirkumeundiːs\" } ,\n",
    "10120: { \"form\" : \"circumeundīs\" , \"form_ipa\" : \"kirkumeundiːs\" } ,\n",
    "10120: { \"form\" : \"circumeundīs\" , \"form_ipa\" : \"kirkumeundiːs\" } ,\n",
    "63757: { \"form\" : \"prajtereor\" , \"form_ipa\" : \"prajtereor\" } ,\n",
    "63757: { \"form\" : \"prajterīris\" , \"form_ipa\" : \"prajteriːris\" } ,\n",
    "63758: { \"form\" : \"prajterīmur\" , \"form_ipa\" : \"prajteriːmur\" } ,\n",
    "63758: { \"form\" : \"prajterīminī\" , \"form_ipa\" : \"prajteriːminiː\" } ,\n",
    "63758: { \"form\" : \"prajtereuntur\" , \"form_ipa\" : \"prajtereuntur\" } ,\n",
    "63758: { \"form\" : \"prajterībar\" , \"form_ipa\" : \"prajteriːbar\" } ,\n",
    "63758: { \"form\" : \"prajterībāris\" , \"form_ipa\" : \"prajteriːbaːris\" } ,\n",
    "63758: { \"form\" : \"prajterībāmur\" , \"form_ipa\" : \"prajteriːbaːmur\" } ,\n",
    "63758: { \"form\" : \"prajterībāminī\" , \"form_ipa\" : \"prajteriːbaːminiː\" } ,\n",
    "63758: { \"form\" : \"prajterībantur\" , \"form_ipa\" : \"prajteriːbantur\" } ,\n",
    "63758: { \"form\" : \"prajterībor\" , \"form_ipa\" : \"prajteriːbor\" } ,\n",
    "63759: { \"form\" : \"prajterīberis\" , \"form_ipa\" : \"prajteriːberis\" } ,\n",
    "63759: { \"form\" : \"prajterībimur\" , \"form_ipa\" : \"prajteriːbimur\" } ,\n",
    "63759: { \"form\" : \"prajterībiminī\" , \"form_ipa\" : \"prajteriːbiminiː\" } ,\n",
    "63759: { \"form\" : \"prajterībuntur\" , \"form_ipa\" : \"prajteriːbuntur\" } ,\n",
    "63759: { \"form\" : \"prajterear\" , \"form_ipa\" : \"prajterear\" } ,\n",
    "63759: { \"form\" : \"prajtereāris\" , \"form_ipa\" : \"prajtereaːris\" } ,\n",
    "63759: { \"form\" : \"prajtereāmur\" , \"form_ipa\" : \"prajtereaːmur\" } ,\n",
    "63759: { \"form\" : \"prajtereāminī\" , \"form_ipa\" : \"prajtereaːminiː\" } ,\n",
    "63760: { \"form\" : \"prajtereantur\" , \"form_ipa\" : \"prajtereantur\" } ,\n",
    "63760: { \"form\" : \"prajterīrer\" , \"form_ipa\" : \"prajteriːrer\" } ,\n",
    "63760: { \"form\" : \"prajterīrēris\" , \"form_ipa\" : \"prajteriːreːris\" } ,\n",
    "63760: { \"form\" : \"prajterīrēmur\" , \"form_ipa\" : \"prajteriːreːmur\" } ,\n",
    "63760: { \"form\" : \"prajterīrēminī\" , \"form_ipa\" : \"prajteriːreːminiː\" } ,\n",
    "63760: { \"form\" : \"prajterīrentur\" , \"form_ipa\" : \"prajteriːrentur\" } ,\n",
    "63760: { \"form\" : \"prajterīre\" , \"form_ipa\" : \"prajteriːre\" } ,\n",
    "63760: { \"form\" : \"prajterīminī\" , \"form_ipa\" : \"prajteriːminiː\" } ,\n",
    "63760: { \"form\" : \"prajterītor\" , \"form_ipa\" : \"prajteriːtor\" } ,\n",
    "63761: { \"form\" : \"prajterītor\" , \"form_ipa\" : \"prajteriːtor\" } ,\n",
    "63761: { \"form\" : \"prajtereuntor\" , \"form_ipa\" : \"prajtereuntor\" } ,\n",
    "63761: { \"form\" : \"prajtereundus\" , \"form_ipa\" : \"prajtereundus\" } ,\n",
    "63761: { \"form\" : \"prajtereunda\" , \"form_ipa\" : \"prajtereunda\" } ,\n",
    "63761: { \"form\" : \"prajtereundum\" , \"form_ipa\" : \"prajtereundum\" } ,\n",
    "63762: { \"form\" : \"prajtereundī\" , \"form_ipa\" : \"prajtereundiː\" } ,\n",
    "63762: { \"form\" : \"prajtereundae\" , \"form_ipa\" : \"prajtereundaj\" } ,\n",
    "63762: { \"form\" : \"prajtereundī\" , \"form_ipa\" : \"prajtereundiː\" } ,\n",
    "63762: { \"form\" : \"prajtereundō\" , \"form_ipa\" : \"prajtereundoː\" } ,\n",
    "63762: { \"form\" : \"prajtereundae\" , \"form_ipa\" : \"prajtereundaj\" } ,\n",
    "63762: { \"form\" : \"prajtereundō\" , \"form_ipa\" : \"prajtereundoː\" } ,\n",
    "63762: { \"form\" : \"prajtereundum\" , \"form_ipa\" : \"prajtereundum\" } ,\n",
    "63762: { \"form\" : \"prajtereundam\" , \"form_ipa\" : \"prajtereundam\" } ,\n",
    "63762: { \"form\" : \"prajtereunde\" , \"form_ipa\" : \"prajtereunde\" } ,\n",
    "63763: { \"form\" : \"prajtereunda\" , \"form_ipa\" : \"prajtereunda\" } ,\n",
    "63763: { \"form\" : \"prajtereundum\" , \"form_ipa\" : \"prajtereundum\" } ,\n",
    "63763: { \"form\" : \"prajtereundō\" , \"form_ipa\" : \"prajtereundoː\" } ,\n",
    "63763: { \"form\" : \"prajtereundā\" , \"form_ipa\" : \"prajtereundaː\" } ,\n",
    "63763: { \"form\" : \"prajtereundō\" , \"form_ipa\" : \"prajtereundoː\" } ,\n",
    "63763: { \"form\" : \"prajtereundī\" , \"form_ipa\" : \"prajtereundiː\" } ,\n",
    "63763: { \"form\" : \"prajtereundae\" , \"form_ipa\" : \"prajtereundaj\" } ,\n",
    "63763: { \"form\" : \"prajtereunda\" , \"form_ipa\" : \"prajtereunda\" } ,\n",
    "63763: { \"form\" : \"prajtereundōrum\" , \"form_ipa\" : \"prajtereundoːrum\" } ,\n",
    "63763: { \"form\" : \"prajtereundārum\" , \"form_ipa\" : \"prajtereundaːrum\" } ,\n",
    "63764: { \"form\" : \"prajtereundōrum\" , \"form_ipa\" : \"prajtereundoːrum\" } ,\n",
    "63764: { \"form\" : \"prajtereundīs\" , \"form_ipa\" : \"prajtereundiːs\" } ,\n",
    "63764: { \"form\" : \"prajtereundīs\" , \"form_ipa\" : \"prajtereundiːs\" } ,\n",
    "63764: { \"form\" : \"prajtereundīs\" , \"form_ipa\" : \"prajtereundiːs\" } ,\n",
    "63764: { \"form\" : \"prajtereundōs\" , \"form_ipa\" : \"prajtereundoːs\" } ,\n",
    "63764: { \"form\" : \"prajtereundās\" , \"form_ipa\" : \"prajtereundaːs\" } ,\n",
    "63764: { \"form\" : \"prajtereunda\" , \"form_ipa\" : \"prajtereunda\" } ,\n",
    "63764: { \"form\" : \"prajtereundī\" , \"form_ipa\" : \"prajtereundiː\" } ,\n",
    "63764: { \"form\" : \"prajtereundae\" , \"form_ipa\" : \"prajtereundaj\" } ,\n",
    "63764: { \"form\" : \"prajtereunda\" , \"form_ipa\" : \"prajtereunda\" } ,\n",
    "63765: { \"form\" : \"prajtereundīs\" , \"form_ipa\" : \"prajtereundiːs\" } ,\n",
    "63765: { \"form\" : \"prajtereundīs\" , \"form_ipa\" : \"prajtereundiːs\" } ,\n",
    "63765: { \"form\" : \"prajtereundīs\" , \"form_ipa\" : \"prajtereundiːs\" } ,\n",
    "67237: { \"form\" : \"queor\" , \"form_ipa\" : \"kweor\" } ,\n",
    "67237: { \"form\" : \"quīris\" , \"form_ipa\" : \"kwiːris\" } ,\n",
    "67237: { \"form\" : \"quīmur\" , \"form_ipa\" : \"kwiːmur\" } ,\n",
    "67237: { \"form\" : \"quīminī\" , \"form_ipa\" : \"kwiːminiː\" } ,\n",
    "67238: { \"form\" : \"queuntur\" , \"form_ipa\" : \"kweuntur\" } ,\n",
    "67238: { \"form\" : \"quībar\" , \"form_ipa\" : \"kwiːbar\" } ,\n",
    "67238: { \"form\" : \"quībāris\" , \"form_ipa\" : \"kwiːbaːris\" } ,\n",
    "67238: { \"form\" : \"quībāmur\" , \"form_ipa\" : \"kwiːbaːmur\" } ,\n",
    "67238: { \"form\" : \"quībāminī\" , \"form_ipa\" : \"kwiːbaːminiː\" } ,\n",
    "67238: { \"form\" : \"quībantur\" , \"form_ipa\" : \"kwiːbantur\" } ,\n",
    "67238: { \"form\" : \"quībor\" , \"form_ipa\" : \"kwiːbor\" } ,\n",
    "67238: { \"form\" : \"quīberis\" , \"form_ipa\" : \"kwiːberis\" } ,\n",
    "67239: { \"form\" : \"quībimur\" , \"form_ipa\" : \"kwiːbimur\" } ,\n",
    "67239: { \"form\" : \"quībiminī\" , \"form_ipa\" : \"kwiːbiminiː\" } ,\n",
    "67239: { \"form\" : \"quībuntur\" , \"form_ipa\" : \"kwiːbuntur\" } ,\n",
    "67239: { \"form\" : \"quear\" , \"form_ipa\" : \"kwear\" } ,\n",
    "67239: { \"form\" : \"queāris\" , \"form_ipa\" : \"kweaːris\" } ,\n",
    "67239: { \"form\" : \"queāmur\" , \"form_ipa\" : \"kweaːmur\" } ,\n",
    "67239: { \"form\" : \"queāminī\" , \"form_ipa\" : \"kweaːminiː\" } ,\n",
    "67239: { \"form\" : \"queantur\" , \"form_ipa\" : \"kweantur\" } ,\n",
    "67239: { \"form\" : \"quīrer\" , \"form_ipa\" : \"kwiːrer\" } ,\n",
    "67240: { \"form\" : \"quīrēris\" , \"form_ipa\" : \"kwiːreːris\" } ,\n",
    "67240: { \"form\" : \"quīrēmur\" , \"form_ipa\" : \"kwiːreːmur\" } ,\n",
    "67240: { \"form\" : \"quīrēminī\" , \"form_ipa\" : \"kwiːreːminiː\" } ,\n",
    "67240: { \"form\" : \"quīrentur\" , \"form_ipa\" : \"kwiːrentur\" } ,\n",
    "67240: { \"form\" : \"quīre\" , \"form_ipa\" : \"kwiːre\" } ,\n",
    "67240: { \"form\" : \"quīminī\" , \"form_ipa\" : \"kwiːminiː\" } ,\n",
    "67240: { \"form\" : \"quītor\" , \"form_ipa\" : \"kwiːtor\" } ,\n",
    "67240: { \"form\" : \"quītor\" , \"form_ipa\" : \"kwiːtor\" } ,\n",
    "67240: { \"form\" : \"queuntor\" , \"form_ipa\" : \"kweuntor\" } ,\n",
    "67241: { \"form\" : \"queundus\" , \"form_ipa\" : \"kweundus\" } ,\n",
    "67241: { \"form\" : \"queunda\" , \"form_ipa\" : \"kweunda\" } ,\n",
    "67241: { \"form\" : \"queundum\" , \"form_ipa\" : \"kweundum\" } ,\n",
    "67241: { \"form\" : \"queundī\" , \"form_ipa\" : \"kweundiː\" } ,\n",
    "67241: { \"form\" : \"queundae\" , \"form_ipa\" : \"kweundaj\" } ,\n",
    "67242: { \"form\" : \"queundī\" , \"form_ipa\" : \"kweundiː\" } ,\n",
    "67242: { \"form\" : \"queundō\" , \"form_ipa\" : \"kweundoː\" } ,\n",
    "67242: { \"form\" : \"queundae\" , \"form_ipa\" : \"kweundaj\" } ,\n",
    "67242: { \"form\" : \"queundō\" , \"form_ipa\" : \"kweundoː\" } ,\n",
    "67242: { \"form\" : \"queundum\" , \"form_ipa\" : \"kweundum\" } ,\n",
    "67242: { \"form\" : \"queundam\" , \"form_ipa\" : \"kweundam\" } ,\n",
    "67242: { \"form\" : \"queunde\" , \"form_ipa\" : \"kweunde\" } ,\n",
    "67242: { \"form\" : \"queunda\" , \"form_ipa\" : \"kweunda\" } ,\n",
    "67242: { \"form\" : \"queundum\" , \"form_ipa\" : \"kweundum\" } ,\n",
    "67243: { \"form\" : \"queundō\" , \"form_ipa\" : \"kweundoː\" } ,\n",
    "67243: { \"form\" : \"queundā\" , \"form_ipa\" : \"kweundaː\" } ,\n",
    "67243: { \"form\" : \"queundō\" , \"form_ipa\" : \"kweundoː\" } ,\n",
    "67243: { \"form\" : \"queundī\" , \"form_ipa\" : \"kweundiː\" } ,\n",
    "67243: { \"form\" : \"queundae\" , \"form_ipa\" : \"kweundaj\" } ,\n",
    "67243: { \"form\" : \"queunda\" , \"form_ipa\" : \"kweunda\" } ,\n",
    "67243: { \"form\" : \"queundōrum\" , \"form_ipa\" : \"kweundoːrum\" } ,\n",
    "67243: { \"form\" : \"queundārum\" , \"form_ipa\" : \"kweundaːrum\" } ,\n",
    "67243: { \"form\" : \"queundōrum\" , \"form_ipa\" : \"kweundoːrum\" } ,\n",
    "67243: { \"form\" : \"queundīs\" , \"form_ipa\" : \"kweundiːs\" } ,\n",
    "67244: { \"form\" : \"queundīs\" , \"form_ipa\" : \"kweundiːs\" } ,\n",
    "67244: { \"form\" : \"queundīs\" , \"form_ipa\" : \"kweundiːs\" } ,\n",
    "67244: { \"form\" : \"queundōs\" , \"form_ipa\" : \"kweundoːs\" } ,\n",
    "67244: { \"form\" : \"queundās\" , \"form_ipa\" : \"kweundaːs\" } ,\n",
    "67244: { \"form\" : \"queunda\" , \"form_ipa\" : \"kweunda\" } ,\n",
    "67244: { \"form\" : \"queundī\" , \"form_ipa\" : \"kweundiː\" } ,\n",
    "67244: { \"form\" : \"queundae\" , \"form_ipa\" : \"kweundaj\" } ,\n",
    "67244: { \"form\" : \"queunda\" , \"form_ipa\" : \"kweunda\" } ,\n",
    "67244: { \"form\" : \"queundīs\" , \"form_ipa\" : \"kweundiːs\" } ,\n",
    "67244: { \"form\" : \"queundīs\" , \"form_ipa\" : \"kweundiːs\" } ,\n",
    "67245: { \"form\" : \"queundīs\" , \"form_ipa\" : \"kweundiːs\" } ,\n",
    "76889: { \"form\" : \"subeor\" , \"form_ipa\" : \"subeor\" } ,\n",
    "76889: { \"form\" : \"subīris\" , \"form_ipa\" : \"subiːris\" } ,\n",
    "76889: { \"form\" : \"subīmur\" , \"form_ipa\" : \"subiːmur\" } ,\n",
    "76889: { \"form\" : \"subīminī\" , \"form_ipa\" : \"subiːminiː\" } ,\n",
    "76890: { \"form\" : \"subeuntur\" , \"form_ipa\" : \"subeuntur\" } ,\n",
    "76890: { \"form\" : \"subībar\" , \"form_ipa\" : \"subiːbar\" } ,\n",
    "76890: { \"form\" : \"subībāris\" , \"form_ipa\" : \"subiːbaːris\" } ,\n",
    "76890: { \"form\" : \"subībāmur\" , \"form_ipa\" : \"subiːbaːmur\" } ,\n",
    "76890: { \"form\" : \"subībāminī\" , \"form_ipa\" : \"subiːbaːminiː\" } ,\n",
    "76890: { \"form\" : \"subībantur\" , \"form_ipa\" : \"subiːbantur\" } ,\n",
    "76890: { \"form\" : \"subībor\" , \"form_ipa\" : \"subiːbor\" } ,\n",
    "76890: { \"form\" : \"subīberis\" , \"form_ipa\" : \"subiːberis\" } ,\n",
    "76891: { \"form\" : \"subībimur\" , \"form_ipa\" : \"subiːbimur\" } ,\n",
    "76891: { \"form\" : \"subībiminī\" , \"form_ipa\" : \"subiːbiminiː\" } ,\n",
    "76891: { \"form\" : \"subībuntur\" , \"form_ipa\" : \"subiːbuntur\" } ,\n",
    "76891: { \"form\" : \"subear\" , \"form_ipa\" : \"subear\" } ,\n",
    "76891: { \"form\" : \"subeāris\" , \"form_ipa\" : \"subeaːris\" } ,\n",
    "76891: { \"form\" : \"subeāmur\" , \"form_ipa\" : \"subeaːmur\" } ,\n",
    "76891: { \"form\" : \"subeāminī\" , \"form_ipa\" : \"subeaːminiː\" } ,\n",
    "76891: { \"form\" : \"subeantur\" , \"form_ipa\" : \"subeantur\" } ,\n",
    "76891: { \"form\" : \"subīrer\" , \"form_ipa\" : \"subiːrer\" } ,\n",
    "76892: { \"form\" : \"subīrēris\" , \"form_ipa\" : \"subiːreːris\" } ,\n",
    "76892: { \"form\" : \"subīrēmur\" , \"form_ipa\" : \"subiːreːmur\" } ,\n",
    "76892: { \"form\" : \"subīrēminī\" , \"form_ipa\" : \"subiːreːminiː\" } ,\n",
    "76892: { \"form\" : \"subīrentur\" , \"form_ipa\" : \"subiːrentur\" } ,\n",
    "76892: { \"form\" : \"subīre\" , \"form_ipa\" : \"subiːre\" } ,\n",
    "76892: { \"form\" : \"subīminī\" , \"form_ipa\" : \"subiːminiː\" } ,\n",
    "76892: { \"form\" : \"subītor\" , \"form_ipa\" : \"subiːtor\" } ,\n",
    "76892: { \"form\" : \"subītor\" , \"form_ipa\" : \"subiːtor\" } ,\n",
    "76892: { \"form\" : \"subeuntor\" , \"form_ipa\" : \"subeuntor\" } ,\n",
    "76893: { \"form\" : \"subeundus\" , \"form_ipa\" : \"subeundus\" } ,\n",
    "76893: { \"form\" : \"subeunda\" , \"form_ipa\" : \"subeunda\" } ,\n",
    "76893: { \"form\" : \"subeundum\" , \"form_ipa\" : \"subeundum\" } ,\n",
    "76893: { \"form\" : \"subeundī\" , \"form_ipa\" : \"subeundiː\" } ,\n",
    "76893: { \"form\" : \"subeundae\" , \"form_ipa\" : \"subeundaj\" } ,\n",
    "76894: { \"form\" : \"subeundī\" , \"form_ipa\" : \"subeundiː\" } ,\n",
    "76894: { \"form\" : \"subeundō\" , \"form_ipa\" : \"subeundoː\" } ,\n",
    "76894: { \"form\" : \"subeundae\" , \"form_ipa\" : \"subeundaj\" } ,\n",
    "76894: { \"form\" : \"subeundō\" , \"form_ipa\" : \"subeundoː\" } ,\n",
    "76894: { \"form\" : \"subeundum\" , \"form_ipa\" : \"subeundum\" } ,\n",
    "76894: { \"form\" : \"subeundam\" , \"form_ipa\" : \"subeundam\" } ,\n",
    "76894: { \"form\" : \"subeunde\" , \"form_ipa\" : \"subeunde\" } ,\n",
    "76894: { \"form\" : \"subeunda\" , \"form_ipa\" : \"subeunda\" } ,\n",
    "76894: { \"form\" : \"subeundum\" , \"form_ipa\" : \"subeundum\" } ,\n",
    "76895: { \"form\" : \"subeundō\" , \"form_ipa\" : \"subeundoː\" } ,\n",
    "76895: { \"form\" : \"subeundā\" , \"form_ipa\" : \"subeundaː\" } ,\n",
    "76895: { \"form\" : \"subeundō\" , \"form_ipa\" : \"subeundoː\" } ,\n",
    "76895: { \"form\" : \"subeundī\" , \"form_ipa\" : \"subeundiː\" } ,\n",
    "76895: { \"form\" : \"subeundae\" , \"form_ipa\" : \"subeundaj\" } ,\n",
    "76895: { \"form\" : \"subeunda\" , \"form_ipa\" : \"subeunda\" } ,\n",
    "76895: { \"form\" : \"subeundōrum\" , \"form_ipa\" : \"subeundoːrum\" } ,\n",
    "76895: { \"form\" : \"subeundārum\" , \"form_ipa\" : \"subeundaːrum\" } ,\n",
    "76895: { \"form\" : \"subeundōrum\" , \"form_ipa\" : \"subeundoːrum\" } ,\n",
    "76895: { \"form\" : \"subeundīs\" , \"form_ipa\" : \"subeundiːs\" } ,\n",
    "76896: { \"form\" : \"subeundīs\" , \"form_ipa\" : \"subeundiːs\" } ,\n",
    "76896: { \"form\" : \"subeundīs\" , \"form_ipa\" : \"subeundiːs\" } ,\n",
    "76896: { \"form\" : \"subeundōs\" , \"form_ipa\" : \"subeundoːs\" } ,\n",
    "76896: { \"form\" : \"subeundās\" , \"form_ipa\" : \"subeundaːs\" } ,\n",
    "76896: { \"form\" : \"subeunda\" , \"form_ipa\" : \"subeunda\" } ,\n",
    "76896: { \"form\" : \"subeundī\" , \"form_ipa\" : \"subeundiː\" } ,\n",
    "76896: { \"form\" : \"subeundae\" , \"form_ipa\" : \"subeundaj\" } ,\n",
    "76896: { \"form\" : \"subeunda\" , \"form_ipa\" : \"subeunda\" } ,\n",
    "76896: { \"form\" : \"subeundīs\" , \"form_ipa\" : \"subeundiːs\" } ,\n",
    "76896: { \"form\" : \"subeundīs\" , \"form_ipa\" : \"subeundiːs\" } ,\n",
    "76897: { \"form\" : \"subeundīs\" , \"form_ipa\" : \"subeundiːs\" } ,\n",
    "81410: { \"form\" : \"trānseor\" , \"form_ipa\" : \"traːnseor\" } ,\n",
    "81410: { \"form\" : \"trānsīris\" , \"form_ipa\" : \"traːnsiːris\" } ,\n",
    "81411: { \"form\" : \"trānsīmur\" , \"form_ipa\" : \"traːnsiːmur\" } ,\n",
    "81411: { \"form\" : \"trānsīminī\" , \"form_ipa\" : \"traːnsiːminiː\" } ,\n",
    "81411: { \"form\" : \"trānseuntur\" , \"form_ipa\" : \"traːnseuntur\" } ,\n",
    "81411: { \"form\" : \"trānsībar\" , \"form_ipa\" : \"traːnsiːbar\" } ,\n",
    "81411: { \"form\" : \"trānsībāris\" , \"form_ipa\" : \"traːnsiːbaːris\" } ,\n",
    "81411: { \"form\" : \"trānsībāmur\" , \"form_ipa\" : \"traːnsiːbaːmur\" } ,\n",
    "81411: { \"form\" : \"trānsībāminī\" , \"form_ipa\" : \"traːnsiːbaːminiː\" } ,\n",
    "81411: { \"form\" : \"trānsībantur\" , \"form_ipa\" : \"traːnsiːbantur\" } ,\n",
    "81411: { \"form\" : \"trānsībor\" , \"form_ipa\" : \"traːnsiːbor\" } ,\n",
    "81412: { \"form\" : \"trānsīberis\" , \"form_ipa\" : \"traːnsiːberis\" } ,\n",
    "81412: { \"form\" : \"trānsībimur\" , \"form_ipa\" : \"traːnsiːbimur\" } ,\n",
    "81412: { \"form\" : \"trānsībiminī\" , \"form_ipa\" : \"traːnsiːbiminiː\" } ,\n",
    "81412: { \"form\" : \"trānsībuntur\" , \"form_ipa\" : \"traːnsiːbuntur\" } ,\n",
    "81412: { \"form\" : \"trānsear\" , \"form_ipa\" : \"traːnsear\" } ,\n",
    "81412: { \"form\" : \"trānseāris\" , \"form_ipa\" : \"traːnseaːris\" } ,\n",
    "81412: { \"form\" : \"trānseāmur\" , \"form_ipa\" : \"traːnseaːmur\" } ,\n",
    "81412: { \"form\" : \"trānseāminī\" , \"form_ipa\" : \"traːnseaːminiː\" } ,\n",
    "81413: { \"form\" : \"trānseantur\" , \"form_ipa\" : \"traːnseantur\" } ,\n",
    "81413: { \"form\" : \"trānsīrer\" , \"form_ipa\" : \"traːnsiːrer\" } ,\n",
    "81413: { \"form\" : \"trānsīrēris\" , \"form_ipa\" : \"traːnsiːreːris\" } ,\n",
    "81413: { \"form\" : \"trānsīrēmur\" , \"form_ipa\" : \"traːnsiːreːmur\" } ,\n",
    "81413: { \"form\" : \"trānsīrēminī\" , \"form_ipa\" : \"traːnsiːreːminiː\" } ,\n",
    "81413: { \"form\" : \"trānsīrentur\" , \"form_ipa\" : \"traːnsiːrentur\" } ,\n",
    "81413: { \"form\" : \"trānsīre\" , \"form_ipa\" : \"traːnsiːre\" } ,\n",
    "81413: { \"form\" : \"trānsīminī\" , \"form_ipa\" : \"traːnsiːminiː\" } ,\n",
    "81413: { \"form\" : \"trānsītor\" , \"form_ipa\" : \"traːnsiːtor\" } ,\n",
    "81414: { \"form\" : \"trānsītor\" , \"form_ipa\" : \"traːnsiːtor\" } ,\n",
    "81414: { \"form\" : \"trānseuntor\" , \"form_ipa\" : \"traːnseuntor\" } ,\n",
    "81414: { \"form\" : \"trānseundus\" , \"form_ipa\" : \"traːnseundus\" } ,\n",
    "81414: { \"form\" : \"trānseunda\" , \"form_ipa\" : \"traːnseunda\" } ,\n",
    "81414: { \"form\" : \"trānseundum\" , \"form_ipa\" : \"traːnseundum\" } ,\n",
    "81415: { \"form\" : \"trānseundī\" , \"form_ipa\" : \"traːnseundiː\" } ,\n",
    "81415: { \"form\" : \"trānseundae\" , \"form_ipa\" : \"traːnseundaj\" } ,\n",
    "81415: { \"form\" : \"trānseundī\" , \"form_ipa\" : \"traːnseundiː\" } ,\n",
    "81415: { \"form\" : \"trānseundō\" , \"form_ipa\" : \"traːnseundoː\" } ,\n",
    "81415: { \"form\" : \"trānseundae\" , \"form_ipa\" : \"traːnseundaj\" } ,\n",
    "81415: { \"form\" : \"trānseundō\" , \"form_ipa\" : \"traːnseundoː\" } ,\n",
    "81415: { \"form\" : \"trānseundum\" , \"form_ipa\" : \"traːnseundum\" } ,\n",
    "81415: { \"form\" : \"trānseundam\" , \"form_ipa\" : \"traːnseundam\" } ,\n",
    "81415: { \"form\" : \"trānseunde\" , \"form_ipa\" : \"traːnseunde\" } ,\n",
    "81416: { \"form\" : \"trānseunda\" , \"form_ipa\" : \"traːnseunda\" } ,\n",
    "81416: { \"form\" : \"trānseundum\" , \"form_ipa\" : \"traːnseundum\" } ,\n",
    "81416: { \"form\" : \"trānseundō\" , \"form_ipa\" : \"traːnseundoː\" } ,\n",
    "81416: { \"form\" : \"trānseundā\" , \"form_ipa\" : \"traːnseundaː\" } ,\n",
    "81416: { \"form\" : \"trānseundō\" , \"form_ipa\" : \"traːnseundoː\" } ,\n",
    "81416: { \"form\" : \"trānseundī\" , \"form_ipa\" : \"traːnseundiː\" } ,\n",
    "81416: { \"form\" : \"trānseundae\" , \"form_ipa\" : \"traːnseundaj\" } ,\n",
    "81416: { \"form\" : \"trānseunda\" , \"form_ipa\" : \"traːnseunda\" } ,\n",
    "81416: { \"form\" : \"trānseundōrum\" , \"form_ipa\" : \"traːnseundoːrum\" } ,\n",
    "81416: { \"form\" : \"trānseundārum\" , \"form_ipa\" : \"traːnseundaːrum\" } ,\n",
    "81417: { \"form\" : \"trānseundōrum\" , \"form_ipa\" : \"traːnseundoːrum\" } ,\n",
    "81417: { \"form\" : \"trānseundīs\" , \"form_ipa\" : \"traːnseundiːs\" } ,\n",
    "81417: { \"form\" : \"trānseundīs\" , \"form_ipa\" : \"traːnseundiːs\" } ,\n",
    "81417: { \"form\" : \"trānseundīs\" , \"form_ipa\" : \"traːnseundiːs\" } ,\n",
    "81417: { \"form\" : \"trānseundōs\" , \"form_ipa\" : \"traːnseundoːs\" } ,\n",
    "81417: { \"form\" : \"trānseundās\" , \"form_ipa\" : \"traːnseundaːs\" } ,\n",
    "81417: { \"form\" : \"trānseunda\" , \"form_ipa\" : \"traːnseunda\" } ,\n",
    "81417: { \"form\" : \"trānseundī\" , \"form_ipa\" : \"traːnseundiː\" } ,\n",
    "81417: { \"form\" : \"trānseundae\" , \"form_ipa\" : \"traːnseundaj\" } ,\n",
    "81417: { \"form\" : \"trānseunda\" , \"form_ipa\" : \"traːnseunda\" } ,\n",
    "81418: { \"form\" : \"trānseundīs\" , \"form_ipa\" : \"traːnseundiːs\" } ,\n",
    "81418: { \"form\" : \"trānseundīs\" , \"form_ipa\" : \"traːnseundiːs\" } ,\n",
    "81418: { \"form\" : \"trānseundīs\" , \"form_ipa\" : \"traːnseundiːs\" } ,\n",
    "83315: { \"form\" : \"uēneor\" , \"form_ipa\" : \"weːneor\" } ,\n",
    "83315: { \"form\" : \"uēnīris\" , \"form_ipa\" : \"weːniːris\" } ,\n",
    "83316: { \"form\" : \"uēnīmur\" , \"form_ipa\" : \"weːniːmur\" } ,\n",
    "83316: { \"form\" : \"uēnīminī\" , \"form_ipa\" : \"weːniːminiː\" } ,\n",
    "83316: { \"form\" : \"uēneuntur\" , \"form_ipa\" : \"weːneuntur\" } ,\n",
    "83316: { \"form\" : \"uēnībar\" , \"form_ipa\" : \"weːniːbar\" } ,\n",
    "83316: { \"form\" : \"uēnībāris\" , \"form_ipa\" : \"weːniːbaːris\" } ,\n",
    "83316: { \"form\" : \"uēnībāmur\" , \"form_ipa\" : \"weːniːbaːmur\" } ,\n",
    "83316: { \"form\" : \"uēnībāminī\" , \"form_ipa\" : \"weːniːbaːminiː\" } ,\n",
    "83316: { \"form\" : \"uēnībantur\" , \"form_ipa\" : \"weːniːbantur\" } ,\n",
    "83316: { \"form\" : \"uēnībor\" , \"form_ipa\" : \"weːniːbor\" } ,\n",
    "83317: { \"form\" : \"uēnīberis\" , \"form_ipa\" : \"weːniːberis\" } ,\n",
    "83317: { \"form\" : \"uēnībimur\" , \"form_ipa\" : \"weːniːbimur\" } ,\n",
    "83317: { \"form\" : \"uēnībiminī\" , \"form_ipa\" : \"weːniːbiminiː\" } ,\n",
    "83317: { \"form\" : \"uēnībuntur\" , \"form_ipa\" : \"weːniːbuntur\" } ,\n",
    "83317: { \"form\" : \"uēnear\" , \"form_ipa\" : \"weːnear\" } ,\n",
    "83317: { \"form\" : \"uēneāris\" , \"form_ipa\" : \"weːneaːris\" } ,\n",
    "83317: { \"form\" : \"uēneāmur\" , \"form_ipa\" : \"weːneaːmur\" } ,\n",
    "83317: { \"form\" : \"uēneāminī\" , \"form_ipa\" : \"weːneaːminiː\" } ,\n",
    "83318: { \"form\" : \"uēneantur\" , \"form_ipa\" : \"weːneantur\" } ,\n",
    "83318: { \"form\" : \"uēnīrer\" , \"form_ipa\" : \"weːniːrer\" } ,\n",
    "83318: { \"form\" : \"uēnīrēris\" , \"form_ipa\" : \"weːniːreːris\" } ,\n",
    "83318: { \"form\" : \"uēnīrēmur\" , \"form_ipa\" : \"weːniːreːmur\" } ,\n",
    "83318: { \"form\" : \"uēnīrēminī\" , \"form_ipa\" : \"weːniːreːminiː\" } ,\n",
    "83318: { \"form\" : \"uēnīrentur\" , \"form_ipa\" : \"weːniːrentur\" } ,\n",
    "83318: { \"form\" : \"uēnīre\" , \"form_ipa\" : \"weːniːre\" } ,\n",
    "83318: { \"form\" : \"uēnīminī\" , \"form_ipa\" : \"weːniːminiː\" } ,\n",
    "83318: { \"form\" : \"uēnītor\" , \"form_ipa\" : \"weːniːtor\" } ,\n",
    "83319: { \"form\" : \"uēnītor\" , \"form_ipa\" : \"weːniːtor\" } ,\n",
    "83319: { \"form\" : \"uēneuntor\" , \"form_ipa\" : \"weːneuntor\" } ,\n",
    "83319: { \"form\" : \"uēneundus\" , \"form_ipa\" : \"weːneundus\" } ,\n",
    "83319: { \"form\" : \"uēneunda\" , \"form_ipa\" : \"weːneunda\" } ,\n",
    "83319: { \"form\" : \"uēneundum\" , \"form_ipa\" : \"weːneundum\" } ,\n",
    "83320: { \"form\" : \"uēneundī\" , \"form_ipa\" : \"weːneundiː\" } ,\n",
    "83320: { \"form\" : \"uēneundae\" , \"form_ipa\" : \"weːneundaj\" } ,\n",
    "83320: { \"form\" : \"uēneundī\" , \"form_ipa\" : \"weːneundiː\" } ,\n",
    "83320: { \"form\" : \"uēneundō\" , \"form_ipa\" : \"weːneundoː\" } ,\n",
    "83320: { \"form\" : \"uēneundae\" , \"form_ipa\" : \"weːneundaj\" } ,\n",
    "83320: { \"form\" : \"uēneundō\" , \"form_ipa\" : \"weːneundoː\" } ,\n",
    "83320: { \"form\" : \"uēneundum\" , \"form_ipa\" : \"weːneundum\" } ,\n",
    "83320: { \"form\" : \"uēneundam\" , \"form_ipa\" : \"weːneundam\" } ,\n",
    "83320: { \"form\" : \"uēneunde\" , \"form_ipa\" : \"weːneunde\" } ,\n",
    "83321: { \"form\" : \"uēneunda\" , \"form_ipa\" : \"weːneunda\" } ,\n",
    "83321: { \"form\" : \"uēneundum\" , \"form_ipa\" : \"weːneundum\" } ,\n",
    "83321: { \"form\" : \"uēneundō\" , \"form_ipa\" : \"weːneundoː\" } ,\n",
    "83321: { \"form\" : \"uēneundā\" , \"form_ipa\" : \"weːneundaː\" } ,\n",
    "83321: { \"form\" : \"uēneundō\" , \"form_ipa\" : \"weːneundoː\" } ,\n",
    "83321: { \"form\" : \"uēneundī\" , \"form_ipa\" : \"weːneundiː\" } ,\n",
    "83321: { \"form\" : \"uēneundae\" , \"form_ipa\" : \"weːneundaj\" } ,\n",
    "83321: { \"form\" : \"uēneunda\" , \"form_ipa\" : \"weːneunda\" } ,\n",
    "83321: { \"form\" : \"uēneundōrum\" , \"form_ipa\" : \"weːneundoːrum\" } ,\n",
    "83321: { \"form\" : \"uēneundārum\" , \"form_ipa\" : \"weːneundaːrum\" } ,\n",
    "83322: { \"form\" : \"uēneundōrum\" , \"form_ipa\" : \"weːneundoːrum\" } ,\n",
    "83322: { \"form\" : \"uēneundīs\" , \"form_ipa\" : \"weːneundiːs\" } ,\n",
    "83322: { \"form\" : \"uēneundīs\" , \"form_ipa\" : \"weːneundiːs\" } ,\n",
    "83322: { \"form\" : \"uēneundīs\" , \"form_ipa\" : \"weːneundiːs\" } ,\n",
    "83322: { \"form\" : \"uēneundōs\" , \"form_ipa\" : \"weːneundoːs\" } ,\n",
    "83322: { \"form\" : \"uēneundās\" , \"form_ipa\" : \"weːneundaːs\" } ,\n",
    "83322: { \"form\" : \"uēneunda\" , \"form_ipa\" : \"weːneunda\" } ,\n",
    "83322: { \"form\" : \"uēneundī\" , \"form_ipa\" : \"weːneundiː\" } ,\n",
    "83322: { \"form\" : \"uēneundae\" , \"form_ipa\" : \"weːneundaj\" } ,\n",
    "83322: { \"form\" : \"uēneunda\" , \"form_ipa\" : \"weːneunda\" } ,\n",
    "83323: { \"form\" : \"uēneundīs\" , \"form_ipa\" : \"weːneundiːs\" } ,\n",
    "83323: { \"form\" : \"uēneundīs\" , \"form_ipa\" : \"weːneundiːs\" } ,\n",
    "83323: { \"form\" : \"uēneundīs\" , \"form_ipa\" : \"weːneundiːs\" }\n",
    "}"
   ]
  },
  {
   "cell_type": "code",
   "execution_count": 7,
   "id": "8e2c8f52-33e9-49fb-a683-9b9cdff676fc",
   "metadata": {},
   "outputs": [
    {
     "name": "stderr",
     "output_type": "stream",
     "text": [
      "C:\\Users\\matteo.pellegrini\\AppData\\Local\\Temp\\ipykernel_1424\\2998859583.py:6: FutureWarning: Setting an item of incompatible dtype is deprecated and will raise in a future error of pandas. Value 'adeor' has dtype incompatible with float64, please explicitly cast to a compatible dtype first.\n",
      "  LatInfLexi_verbs.loc[row,column] = changes[row][column]\n"
     ]
    }
   ],
   "source": [
    "for row in changes:\n",
    "    #print(row)\n",
    "    for column in changes[row]:\n",
    "        #print(column)\n",
    "        #print(changes[row][column])\n",
    "        LatInfLexi_verbs.loc[row,column] = changes[row][column]"
   ]
  },
  {
   "cell_type": "markdown",
   "id": "385280e7-04ff-4992-b1b1-dbe707d7fc00",
   "metadata": {},
   "source": [
    "# Distinguishing defective cells from missing data"
   ]
  },
  {
   "cell_type": "code",
   "execution_count": 8,
   "id": "746b98d6-3472-49e1-8d96-fadff4593d51",
   "metadata": {},
   "outputs": [],
   "source": [
    "defective_verbs = pd.read_csv(\"./etc/verbs_defectiveness_mapping_manual.csv\", sep=\"\\t\", index_col=\"lexeme\")\n",
    "defective_nouns = pd.read_csv(\"./etc/nouns_defectiveness_mapping_manual.csv\", sep=\"\\t\", index_col=\"lexeme\")"
   ]
  },
  {
   "cell_type": "code",
   "execution_count": 9,
   "id": "3bd84e8c-1e5e-409c-b068-34fdf843b1ec",
   "metadata": {},
   "outputs": [],
   "source": [
    "for i in LatInfLexi_nouns.index:\n",
    "    if LatInfLexi_nouns.loc[i,\"form\"] == \"#DEF#\" and LatInfLexi_nouns.loc[i,\"form_IPA\"] == \"#DEF#\" :\n",
    "        if defective_nouns.loc[LatInfLexi_nouns.loc[i,\"lexeme\"],\"systematicDefectiveness\"] != \"plurale tantum\":\n",
    "            LatInfLexi_nouns.loc[i,\"form\"] = \"\"\n",
    "            LatInfLexi_nouns.loc[i,\"form_IPA\"] = \"\"\n",
    "            #print(LatInfLexi_nouns.loc[i,\"lexeme\"],LatInfLexi_nouns.loc[i,\"PoSTag:features\"],LatInfLexi_nouns.loc[i,\"form_IPA\"],type(LatInfLexi_nouns.loc[i,\"form_IPA\"]))"
   ]
  },
  {
   "cell_type": "code",
   "execution_count": 10,
   "id": "a8633dcb-fcbb-4641-8bcc-933af6e1c51f",
   "metadata": {},
   "outputs": [],
   "source": [
    "LatInfLexi_nouns = LatInfLexi_nouns[LatInfLexi_nouns[\"form\"] != \"\"]"
   ]
  },
  {
   "cell_type": "code",
   "execution_count": 11,
   "id": "4d93a37d-b1db-4086-99df-9dd636b7f118",
   "metadata": {},
   "outputs": [],
   "source": [
    "never_defective_cells = ['VERB:Sup+-+-+-+Act+-+-+Acc+-', 'VERB:Sup+-+-+-+Pass+-+-+Abl+-', 'VERB:Part+-+Past+Perf+Pass+-+Sing+Nom+Masc', 'VERB:Part+-+Past+Perf+Pass+-+Sing+Nom+Fem', 'VERB:Part+-+Past+Perf+Pass+-+Sing+Nom+Neut', 'VERB:Part+-+Past+Perf+Pass+-+Sing+Gen+Masc', 'VERB:Part+-+Past+Perf+Pass+-+Sing+Gen+Fem', 'VERB:Part+-+Past+Perf+Pass+-+Sing+Gen+Neut', 'VERB:Part+-+Past+Perf+Pass+-+Sing+Dat+Masc', 'VERB:Part+-+Past+Perf+Pass+-+Sing+Dat+Fem', 'VERB:Part+-+Past+Perf+Pass+-+Sing+Dat+Neut', 'VERB:Part+-+Past+Perf+Pass+-+Sing+Acc+Masc', 'VERB:Part+-+Past+Perf+Pass+-+Sing+Acc+Fem', 'VERB:Part+-+Past+Perf+Pass+-+Sing+Acc+Neut', 'VERB:Part+-+Past+Perf+Pass+-+Sing+Voc+Masc', 'VERB:Part+-+Past+Perf+Pass+-+Sing+Voc+Fem', 'VERB:Part+-+Past+Perf+Pass+-+Sing+Voc+Neut', 'VERB:Part+-+Past+Perf+Pass+-+Sing+Abl+Masc', 'VERB:Part+-+Past+Perf+Pass+-+Sing+Abl+Fem', 'VERB:Part+-+Past+Perf+Pass+-+Sing+Abl+Neut', 'VERB:Part+-+Past+Perf+Pass+-+Plur+Nom+Masc', 'VERB:Part+-+Past+Perf+Pass+-+Plur+Nom+Fem', 'VERB:Part+-+Past+Perf+Pass+-+Plur+Nom+Neut', 'VERB:Part+-+Past+Perf+Pass+-+Plur+Gen+Masc', 'VERB:Part+-+Past+Perf+Pass+-+Plur+Gen+Fem', 'VERB:Part+-+Past+Perf+Pass+-+Plur+Gen+Neut', 'VERB:Part+-+Past+Perf+Pass+-+Plur+Dat+Masc', 'VERB:Part+-+Past+Perf+Pass+-+Plur+Dat+Fem', 'VERB:Part+-+Past+Perf+Pass+-+Plur+Dat+Neut', 'VERB:Part+-+Past+Perf+Pass+-+Plur+Acc+Masc', 'VERB:Part+-+Past+Perf+Pass+-+Plur+Acc+Fem', 'VERB:Part+-+Past+Perf+Pass+-+Plur+Acc+Neut', 'VERB:Part+-+Past+Perf+Pass+-+Plur+Voc+Masc', 'VERB:Part+-+Past+Perf+Pass+-+Plur+Voc+Fem', 'VERB:Part+-+Past+Perf+Pass+-+Plur+Voc+Neut', 'VERB:Part+-+Past+Perf+Pass+-+Plur+Abl+Masc', 'VERB:Part+-+Past+Perf+Pass+-+Plur+Abl+Fem', 'VERB:Part+-+Past+Perf+Pass+-+Plur+Abl+Neut', 'VERB:Part+-+Fut+-+Act+-+Sing+Nom+Masc', 'VERB:Part+-+Fut+-+Act+-+Sing+Nom+Fem', 'VERB:Part+-+Fut+-+Act+-+Sing+Nom+Neut', 'VERB:Part+-+Fut+-+Act+-+Sing+Gen+Masc', 'VERB:Part+-+Fut+-+Act+-+Sing+Gen+Fem', 'VERB:Part+-+Fut+-+Act+-+Sing+Gen+Neut', 'VERB:Part+-+Fut+-+Act+-+Sing+Dat+Masc', 'VERB:Part+-+Fut+-+Act+-+Sing+Dat+Fem', 'VERB:Part+-+Fut+-+Act+-+Sing+Dat+Neut', 'VERB:Part+-+Fut+-+Act+-+Sing+Acc+Masc', 'VERB:Part+-+Fut+-+Act+-+Sing+Acc+Fem', 'VERB:Part+-+Fut+-+Act+-+Sing+Acc+Neut', 'VERB:Part+-+Fut+-+Act+-+Sing+Voc+Masc', 'VERB:Part+-+Fut+-+Act+-+Sing+Voc+Fem', 'VERB:Part+-+Fut+-+Act+-+Sing+Voc+Neut', 'VERB:Part+-+Fut+-+Act+-+Sing+Abl+Masc', 'VERB:Part+-+Fut+-+Act+-+Sing+Abl+Fem', 'VERB:Part+-+Fut+-+Act+-+Sing+Abl+Neut', 'VERB:Part+-+Fut+-+Act+-+Plur+Nom+Masc', 'VERB:Part+-+Fut+-+Act+-+Plur+Nom+Fem', 'VERB:Part+-+Fut+-+Act+-+Plur+Nom+Neut', 'VERB:Part+-+Fut+-+Act+-+Plur+Gen+Masc', 'VERB:Part+-+Fut+-+Act+-+Plur+Gen+Fem', 'VERB:Part+-+Fut+-+Act+-+Plur+Gen+Neut', 'VERB:Part+-+Fut+-+Act+-+Plur+Dat+Masc', 'VERB:Part+-+Fut+-+Act+-+Plur+Dat+Fem', 'VERB:Part+-+Fut+-+Act+-+Plur+Dat+Neut', 'VERB:Part+-+Fut+-+Act+-+Plur+Acc+Masc', 'VERB:Part+-+Fut+-+Act+-+Plur+Acc+Fem', 'VERB:Part+-+Fut+-+Act+-+Plur+Acc+Neut', 'VERB:Part+-+Fut+-+Act+-+Plur+Voc+Masc', 'VERB:Part+-+Fut+-+Act+-+Plur+Voc+Fem', 'VERB:Part+-+Fut+-+Act+-+Plur+Voc+Neut', 'VERB:Part+-+Fut+-+Act+-+Plur+Abl+Masc', 'VERB:Part+-+Fut+-+Act+-+Plur+Abl+Fem', 'VERB:Part+-+Fut+-+Act+-+Plur+Abl+Neut']"
   ]
  },
  {
   "cell_type": "code",
   "execution_count": 12,
   "id": "bb39dcd2-8e95-4246-8b6b-7969e759ae27",
   "metadata": {},
   "outputs": [
    {
     "name": "stderr",
     "output_type": "stream",
     "text": [
      "100%|████████████████████████████████████████████████████████████████████████| 850392/850392 [10:13<00:00, 1387.02it/s]\n"
     ]
    }
   ],
   "source": [
    "for i in tqdm(LatInfLexi_verbs.index):\n",
    "    if LatInfLexi_verbs.loc[i,\"form\"] == \"#DEF#\" and LatInfLexi_verbs.loc[i,\"form_IPA\"] == \"#DEF#\":\n",
    "        if defective_verbs.loc[LatInfLexi_verbs.loc[i,\"lexeme\"],\"systematicDefectiveness\"] == \"none\" or LatInfLexi_verbs.loc[i,\"PoSTag:features\"] in never_defective_cells:\n",
    "            LatInfLexi_verbs.loc[i,\"form\"] = \"\"\n",
    "            LatInfLexi_verbs.loc[i,\"form_IPA\"] = \"\"\n",
    "            #print(LatInfLexi_verbs.loc[i,\"lexeme\"],LatInfLexi_verbs.loc[i,\"PoSTag:features\"],LatInfLexi_verbs.loc[i,\"form_IPA\"],type(LatInfLexi_verbs.loc[i,\"form_IPA\"]))"
   ]
  },
  {
   "cell_type": "code",
   "execution_count": 13,
   "id": "51d59e6d-2d6f-4e08-92dc-08f337783165",
   "metadata": {},
   "outputs": [],
   "source": [
    "LatInfLexi_verbs = LatInfLexi_verbs[LatInfLexi_verbs[\"form\"] != \"\"]"
   ]
  },
  {
   "cell_type": "markdown",
   "id": "e22f228abea29755",
   "metadata": {
    "collapsed": false,
    "jupyter": {
     "outputs_hidden": false
    }
   },
   "source": [
    "# Combining forms tables"
   ]
  },
  {
   "cell_type": "markdown",
   "id": "d3221180c97d6912",
   "metadata": {
    "collapsed": false,
    "jupyter": {
     "outputs_hidden": false
    }
   },
   "source": [
    "Adding POS"
   ]
  },
  {
   "cell_type": "code",
   "execution_count": 14,
   "id": "10d820ea",
   "metadata": {
    "ExecuteTime": {
     "end_time": "2023-11-21T13:00:57.971809516Z",
     "start_time": "2023-11-21T13:00:57.949544775Z"
    }
   },
   "outputs": [],
   "source": [
    "LatInfLexi_verbs[\"POS\"] = \"verb\"\n",
    "LatInfLexi_nouns[\"POS\"] = \"noun\""
   ]
  },
  {
   "cell_type": "markdown",
   "id": "40bb8cc2f2095405",
   "metadata": {
    "collapsed": false,
    "jupyter": {
     "outputs_hidden": false
    }
   },
   "source": [
    "Generating form_id"
   ]
  },
  {
   "cell_type": "code",
   "execution_count": 15,
   "id": "1a75d1017c405c42",
   "metadata": {
    "ExecuteTime": {
     "end_time": "2023-11-21T13:00:58.124742878Z",
     "start_time": "2023-11-21T13:00:57.957949501Z"
    },
    "collapsed": false,
    "jupyter": {
     "outputs_hidden": false
    }
   },
   "outputs": [],
   "source": [
    "def add_form_id(df, suffix=\"\"):\n",
    "    df.index.name = \"form_id\"\n",
    "    df.reset_index(inplace=True)\n",
    "    df[\"form_id\"] = \"form_\" + df[\"form_id\"].apply(str) + suffix\n",
    "\n",
    "add_form_id(LatInfLexi_verbs, \"_v\")\n",
    "add_form_id(LatInfLexi_nouns, \"_n\")"
   ]
  },
  {
   "cell_type": "markdown",
   "id": "b6c3e4cdd55bee24",
   "metadata": {
    "collapsed": false,
    "jupyter": {
     "outputs_hidden": false
    }
   },
   "source": [
    "Concatenating forms tables:"
   ]
  },
  {
   "cell_type": "code",
   "execution_count": 16,
   "id": "19af8e84219aa94b",
   "metadata": {
    "ExecuteTime": {
     "end_time": "2023-11-21T13:00:58.201850861Z",
     "start_time": "2023-11-21T13:00:58.124578719Z"
    },
    "collapsed": false,
    "jupyter": {
     "outputs_hidden": false
    }
   },
   "outputs": [],
   "source": [
    "LatInfLexi_forms = pd.concat([LatInfLexi_verbs, LatInfLexi_nouns])"
   ]
  },
  {
   "cell_type": "markdown",
   "id": "cc3f84079a4187d",
   "metadata": {
    "collapsed": false,
    "jupyter": {
     "outputs_hidden": false
    }
   },
   "source": [
    "# Converting forms to Paralex format"
   ]
  },
  {
   "cell_type": "markdown",
   "id": "8b4b27e741d8ff6",
   "metadata": {
    "collapsed": false,
    "jupyter": {
     "outputs_hidden": false
    }
   },
   "source": [
    "Obtaining columns in Paralex format:"
   ]
  },
  {
   "cell_type": "code",
   "execution_count": 17,
   "id": "73d9fe66",
   "metadata": {
    "ExecuteTime": {
     "end_time": "2023-11-21T13:00:58.207228624Z",
     "start_time": "2023-11-21T13:00:58.189356148Z"
    }
   },
   "outputs": [],
   "source": [
    "col_map = {\"form\": \"orth_form\", \"form_IPA\": \"phon_form\", \"PoSTag:features\": \"cell\",\n",
    "           \"freqTFTL\":\"frequency\",\n",
    "           \"freqAntiquitas\":\"frequency_Antiquitas\" ,\n",
    "           \"freqAetasPatrum\":\"frequency_AetasPatrum\",\n",
    "            \"freqMediumAeuum\":\"frequency_MediumAeuum\",\n",
    "            \"freqRecentiorLatinitas\":\"frequency_RecentiorLatinitas\"\n",
    "           }\n",
    "LatInfLexi_forms.rename(col_map, axis=1, inplace=True)"
   ]
  },
  {
   "cell_type": "markdown",
   "id": "eb75402379a88c4a",
   "metadata": {
    "collapsed": false,
    "jupyter": {
     "outputs_hidden": false
    }
   },
   "source": [
    "Mapping cells to new scheme:"
   ]
  },
  {
   "cell_type": "code",
   "execution_count": 18,
   "id": "5e1f7c0173511219",
   "metadata": {
    "ExecuteTime": {
     "end_time": "2023-11-21T13:00:58.258968619Z",
     "start_time": "2023-11-21T13:00:58.195513272Z"
    },
    "collapsed": false,
    "jupyter": {
     "outputs_hidden": false
    }
   },
   "outputs": [],
   "source": [
    "LatInfLexi_cells_mapper = LatInfLexi_cells.set_index(\"LatInFlexi-cell\").cell_id.to_dict()\n",
    "LatInfLexi_forms.loc[:,\"cell\"] = LatInfLexi_forms.cell.map(LatInfLexi_cells_mapper)"
   ]
  },
  {
   "cell_type": "code",
   "execution_count": 19,
   "id": "8385f70c72669fad",
   "metadata": {
    "ExecuteTime": {
     "end_time": "2023-11-21T13:00:58.276812826Z",
     "start_time": "2023-11-21T13:00:58.233922805Z"
    },
    "collapsed": false,
    "jupyter": {
     "outputs_hidden": false
    }
   },
   "outputs": [
    {
     "data": {
      "text/html": [
       "<div>\n",
       "<style scoped>\n",
       "    .dataframe tbody tr th:only-of-type {\n",
       "        vertical-align: middle;\n",
       "    }\n",
       "\n",
       "    .dataframe tbody tr th {\n",
       "        vertical-align: top;\n",
       "    }\n",
       "\n",
       "    .dataframe thead th {\n",
       "        text-align: right;\n",
       "    }\n",
       "</style>\n",
       "<table border=\"1\" class=\"dataframe\">\n",
       "  <thead>\n",
       "    <tr style=\"text-align: right;\">\n",
       "      <th></th>\n",
       "      <th>form_id</th>\n",
       "      <th>lexeme</th>\n",
       "      <th>cell</th>\n",
       "      <th>orth_form</th>\n",
       "      <th>phon_form</th>\n",
       "      <th>frequency</th>\n",
       "      <th>frequency_Antiquitas</th>\n",
       "      <th>frequency_AetasPatrum</th>\n",
       "      <th>frequency_MediumAeuum</th>\n",
       "      <th>frequency_RecentiorLatinitas</th>\n",
       "      <th>form_ipa</th>\n",
       "      <th>POS</th>\n",
       "    </tr>\n",
       "  </thead>\n",
       "  <tbody>\n",
       "    <tr>\n",
       "      <th>628084</th>\n",
       "      <td>form_660797_v</td>\n",
       "      <td>prosequor</td>\n",
       "      <td>prs.act.ptcp.voc.m.pl</td>\n",
       "      <td>prōsequentēs</td>\n",
       "      <td>proːsekwenteːs</td>\n",
       "      <td>69</td>\n",
       "      <td>3</td>\n",
       "      <td>9</td>\n",
       "      <td>50</td>\n",
       "      <td>7</td>\n",
       "      <td>NaN</td>\n",
       "      <td>verb</td>\n",
       "    </tr>\n",
       "    <tr>\n",
       "      <th>581431</th>\n",
       "      <td>form_611177_v</td>\n",
       "      <td>pollicitor</td>\n",
       "      <td>fut.pass.ind.2.pl</td>\n",
       "      <td>pollicitābiminī</td>\n",
       "      <td>pollikitaːbiminiː</td>\n",
       "      <td>0</td>\n",
       "      <td>0</td>\n",
       "      <td>0</td>\n",
       "      <td>0</td>\n",
       "      <td>0</td>\n",
       "      <td>NaN</td>\n",
       "      <td>verb</td>\n",
       "    </tr>\n",
       "    <tr>\n",
       "      <th>529371</th>\n",
       "      <td>form_555895_v</td>\n",
       "      <td>opto</td>\n",
       "      <td>prs.act.ptcp.voc.m.pl</td>\n",
       "      <td>optantēs</td>\n",
       "      <td>optanteːs</td>\n",
       "      <td>74</td>\n",
       "      <td>5</td>\n",
       "      <td>27</td>\n",
       "      <td>40</td>\n",
       "      <td>2</td>\n",
       "      <td>NaN</td>\n",
       "      <td>verb</td>\n",
       "    </tr>\n",
       "    <tr>\n",
       "      <th>64832</th>\n",
       "      <td>form_67727_v</td>\n",
       "      <td>aspergo</td>\n",
       "      <td>fprf.act.ind.3.sg</td>\n",
       "      <td>asperserit</td>\n",
       "      <td>asperserit</td>\n",
       "      <td>12</td>\n",
       "      <td>1</td>\n",
       "      <td>7</td>\n",
       "      <td>4</td>\n",
       "      <td>0</td>\n",
       "      <td>NaN</td>\n",
       "      <td>verb</td>\n",
       "    </tr>\n",
       "    <tr>\n",
       "      <th>160471</th>\n",
       "      <td>form_168494_v</td>\n",
       "      <td>consumo</td>\n",
       "      <td>gdv.abl.m.sg</td>\n",
       "      <td>cōnsūmendō</td>\n",
       "      <td>koːnsuːmendoː</td>\n",
       "      <td>44</td>\n",
       "      <td>0</td>\n",
       "      <td>14</td>\n",
       "      <td>29</td>\n",
       "      <td>1</td>\n",
       "      <td>NaN</td>\n",
       "      <td>verb</td>\n",
       "    </tr>\n",
       "  </tbody>\n",
       "</table>\n",
       "</div>"
      ],
      "text/plain": [
       "              form_id      lexeme                   cell        orth_form  \\\n",
       "628084  form_660797_v   prosequor  prs.act.ptcp.voc.m.pl     prōsequentēs   \n",
       "581431  form_611177_v  pollicitor      fut.pass.ind.2.pl  pollicitābiminī   \n",
       "529371  form_555895_v        opto  prs.act.ptcp.voc.m.pl         optantēs   \n",
       "64832    form_67727_v     aspergo      fprf.act.ind.3.sg       asperserit   \n",
       "160471  form_168494_v     consumo           gdv.abl.m.sg       cōnsūmendō   \n",
       "\n",
       "                phon_form  frequency  frequency_Antiquitas  \\\n",
       "628084     proːsekwenteːs         69                     3   \n",
       "581431  pollikitaːbiminiː          0                     0   \n",
       "529371          optanteːs         74                     5   \n",
       "64832          asperserit         12                     1   \n",
       "160471      koːnsuːmendoː         44                     0   \n",
       "\n",
       "        frequency_AetasPatrum  frequency_MediumAeuum  \\\n",
       "628084                      9                     50   \n",
       "581431                      0                      0   \n",
       "529371                     27                     40   \n",
       "64832                       7                      4   \n",
       "160471                     14                     29   \n",
       "\n",
       "        frequency_RecentiorLatinitas form_ipa   POS  \n",
       "628084                             7      NaN  verb  \n",
       "581431                             0      NaN  verb  \n",
       "529371                             2      NaN  verb  \n",
       "64832                              0      NaN  verb  \n",
       "160471                             1      NaN  verb  "
      ]
     },
     "execution_count": 19,
     "metadata": {},
     "output_type": "execute_result"
    }
   ],
   "source": [
    "LatInfLexi_forms.sample(5)"
   ]
  },
  {
   "cell_type": "markdown",
   "id": "fcd4b3795e3a761",
   "metadata": {
    "collapsed": false,
    "jupyter": {
     "outputs_hidden": false
    }
   },
   "source": [
    "Setting form_id as index"
   ]
  },
  {
   "cell_type": "code",
   "execution_count": 20,
   "id": "169f36eee87e7e85",
   "metadata": {
    "ExecuteTime": {
     "end_time": "2023-11-21T13:00:58.421537348Z",
     "start_time": "2023-11-21T13:00:58.276071229Z"
    }
   },
   "outputs": [],
   "source": [
    "LatInfLexi_forms = LatInfLexi_forms.set_index(\"form_id\")"
   ]
  },
  {
   "cell_type": "code",
   "execution_count": 21,
   "id": "5b00c561095c1be6",
   "metadata": {
    "ExecuteTime": {
     "end_time": "2023-11-21T13:00:58.453597203Z",
     "start_time": "2023-11-21T13:00:58.402685989Z"
    },
    "collapsed": false,
    "jupyter": {
     "outputs_hidden": false
    }
   },
   "outputs": [
    {
     "data": {
      "text/html": [
       "<div>\n",
       "<style scoped>\n",
       "    .dataframe tbody tr th:only-of-type {\n",
       "        vertical-align: middle;\n",
       "    }\n",
       "\n",
       "    .dataframe tbody tr th {\n",
       "        vertical-align: top;\n",
       "    }\n",
       "\n",
       "    .dataframe thead th {\n",
       "        text-align: right;\n",
       "    }\n",
       "</style>\n",
       "<table border=\"1\" class=\"dataframe\">\n",
       "  <thead>\n",
       "    <tr style=\"text-align: right;\">\n",
       "      <th></th>\n",
       "      <th>lexeme</th>\n",
       "      <th>cell</th>\n",
       "      <th>orth_form</th>\n",
       "      <th>phon_form</th>\n",
       "      <th>frequency</th>\n",
       "      <th>frequency_Antiquitas</th>\n",
       "      <th>frequency_AetasPatrum</th>\n",
       "      <th>frequency_MediumAeuum</th>\n",
       "      <th>frequency_RecentiorLatinitas</th>\n",
       "      <th>form_ipa</th>\n",
       "      <th>POS</th>\n",
       "    </tr>\n",
       "    <tr>\n",
       "      <th>form_id</th>\n",
       "      <th></th>\n",
       "      <th></th>\n",
       "      <th></th>\n",
       "      <th></th>\n",
       "      <th></th>\n",
       "      <th></th>\n",
       "      <th></th>\n",
       "      <th></th>\n",
       "      <th></th>\n",
       "      <th></th>\n",
       "      <th></th>\n",
       "    </tr>\n",
       "  </thead>\n",
       "  <tbody>\n",
       "    <tr>\n",
       "      <th>form_0_v</th>\n",
       "      <td>abalieno</td>\n",
       "      <td>prs.act.ind.1.sg</td>\n",
       "      <td>abaliēnō</td>\n",
       "      <td>abalieːnoː</td>\n",
       "      <td>0</td>\n",
       "      <td>0</td>\n",
       "      <td>0</td>\n",
       "      <td>0</td>\n",
       "      <td>0</td>\n",
       "      <td>NaN</td>\n",
       "      <td>verb</td>\n",
       "    </tr>\n",
       "    <tr>\n",
       "      <th>form_1_v</th>\n",
       "      <td>abalieno</td>\n",
       "      <td>prs.act.ind.2.sg</td>\n",
       "      <td>abaliēnās</td>\n",
       "      <td>abalieːnaːs</td>\n",
       "      <td>0</td>\n",
       "      <td>0</td>\n",
       "      <td>0</td>\n",
       "      <td>0</td>\n",
       "      <td>0</td>\n",
       "      <td>NaN</td>\n",
       "      <td>verb</td>\n",
       "    </tr>\n",
       "    <tr>\n",
       "      <th>form_2_v</th>\n",
       "      <td>abalieno</td>\n",
       "      <td>prs.act.ind.3.sg</td>\n",
       "      <td>abaliēnat</td>\n",
       "      <td>abalieːnat</td>\n",
       "      <td>5</td>\n",
       "      <td>2</td>\n",
       "      <td>2</td>\n",
       "      <td>1</td>\n",
       "      <td>0</td>\n",
       "      <td>NaN</td>\n",
       "      <td>verb</td>\n",
       "    </tr>\n",
       "    <tr>\n",
       "      <th>form_3_v</th>\n",
       "      <td>abalieno</td>\n",
       "      <td>prs.act.ind.1.pl</td>\n",
       "      <td>abaliēnāmus</td>\n",
       "      <td>abalieːnaːmus</td>\n",
       "      <td>0</td>\n",
       "      <td>0</td>\n",
       "      <td>0</td>\n",
       "      <td>0</td>\n",
       "      <td>0</td>\n",
       "      <td>NaN</td>\n",
       "      <td>verb</td>\n",
       "    </tr>\n",
       "    <tr>\n",
       "      <th>form_4_v</th>\n",
       "      <td>abalieno</td>\n",
       "      <td>prs.act.ind.2.pl</td>\n",
       "      <td>abaliēnātis</td>\n",
       "      <td>abalieːnaːtis</td>\n",
       "      <td>2</td>\n",
       "      <td>1</td>\n",
       "      <td>1</td>\n",
       "      <td>0</td>\n",
       "      <td>0</td>\n",
       "      <td>NaN</td>\n",
       "      <td>verb</td>\n",
       "    </tr>\n",
       "    <tr>\n",
       "      <th>...</th>\n",
       "      <td>...</td>\n",
       "      <td>...</td>\n",
       "      <td>...</td>\n",
       "      <td>...</td>\n",
       "      <td>...</td>\n",
       "      <td>...</td>\n",
       "      <td>...</td>\n",
       "      <td>...</td>\n",
       "      <td>...</td>\n",
       "      <td>...</td>\n",
       "      <td>...</td>\n",
       "    </tr>\n",
       "    <tr>\n",
       "      <th>form_12451_n</th>\n",
       "      <td>uxor</td>\n",
       "      <td>gen.pl</td>\n",
       "      <td>uxōrum</td>\n",
       "      <td>uksoːrum</td>\n",
       "      <td>265</td>\n",
       "      <td>15</td>\n",
       "      <td>124</td>\n",
       "      <td>122</td>\n",
       "      <td>4</td>\n",
       "      <td>NaN</td>\n",
       "      <td>noun</td>\n",
       "    </tr>\n",
       "    <tr>\n",
       "      <th>form_12452_n</th>\n",
       "      <td>uxor</td>\n",
       "      <td>dat.pl</td>\n",
       "      <td>uxōribus</td>\n",
       "      <td>uksoːribus</td>\n",
       "      <td>725</td>\n",
       "      <td>30</td>\n",
       "      <td>317</td>\n",
       "      <td>373</td>\n",
       "      <td>5</td>\n",
       "      <td>NaN</td>\n",
       "      <td>noun</td>\n",
       "    </tr>\n",
       "    <tr>\n",
       "      <th>form_12453_n</th>\n",
       "      <td>uxor</td>\n",
       "      <td>acc.pl</td>\n",
       "      <td>uxōrēs</td>\n",
       "      <td>uksoːreːs</td>\n",
       "      <td>2073</td>\n",
       "      <td>90</td>\n",
       "      <td>1064</td>\n",
       "      <td>903</td>\n",
       "      <td>16</td>\n",
       "      <td>NaN</td>\n",
       "      <td>noun</td>\n",
       "    </tr>\n",
       "    <tr>\n",
       "      <th>form_12454_n</th>\n",
       "      <td>uxor</td>\n",
       "      <td>voc.pl</td>\n",
       "      <td>uxōrēs</td>\n",
       "      <td>uksoːreːs</td>\n",
       "      <td>2073</td>\n",
       "      <td>90</td>\n",
       "      <td>1064</td>\n",
       "      <td>903</td>\n",
       "      <td>16</td>\n",
       "      <td>NaN</td>\n",
       "      <td>noun</td>\n",
       "    </tr>\n",
       "    <tr>\n",
       "      <th>form_12455_n</th>\n",
       "      <td>uxor</td>\n",
       "      <td>abl.pl</td>\n",
       "      <td>uxōribus</td>\n",
       "      <td>uksoːribus</td>\n",
       "      <td>725</td>\n",
       "      <td>30</td>\n",
       "      <td>317</td>\n",
       "      <td>373</td>\n",
       "      <td>5</td>\n",
       "      <td>NaN</td>\n",
       "      <td>noun</td>\n",
       "    </tr>\n",
       "  </tbody>\n",
       "</table>\n",
       "<p>817050 rows × 11 columns</p>\n",
       "</div>"
      ],
      "text/plain": [
       "                lexeme              cell    orth_form      phon_form  \\\n",
       "form_id                                                                \n",
       "form_0_v      abalieno  prs.act.ind.1.sg     abaliēnō     abalieːnoː   \n",
       "form_1_v      abalieno  prs.act.ind.2.sg    abaliēnās    abalieːnaːs   \n",
       "form_2_v      abalieno  prs.act.ind.3.sg    abaliēnat     abalieːnat   \n",
       "form_3_v      abalieno  prs.act.ind.1.pl  abaliēnāmus  abalieːnaːmus   \n",
       "form_4_v      abalieno  prs.act.ind.2.pl  abaliēnātis  abalieːnaːtis   \n",
       "...                ...               ...          ...            ...   \n",
       "form_12451_n      uxor            gen.pl       uxōrum       uksoːrum   \n",
       "form_12452_n      uxor            dat.pl     uxōribus     uksoːribus   \n",
       "form_12453_n      uxor            acc.pl       uxōrēs      uksoːreːs   \n",
       "form_12454_n      uxor            voc.pl       uxōrēs      uksoːreːs   \n",
       "form_12455_n      uxor            abl.pl     uxōribus     uksoːribus   \n",
       "\n",
       "              frequency  frequency_Antiquitas  frequency_AetasPatrum  \\\n",
       "form_id                                                                \n",
       "form_0_v              0                     0                      0   \n",
       "form_1_v              0                     0                      0   \n",
       "form_2_v              5                     2                      2   \n",
       "form_3_v              0                     0                      0   \n",
       "form_4_v              2                     1                      1   \n",
       "...                 ...                   ...                    ...   \n",
       "form_12451_n        265                    15                    124   \n",
       "form_12452_n        725                    30                    317   \n",
       "form_12453_n       2073                    90                   1064   \n",
       "form_12454_n       2073                    90                   1064   \n",
       "form_12455_n        725                    30                    317   \n",
       "\n",
       "              frequency_MediumAeuum  frequency_RecentiorLatinitas form_ipa  \\\n",
       "form_id                                                                      \n",
       "form_0_v                          0                             0      NaN   \n",
       "form_1_v                          0                             0      NaN   \n",
       "form_2_v                          1                             0      NaN   \n",
       "form_3_v                          0                             0      NaN   \n",
       "form_4_v                          0                             0      NaN   \n",
       "...                             ...                           ...      ...   \n",
       "form_12451_n                    122                             4      NaN   \n",
       "form_12452_n                    373                             5      NaN   \n",
       "form_12453_n                    903                            16      NaN   \n",
       "form_12454_n                    903                            16      NaN   \n",
       "form_12455_n                    373                             5      NaN   \n",
       "\n",
       "               POS  \n",
       "form_id             \n",
       "form_0_v      verb  \n",
       "form_1_v      verb  \n",
       "form_2_v      verb  \n",
       "form_3_v      verb  \n",
       "form_4_v      verb  \n",
       "...            ...  \n",
       "form_12451_n  noun  \n",
       "form_12452_n  noun  \n",
       "form_12453_n  noun  \n",
       "form_12454_n  noun  \n",
       "form_12455_n  noun  \n",
       "\n",
       "[817050 rows x 11 columns]"
      ]
     },
     "execution_count": 21,
     "metadata": {},
     "output_type": "execute_result"
    }
   ],
   "source": [
    "LatInfLexi_forms"
   ]
  },
  {
   "cell_type": "markdown",
   "id": "e45f928a882fe366",
   "metadata": {
    "collapsed": false,
    "jupyter": {
     "outputs_hidden": false
    }
   },
   "source": [
    "Adding stress"
   ]
  },
  {
   "cell_type": "code",
   "execution_count": 22,
   "id": "a1347d8fd04d2543",
   "metadata": {
    "ExecuteTime": {
     "end_time": "2023-11-21T13:01:02.498239734Z",
     "start_time": "2023-11-21T13:00:58.443958281Z"
    },
    "collapsed": false,
    "jupyter": {
     "outputs_hidden": false
    }
   },
   "outputs": [],
   "source": [
    "C = r\"b|d|ɡ|m|n|l|r|z|p|pʰ|f|t|tʰ|s|k|kʰ|h\"\n",
    "V = r\"waj|[jw][aeiouy]ː|[aeiouy]ː?|[jw][aeiouy]|[aeiouy][jw]\"\n",
    "segmenter = f\"(?:{C}|({V}))*?\"\n",
    "\n",
    "\n",
    "def search_vowels(word):\n",
    "    segmented = regex.fullmatch(segmenter, word)\n",
    "    return segmented.spans(1)\n",
    "\n",
    "def find_latin_stress(word):\n",
    "\n",
    "    if word == \"#DEF#\" or word == \"\":\n",
    "        return word\n",
    "\n",
    "    def stress(idxs):\n",
    "        i = idxs[0]\n",
    "        if word[i] in 'wj':\n",
    "            i += 1\n",
    "        return word[:i] + \"ˈ\" + word[i:]\n",
    "\n",
    "    indexes = search_vowels(word)\n",
    "\n",
    "    # 2 syllables or less => stress first syllable\n",
    "    if len(indexes) <= 2:\n",
    "        return stress(indexes[0])\n",
    "\n",
    "    *_, antepenult, penult, ultimate = indexes\n",
    "\n",
    "    # If the penult has a long vowel it is stressed\n",
    "    if word[slice(*penult)][-1] in {\"ː\", \"j\", \"w\"}:\n",
    "        return stress(penult)\n",
    "\n",
    "    # Single C after the penult => short penult => stress antepenult\n",
    "    if (ultimate[0] - penult[1]) < 2:\n",
    "        return stress(antepenult)\n",
    "\n",
    "    # For the rest, it depends on the consonant sequence\n",
    "    c_seq = word[penult[1]:ultimate[0]]\n",
    "    cl = re.compile(\"^[bdɡpctd]ʰ?[rl]$\")\n",
    "\n",
    "    # C seq is a liquid cluster => short penult => stress antepenult\n",
    "    if cl.match(c_seq):\n",
    "        return stress(antepenult)\n",
    "\n",
    "    # other C sequence => long penult => stress penult\n",
    "    return stress(penult)\n",
    "\n",
    "\n",
    "LatInfLexi_forms.loc[:, \"phon_form\"] = LatInfLexi_forms[\"phon_form\"].apply(find_latin_stress)"
   ]
  },
  {
   "cell_type": "markdown",
   "id": "e38f366aa4d7ba3e",
   "metadata": {
    "collapsed": false,
    "jupyter": {
     "outputs_hidden": false
    }
   },
   "source": [
    "Separating sounds with spaces"
   ]
  },
  {
   "cell_type": "code",
   "execution_count": 23,
   "id": "4f0c826681ed2758",
   "metadata": {
    "ExecuteTime": {
     "end_time": "2023-11-21T13:01:05.076581395Z",
     "start_time": "2023-11-21T13:01:02.482146700Z"
    },
    "collapsed": false,
    "jupyter": {
     "outputs_hidden": false
    }
   },
   "outputs": [],
   "source": [
    "def splitter(series, split_pattern):\n",
    "    series = series.str.split(pat=split_pattern, regex=True)\n",
    "    return series.apply(lambda x: \" \".join([char for char in x if char]))\n",
    "\n",
    "sounds = ['b', 'd', 'ɡ', 'm', 'n', 'l', 'r', 'z', 'p', 'pʰ', 'f', 't', 'tʰ', 's', 'k', 'kʰ', 'h', 'j', 'w', 'a', 'aː', 'e', 'eː', 'i', 'iː', 'o', 'oː', 'u', 'uː', 'ˈa', 'ˈaː', 'ˈe', 'ˈeː', 'ˈi', 'ˈiː', 'ˈo', 'ˈoː', 'ˈu', 'ˈuː', 'ˈy', 'ˈyː']\n",
    "split_pattern = \"(\" + \"|\".join(sorted(sounds, key=len, reverse=True)) + \")\"\n",
    "LatInfLexi_forms[\"phon_form\"] = splitter(LatInfLexi_forms[\"phon_form\"], split_pattern)"
   ]
  },
  {
   "cell_type": "markdown",
   "id": "bd06721f2f1b9648",
   "metadata": {
    "collapsed": false,
    "jupyter": {
     "outputs_hidden": false
    }
   },
   "source": [
    "# Adjusting the transcription"
   ]
  },
  {
   "cell_type": "code",
   "execution_count": 24,
   "id": "9cf1ca089764139a",
   "metadata": {
    "ExecuteTime": {
     "end_time": "2023-11-21T13:01:05.085900582Z",
     "start_time": "2023-11-21T13:01:05.076921200Z"
    },
    "collapsed": false,
    "jupyter": {
     "outputs_hidden": false
    }
   },
   "outputs": [],
   "source": [
    "# Adding frequencies to the cells"
   ]
  },
  {
   "cell_type": "code",
   "execution_count": 25,
   "id": "e99c21980bc47764",
   "metadata": {
    "ExecuteTime": {
     "end_time": "2023-11-21T13:01:05.132604231Z",
     "start_time": "2023-11-21T13:01:05.079288975Z"
    },
    "collapsed": false,
    "jupyter": {
     "outputs_hidden": false
    }
   },
   "outputs": [
    {
     "name": "stderr",
     "output_type": "stream",
     "text": [
      "C:\\Users\\matteo.pellegrini\\AppData\\Local\\Temp\\ipykernel_1424\\418782974.py:5: FutureWarning: The provided callable <built-in function sum> is currently using DataFrameGroupBy.sum. In a future version of pandas, the provided callable will be used directly. To keep current behavior pass the string \"sum\" instead.\n",
      "  \"frequency_RecentiorLatinitas\"]].agg(sum)\n"
     ]
    }
   ],
   "source": [
    "cells_freq = LatInfLexi_forms.groupby(\"cell\")[[\"frequency\", \n",
    "                                              \"frequency_Antiquitas\",\n",
    "                                              \"frequency_AetasPatrum\",\n",
    "                                              \"frequency_MediumAeuum\",\n",
    "                                              \"frequency_RecentiorLatinitas\"]].agg(sum)\n",
    "cells_freq.index.name = \"cell_id\""
   ]
  },
  {
   "cell_type": "code",
   "execution_count": 26,
   "id": "24ba7b8138dde3b3",
   "metadata": {
    "ExecuteTime": {
     "end_time": "2023-11-21T13:01:05.133589871Z",
     "start_time": "2023-11-21T13:01:05.121449584Z"
    },
    "collapsed": false,
    "jupyter": {
     "outputs_hidden": false
    }
   },
   "outputs": [
    {
     "data": {
      "text/html": [
       "<div>\n",
       "<style scoped>\n",
       "    .dataframe tbody tr th:only-of-type {\n",
       "        vertical-align: middle;\n",
       "    }\n",
       "\n",
       "    .dataframe tbody tr th {\n",
       "        vertical-align: top;\n",
       "    }\n",
       "\n",
       "    .dataframe thead th {\n",
       "        text-align: right;\n",
       "    }\n",
       "</style>\n",
       "<table border=\"1\" class=\"dataframe\">\n",
       "  <thead>\n",
       "    <tr style=\"text-align: right;\">\n",
       "      <th></th>\n",
       "      <th>frequency</th>\n",
       "      <th>frequency_Antiquitas</th>\n",
       "      <th>frequency_AetasPatrum</th>\n",
       "      <th>frequency_MediumAeuum</th>\n",
       "      <th>frequency_RecentiorLatinitas</th>\n",
       "    </tr>\n",
       "    <tr>\n",
       "      <th>cell_id</th>\n",
       "      <th></th>\n",
       "      <th></th>\n",
       "      <th></th>\n",
       "      <th></th>\n",
       "      <th></th>\n",
       "    </tr>\n",
       "  </thead>\n",
       "  <tbody>\n",
       "    <tr>\n",
       "      <th>abl.pl</th>\n",
       "      <td>835283</td>\n",
       "      <td>115180</td>\n",
       "      <td>310927</td>\n",
       "      <td>382000</td>\n",
       "      <td>27176</td>\n",
       "    </tr>\n",
       "    <tr>\n",
       "      <th>abl.sg</th>\n",
       "      <td>2816933</td>\n",
       "      <td>297275</td>\n",
       "      <td>962861</td>\n",
       "      <td>1463839</td>\n",
       "      <td>92958</td>\n",
       "    </tr>\n",
       "    <tr>\n",
       "      <th>acc.pl</th>\n",
       "      <td>1565479</td>\n",
       "      <td>216650</td>\n",
       "      <td>557840</td>\n",
       "      <td>734860</td>\n",
       "      <td>56129</td>\n",
       "    </tr>\n",
       "    <tr>\n",
       "      <th>acc.sg</th>\n",
       "      <td>2663992</td>\n",
       "      <td>246582</td>\n",
       "      <td>945900</td>\n",
       "      <td>1391128</td>\n",
       "      <td>80382</td>\n",
       "    </tr>\n",
       "    <tr>\n",
       "      <th>dat.pl</th>\n",
       "      <td>835283</td>\n",
       "      <td>115180</td>\n",
       "      <td>310927</td>\n",
       "      <td>382000</td>\n",
       "      <td>27176</td>\n",
       "    </tr>\n",
       "    <tr>\n",
       "      <th>...</th>\n",
       "      <td>...</td>\n",
       "      <td>...</td>\n",
       "      <td>...</td>\n",
       "      <td>...</td>\n",
       "      <td>...</td>\n",
       "    </tr>\n",
       "    <tr>\n",
       "      <th>prs.pass.sbjv.3.sg</th>\n",
       "      <td>168334</td>\n",
       "      <td>9945</td>\n",
       "      <td>66246</td>\n",
       "      <td>83631</td>\n",
       "      <td>8512</td>\n",
       "    </tr>\n",
       "    <tr>\n",
       "      <th>sup.abl</th>\n",
       "      <td>156341</td>\n",
       "      <td>17168</td>\n",
       "      <td>41767</td>\n",
       "      <td>88748</td>\n",
       "      <td>8658</td>\n",
       "    </tr>\n",
       "    <tr>\n",
       "      <th>sup.acc</th>\n",
       "      <td>591906</td>\n",
       "      <td>50304</td>\n",
       "      <td>198546</td>\n",
       "      <td>323267</td>\n",
       "      <td>19789</td>\n",
       "    </tr>\n",
       "    <tr>\n",
       "      <th>voc.pl</th>\n",
       "      <td>2113371</td>\n",
       "      <td>236521</td>\n",
       "      <td>758001</td>\n",
       "      <td>1044528</td>\n",
       "      <td>74321</td>\n",
       "    </tr>\n",
       "    <tr>\n",
       "      <th>voc.sg</th>\n",
       "      <td>3102649</td>\n",
       "      <td>290411</td>\n",
       "      <td>1028722</td>\n",
       "      <td>1687352</td>\n",
       "      <td>96164</td>\n",
       "    </tr>\n",
       "  </tbody>\n",
       "</table>\n",
       "<p>266 rows × 5 columns</p>\n",
       "</div>"
      ],
      "text/plain": [
       "                    frequency  frequency_Antiquitas  frequency_AetasPatrum  \\\n",
       "cell_id                                                                      \n",
       "abl.pl                 835283                115180                 310927   \n",
       "abl.sg                2816933                297275                 962861   \n",
       "acc.pl                1565479                216650                 557840   \n",
       "acc.sg                2663992                246582                 945900   \n",
       "dat.pl                 835283                115180                 310927   \n",
       "...                       ...                   ...                    ...   \n",
       "prs.pass.sbjv.3.sg     168334                  9945                  66246   \n",
       "sup.abl                156341                 17168                  41767   \n",
       "sup.acc                591906                 50304                 198546   \n",
       "voc.pl                2113371                236521                 758001   \n",
       "voc.sg                3102649                290411                1028722   \n",
       "\n",
       "                    frequency_MediumAeuum  frequency_RecentiorLatinitas  \n",
       "cell_id                                                                  \n",
       "abl.pl                             382000                         27176  \n",
       "abl.sg                            1463839                         92958  \n",
       "acc.pl                             734860                         56129  \n",
       "acc.sg                            1391128                         80382  \n",
       "dat.pl                             382000                         27176  \n",
       "...                                   ...                           ...  \n",
       "prs.pass.sbjv.3.sg                  83631                          8512  \n",
       "sup.abl                             88748                          8658  \n",
       "sup.acc                            323267                         19789  \n",
       "voc.pl                            1044528                         74321  \n",
       "voc.sg                            1687352                         96164  \n",
       "\n",
       "[266 rows x 5 columns]"
      ]
     },
     "execution_count": 26,
     "metadata": {},
     "output_type": "execute_result"
    }
   ],
   "source": [
    "cells_freq"
   ]
  },
  {
   "cell_type": "code",
   "execution_count": 27,
   "id": "3fc2a0ced4b9ad34",
   "metadata": {
    "ExecuteTime": {
     "end_time": "2023-11-21T13:01:05.133764734Z",
     "start_time": "2023-11-21T13:01:05.123932297Z"
    },
    "collapsed": false,
    "jupyter": {
     "outputs_hidden": false
    }
   },
   "outputs": [],
   "source": [
    "LatInfLexi_cells.set_index(\"cell_id\", inplace=True)"
   ]
  },
  {
   "cell_type": "code",
   "execution_count": 28,
   "id": "a619e9d137255c83",
   "metadata": {
    "ExecuteTime": {
     "end_time": "2023-11-21T13:01:05.133912013Z",
     "start_time": "2023-11-21T13:01:05.128034659Z"
    },
    "collapsed": false,
    "jupyter": {
     "outputs_hidden": false
    }
   },
   "outputs": [],
   "source": [
    "LatInfLexi_cells = pd.merge(LatInfLexi_cells, cells_freq, left_index=True, right_index=True)"
   ]
  },
  {
   "cell_type": "markdown",
   "id": "996f2e0ca5858551",
   "metadata": {
    "collapsed": false,
    "jupyter": {
     "outputs_hidden": false
    }
   },
   "source": [
    "# Creating the lexemes table"
   ]
  },
  {
   "cell_type": "code",
   "execution_count": 29,
   "id": "8c9f645aa7c0e0ee",
   "metadata": {
    "ExecuteTime": {
     "end_time": "2023-11-21T13:01:05.263446165Z",
     "start_time": "2023-11-21T13:01:05.132922798Z"
    },
    "collapsed": false,
    "jupyter": {
     "outputs_hidden": false
    }
   },
   "outputs": [
    {
     "name": "stderr",
     "output_type": "stream",
     "text": [
      "C:\\Users\\matteo.pellegrini\\AppData\\Local\\Temp\\ipykernel_1424\\2816140279.py:5: FutureWarning: The provided callable <built-in function sum> is currently using DataFrameGroupBy.sum. In a future version of pandas, the provided callable will be used directly. To keep current behavior pass the string \"sum\" instead.\n",
      "  \"frequency_RecentiorLatinitas\"]].agg(sum).reset_index(\"POS\", drop=False)\n"
     ]
    }
   ],
   "source": [
    "LatInfLexi_lexemes = LatInfLexi_forms.groupby([\"lexeme\", \"POS\"])[[\"frequency\", \n",
    "                                                                      \"frequency_Antiquitas\",\n",
    "                                                                      \"frequency_AetasPatrum\",\n",
    "                                                                      \"frequency_MediumAeuum\",\n",
    "                                                                      \"frequency_RecentiorLatinitas\"]].agg(sum).reset_index(\"POS\", drop=False)\n",
    "LatInfLexi_lexemes.index.name = \"lexeme_id\""
   ]
  },
  {
   "cell_type": "code",
   "execution_count": 30,
   "id": "5923bce1f2a1e9f8",
   "metadata": {
    "ExecuteTime": {
     "end_time": "2023-11-21T13:01:05.264557558Z",
     "start_time": "2023-11-21T13:01:05.227951300Z"
    },
    "collapsed": false,
    "jupyter": {
     "outputs_hidden": false
    }
   },
   "outputs": [
    {
     "data": {
      "text/html": [
       "<div>\n",
       "<style scoped>\n",
       "    .dataframe tbody tr th:only-of-type {\n",
       "        vertical-align: middle;\n",
       "    }\n",
       "\n",
       "    .dataframe tbody tr th {\n",
       "        vertical-align: top;\n",
       "    }\n",
       "\n",
       "    .dataframe thead th {\n",
       "        text-align: right;\n",
       "    }\n",
       "</style>\n",
       "<table border=\"1\" class=\"dataframe\">\n",
       "  <thead>\n",
       "    <tr style=\"text-align: right;\">\n",
       "      <th></th>\n",
       "      <th>POS</th>\n",
       "      <th>frequency</th>\n",
       "      <th>frequency_Antiquitas</th>\n",
       "      <th>frequency_AetasPatrum</th>\n",
       "      <th>frequency_MediumAeuum</th>\n",
       "      <th>frequency_RecentiorLatinitas</th>\n",
       "    </tr>\n",
       "    <tr>\n",
       "      <th>lexeme_id</th>\n",
       "      <th></th>\n",
       "      <th></th>\n",
       "      <th></th>\n",
       "      <th></th>\n",
       "      <th></th>\n",
       "      <th></th>\n",
       "    </tr>\n",
       "  </thead>\n",
       "  <tbody>\n",
       "    <tr>\n",
       "      <th>abalieno</th>\n",
       "      <td>verb</td>\n",
       "      <td>393</td>\n",
       "      <td>101</td>\n",
       "      <td>176</td>\n",
       "      <td>113</td>\n",
       "      <td>3</td>\n",
       "    </tr>\n",
       "    <tr>\n",
       "      <th>abdico</th>\n",
       "      <td>verb</td>\n",
       "      <td>2256</td>\n",
       "      <td>773</td>\n",
       "      <td>760</td>\n",
       "      <td>683</td>\n",
       "      <td>40</td>\n",
       "    </tr>\n",
       "    <tr>\n",
       "      <th>abdo</th>\n",
       "      <td>verb</td>\n",
       "      <td>4850</td>\n",
       "      <td>971</td>\n",
       "      <td>2111</td>\n",
       "      <td>1644</td>\n",
       "      <td>124</td>\n",
       "    </tr>\n",
       "    <tr>\n",
       "      <th>abduco</th>\n",
       "      <td>verb</td>\n",
       "      <td>3194</td>\n",
       "      <td>937</td>\n",
       "      <td>1057</td>\n",
       "      <td>1116</td>\n",
       "      <td>84</td>\n",
       "    </tr>\n",
       "    <tr>\n",
       "      <th>abeo</th>\n",
       "      <td>verb</td>\n",
       "      <td>6626</td>\n",
       "      <td>1723</td>\n",
       "      <td>1466</td>\n",
       "      <td>3229</td>\n",
       "      <td>208</td>\n",
       "    </tr>\n",
       "    <tr>\n",
       "      <th>...</th>\n",
       "      <td>...</td>\n",
       "      <td>...</td>\n",
       "      <td>...</td>\n",
       "      <td>...</td>\n",
       "      <td>...</td>\n",
       "      <td>...</td>\n",
       "    </tr>\n",
       "    <tr>\n",
       "      <th>uulgus</th>\n",
       "      <td>noun</td>\n",
       "      <td>7917</td>\n",
       "      <td>1588</td>\n",
       "      <td>2524</td>\n",
       "      <td>2311</td>\n",
       "      <td>1494</td>\n",
       "    </tr>\n",
       "    <tr>\n",
       "      <th>uulnero</th>\n",
       "      <td>verb</td>\n",
       "      <td>10975</td>\n",
       "      <td>1167</td>\n",
       "      <td>4903</td>\n",
       "      <td>4784</td>\n",
       "      <td>121</td>\n",
       "    </tr>\n",
       "    <tr>\n",
       "      <th>uulnus</th>\n",
       "      <td>noun</td>\n",
       "      <td>18041</td>\n",
       "      <td>3618</td>\n",
       "      <td>7531</td>\n",
       "      <td>6637</td>\n",
       "      <td>255</td>\n",
       "    </tr>\n",
       "    <tr>\n",
       "      <th>uultus</th>\n",
       "      <td>noun</td>\n",
       "      <td>25464</td>\n",
       "      <td>4688</td>\n",
       "      <td>9117</td>\n",
       "      <td>11269</td>\n",
       "      <td>390</td>\n",
       "    </tr>\n",
       "    <tr>\n",
       "      <th>uxor</th>\n",
       "      <td>noun</td>\n",
       "      <td>28358</td>\n",
       "      <td>2861</td>\n",
       "      <td>12294</td>\n",
       "      <td>12973</td>\n",
       "      <td>230</td>\n",
       "    </tr>\n",
       "  </tbody>\n",
       "</table>\n",
       "<p>4386 rows × 6 columns</p>\n",
       "</div>"
      ],
      "text/plain": [
       "            POS  frequency  frequency_Antiquitas  frequency_AetasPatrum  \\\n",
       "lexeme_id                                                                 \n",
       "abalieno   verb        393                   101                    176   \n",
       "abdico     verb       2256                   773                    760   \n",
       "abdo       verb       4850                   971                   2111   \n",
       "abduco     verb       3194                   937                   1057   \n",
       "abeo       verb       6626                  1723                   1466   \n",
       "...         ...        ...                   ...                    ...   \n",
       "uulgus     noun       7917                  1588                   2524   \n",
       "uulnero    verb      10975                  1167                   4903   \n",
       "uulnus     noun      18041                  3618                   7531   \n",
       "uultus     noun      25464                  4688                   9117   \n",
       "uxor       noun      28358                  2861                  12294   \n",
       "\n",
       "           frequency_MediumAeuum  frequency_RecentiorLatinitas  \n",
       "lexeme_id                                                       \n",
       "abalieno                     113                             3  \n",
       "abdico                       683                            40  \n",
       "abdo                        1644                           124  \n",
       "abduco                      1116                            84  \n",
       "abeo                        3229                           208  \n",
       "...                          ...                           ...  \n",
       "uulgus                      2311                          1494  \n",
       "uulnero                     4784                           121  \n",
       "uulnus                      6637                           255  \n",
       "uultus                     11269                           390  \n",
       "uxor                       12973                           230  \n",
       "\n",
       "[4386 rows x 6 columns]"
      ]
     },
     "execution_count": 30,
     "metadata": {},
     "output_type": "execute_result"
    }
   ],
   "source": [
    "LatInfLexi_lexemes"
   ]
  },
  {
   "cell_type": "markdown",
   "id": "c89e335f2ff3e020",
   "metadata": {
    "collapsed": false,
    "jupyter": {
     "outputs_hidden": false
    }
   },
   "source": [
    "# Output"
   ]
  },
  {
   "cell_type": "markdown",
   "id": "1a71f72f1ce3fa47",
   "metadata": {
    "collapsed": false,
    "jupyter": {
     "outputs_hidden": false
    }
   },
   "source": [
    "Writing it all to file"
   ]
  },
  {
   "cell_type": "code",
   "execution_count": 31,
   "id": "f7472c11",
   "metadata": {
    "ExecuteTime": {
     "end_time": "2023-11-21T13:01:06.936662866Z",
     "start_time": "2023-11-21T13:01:05.228154427Z"
    },
    "collapsed": false,
    "jupyter": {
     "outputs_hidden": false
    }
   },
   "outputs": [],
   "source": [
    "LatInfLexi_lexemes.to_csv(\"LatInfLexi-lexemes.csv\")\n",
    "LatInfLexi_forms.to_csv(\"LatInfLexi-forms.csv\")\n",
    "LatInfLexi_cells.to_csv(\"LatInfLexi-cells.csv\")"
   ]
  },
  {
   "cell_type": "markdown",
   "id": "4bfe5c4cfeff0d95",
   "metadata": {
    "collapsed": false,
    "jupyter": {
     "outputs_hidden": false
    }
   },
   "source": [
    "Remove temporary files from v1.1"
   ]
  },
  {
   "cell_type": "code",
   "execution_count": 32,
   "id": "dbb1715d99b9881b",
   "metadata": {
    "ExecuteTime": {
     "end_time": "2023-11-21T13:01:06.992333360Z",
     "start_time": "2023-11-21T13:01:06.938291821Z"
    },
    "collapsed": false,
    "jupyter": {
     "outputs_hidden": false
    }
   },
   "outputs": [],
   "source": [
    "%%bash\n",
    "rm LatInfLexi-nouns.csv\n",
    "rm LatInfLexi-verbs.csv\n"
   ]
  },
  {
   "cell_type": "code",
   "execution_count": null,
   "id": "81f6407878dfcb5d",
   "metadata": {
    "ExecuteTime": {
     "end_time": "2023-11-21T13:01:06.992676076Z",
     "start_time": "2023-11-21T13:01:06.992115294Z"
    },
    "collapsed": false,
    "jupyter": {
     "outputs_hidden": false
    }
   },
   "outputs": [],
   "source": []
  }
 ],
 "metadata": {
  "kernelspec": {
   "display_name": "Python 3 (ipykernel)",
   "language": "python",
   "name": "python3"
  },
  "language_info": {
   "codemirror_mode": {
    "name": "ipython",
    "version": 3
   },
   "file_extension": ".py",
   "mimetype": "text/x-python",
   "name": "python",
   "nbconvert_exporter": "python",
   "pygments_lexer": "ipython3",
   "version": "3.12.0"
  }
 },
 "nbformat": 4,
 "nbformat_minor": 5
}
