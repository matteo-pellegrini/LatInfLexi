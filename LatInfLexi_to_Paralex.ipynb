{
 "cells": [
  {
   "cell_type": "code",
   "execution_count": 1,
   "id": "7000cf02",
   "metadata": {
    "ExecuteTime": {
     "end_time": "2023-11-21T13:00:57.182042012Z",
     "start_time": "2023-11-21T13:00:56.919440671Z"
    }
   },
   "outputs": [],
   "source": [
    "import pandas as pd\n",
    "import re\n",
    "import regex"
   ]
  },
  {
   "cell_type": "markdown",
   "source": [
    "# Reading cells "
   ],
   "metadata": {
    "collapsed": false
   },
   "id": "767dbea641a13100"
  },
  {
   "cell_type": "markdown",
   "source": [
    "We have manually made tables in `etc/`, we just annotate them with POS and concatenate to make a single table:"
   ],
   "metadata": {
    "collapsed": false
   },
   "id": "66f4c69b0cc6d94b"
  },
  {
   "cell_type": "code",
   "execution_count": 2,
   "outputs": [],
   "source": [
    "\n",
    "LatInfLexi_verbs_cells = pd.read_csv(\"etc/LatInfLexi-verbs_cells.csv\")\n",
    "LatInfLexi_verbs_cells[\"POS\"] = \"verb\"\n",
    "LatInfLexi_nouns_cells = pd.read_csv(\"etc/LatInfLexi-nouns_cells.csv\")\n",
    "LatInfLexi_verbs_cells[\"POS\"] = \"noun\"\n",
    "LatInfLexi_cells = pd.concat([LatInfLexi_verbs_cells, LatInfLexi_nouns_cells])"
   ],
   "metadata": {
    "collapsed": false,
    "ExecuteTime": {
     "end_time": "2023-11-21T13:00:57.182361126Z",
     "start_time": "2023-11-21T13:00:57.159986055Z"
    }
   },
   "id": "bda42d78ed60358b"
  },
  {
   "cell_type": "markdown",
   "source": [
    "# Reading forms"
   ],
   "metadata": {
    "collapsed": false
   },
   "id": "48c462897f155180"
  },
  {
   "cell_type": "markdown",
   "source": [
    "We get the previous version's forms"
   ],
   "metadata": {
    "collapsed": false
   },
   "id": "115b19a4fd6e13ea"
  },
  {
   "cell_type": "code",
   "execution_count": 3,
   "outputs": [],
   "source": [
    "%%bash \n",
    "git checkout v1.1 -- LatInfLexi-nouns.csv\n",
    "git checkout v1.1 -- LatInfLexi-verbs.csv"
   ],
   "metadata": {
    "collapsed": false,
    "ExecuteTime": {
     "end_time": "2023-11-21T13:00:57.309573258Z",
     "start_time": "2023-11-21T13:00:57.160176902Z"
    }
   },
   "id": "67cc46312e698bb2"
  },
  {
   "cell_type": "markdown",
   "source": [
    "We read these tables"
   ],
   "metadata": {
    "collapsed": false
   },
   "id": "75b626c8d40b19dc"
  },
  {
   "cell_type": "code",
   "execution_count": 4,
   "id": "2792d387",
   "metadata": {
    "ExecuteTime": {
     "end_time": "2023-11-21T13:00:57.935037040Z",
     "start_time": "2023-11-21T13:00:57.311536958Z"
    }
   },
   "outputs": [],
   "source": [
    "LatInfLexi_verbs = pd.read_csv(\"LatInfLexi-verbs.csv\")\n",
    "LatInfLexi_nouns = pd.read_csv(\"LatInfLexi-nouns.csv\")"
   ]
  },
  {
   "cell_type": "code",
   "execution_count": 5,
   "outputs": [
    {
     "data": {
      "text/plain": "          lexeme                        PoSTag:features          form  \\\n0       abalieno     VERB:Fin+Ind+Pres+-+Act+1+Sing+-+-      abaliēnō   \n1       abalieno     VERB:Fin+Ind+Pres+-+Act+2+Sing+-+-     abaliēnās   \n2       abalieno     VERB:Fin+Ind+Pres+-+Act+3+Sing+-+-     abaliēnat   \n3       abalieno     VERB:Fin+Ind+Pres+-+Act+1+Plur+-+-   abaliēnāmus   \n4       abalieno     VERB:Fin+Ind+Pres+-+Act+2+Plur+-+-   abaliēnātis   \n...          ...                                    ...           ...   \n850387   uulnero   VERB:Part+-+Fut+-+Act+-+Plur+Voc+Fem  uulnerātūrae   \n850388   uulnero  VERB:Part+-+Fut+-+Act+-+Plur+Voc+Neut   uulnerātūra   \n850389   uulnero  VERB:Part+-+Fut+-+Act+-+Plur+Abl+Masc  uulnerātūrīs   \n850390   uulnero   VERB:Part+-+Fut+-+Act+-+Plur+Abl+Fem  uulnerātūrīs   \n850391   uulnero  VERB:Part+-+Fut+-+Act+-+Plur+Abl+Neut  uulnerātūrīs   \n\n               form_IPA  freqTFTL  freqAntiquitas  freqAetasPatrum  \\\n0            abalieːnoː         0               0                0   \n1           abalieːnaːs         0               0                0   \n2            abalieːnat         5               2                2   \n3         abalieːnaːmus         0               0                0   \n4         abalieːnaːtis         2               1                1   \n...                 ...       ...             ...              ...   \n850387   wulneraːtuːraj         0               0                0   \n850388    wulneraːtuːra         0               0                0   \n850389  wulneraːtuːriːs         0               0                0   \n850390  wulneraːtuːriːs         0               0                0   \n850391  wulneraːtuːriːs         0               0                0   \n\n        freqMediumAeuum  freqRecentiorLatinitas  \n0                     0                       0  \n1                     0                       0  \n2                     1                       0  \n3                     0                       0  \n4                     0                       0  \n...                 ...                     ...  \n850387                0                       0  \n850388                0                       0  \n850389                0                       0  \n850390                0                       0  \n850391                0                       0  \n\n[850392 rows x 9 columns]",
      "text/html": "<div>\n<style scoped>\n    .dataframe tbody tr th:only-of-type {\n        vertical-align: middle;\n    }\n\n    .dataframe tbody tr th {\n        vertical-align: top;\n    }\n\n    .dataframe thead th {\n        text-align: right;\n    }\n</style>\n<table border=\"1\" class=\"dataframe\">\n  <thead>\n    <tr style=\"text-align: right;\">\n      <th></th>\n      <th>lexeme</th>\n      <th>PoSTag:features</th>\n      <th>form</th>\n      <th>form_IPA</th>\n      <th>freqTFTL</th>\n      <th>freqAntiquitas</th>\n      <th>freqAetasPatrum</th>\n      <th>freqMediumAeuum</th>\n      <th>freqRecentiorLatinitas</th>\n    </tr>\n  </thead>\n  <tbody>\n    <tr>\n      <th>0</th>\n      <td>abalieno</td>\n      <td>VERB:Fin+Ind+Pres+-+Act+1+Sing+-+-</td>\n      <td>abaliēnō</td>\n      <td>abalieːnoː</td>\n      <td>0</td>\n      <td>0</td>\n      <td>0</td>\n      <td>0</td>\n      <td>0</td>\n    </tr>\n    <tr>\n      <th>1</th>\n      <td>abalieno</td>\n      <td>VERB:Fin+Ind+Pres+-+Act+2+Sing+-+-</td>\n      <td>abaliēnās</td>\n      <td>abalieːnaːs</td>\n      <td>0</td>\n      <td>0</td>\n      <td>0</td>\n      <td>0</td>\n      <td>0</td>\n    </tr>\n    <tr>\n      <th>2</th>\n      <td>abalieno</td>\n      <td>VERB:Fin+Ind+Pres+-+Act+3+Sing+-+-</td>\n      <td>abaliēnat</td>\n      <td>abalieːnat</td>\n      <td>5</td>\n      <td>2</td>\n      <td>2</td>\n      <td>1</td>\n      <td>0</td>\n    </tr>\n    <tr>\n      <th>3</th>\n      <td>abalieno</td>\n      <td>VERB:Fin+Ind+Pres+-+Act+1+Plur+-+-</td>\n      <td>abaliēnāmus</td>\n      <td>abalieːnaːmus</td>\n      <td>0</td>\n      <td>0</td>\n      <td>0</td>\n      <td>0</td>\n      <td>0</td>\n    </tr>\n    <tr>\n      <th>4</th>\n      <td>abalieno</td>\n      <td>VERB:Fin+Ind+Pres+-+Act+2+Plur+-+-</td>\n      <td>abaliēnātis</td>\n      <td>abalieːnaːtis</td>\n      <td>2</td>\n      <td>1</td>\n      <td>1</td>\n      <td>0</td>\n      <td>0</td>\n    </tr>\n    <tr>\n      <th>...</th>\n      <td>...</td>\n      <td>...</td>\n      <td>...</td>\n      <td>...</td>\n      <td>...</td>\n      <td>...</td>\n      <td>...</td>\n      <td>...</td>\n      <td>...</td>\n    </tr>\n    <tr>\n      <th>850387</th>\n      <td>uulnero</td>\n      <td>VERB:Part+-+Fut+-+Act+-+Plur+Voc+Fem</td>\n      <td>uulnerātūrae</td>\n      <td>wulneraːtuːraj</td>\n      <td>0</td>\n      <td>0</td>\n      <td>0</td>\n      <td>0</td>\n      <td>0</td>\n    </tr>\n    <tr>\n      <th>850388</th>\n      <td>uulnero</td>\n      <td>VERB:Part+-+Fut+-+Act+-+Plur+Voc+Neut</td>\n      <td>uulnerātūra</td>\n      <td>wulneraːtuːra</td>\n      <td>0</td>\n      <td>0</td>\n      <td>0</td>\n      <td>0</td>\n      <td>0</td>\n    </tr>\n    <tr>\n      <th>850389</th>\n      <td>uulnero</td>\n      <td>VERB:Part+-+Fut+-+Act+-+Plur+Abl+Masc</td>\n      <td>uulnerātūrīs</td>\n      <td>wulneraːtuːriːs</td>\n      <td>0</td>\n      <td>0</td>\n      <td>0</td>\n      <td>0</td>\n      <td>0</td>\n    </tr>\n    <tr>\n      <th>850390</th>\n      <td>uulnero</td>\n      <td>VERB:Part+-+Fut+-+Act+-+Plur+Abl+Fem</td>\n      <td>uulnerātūrīs</td>\n      <td>wulneraːtuːriːs</td>\n      <td>0</td>\n      <td>0</td>\n      <td>0</td>\n      <td>0</td>\n      <td>0</td>\n    </tr>\n    <tr>\n      <th>850391</th>\n      <td>uulnero</td>\n      <td>VERB:Part+-+Fut+-+Act+-+Plur+Abl+Neut</td>\n      <td>uulnerātūrīs</td>\n      <td>wulneraːtuːriːs</td>\n      <td>0</td>\n      <td>0</td>\n      <td>0</td>\n      <td>0</td>\n      <td>0</td>\n    </tr>\n  </tbody>\n</table>\n<p>850392 rows × 9 columns</p>\n</div>"
     },
     "execution_count": 5,
     "metadata": {},
     "output_type": "execute_result"
    }
   ],
   "source": [
    "LatInfLexi_verbs"
   ],
   "metadata": {
    "collapsed": false,
    "ExecuteTime": {
     "end_time": "2023-11-21T13:00:57.966631826Z",
     "start_time": "2023-11-21T13:00:57.935170958Z"
    }
   },
   "id": "8ff2602de7260376"
  },
  {
   "cell_type": "markdown",
   "source": [
    "# Combining forms tables"
   ],
   "metadata": {
    "collapsed": false
   },
   "id": "e22f228abea29755"
  },
  {
   "cell_type": "markdown",
   "source": [
    "Adding POS"
   ],
   "metadata": {
    "collapsed": false
   },
   "id": "d3221180c97d6912"
  },
  {
   "cell_type": "code",
   "execution_count": 6,
   "id": "10d820ea",
   "metadata": {
    "ExecuteTime": {
     "end_time": "2023-11-21T13:00:57.971809516Z",
     "start_time": "2023-11-21T13:00:57.949544775Z"
    }
   },
   "outputs": [],
   "source": [
    "LatInfLexi_verbs[\"POS\"] = \"verb\"\n",
    "LatInfLexi_nouns[\"POS\"] = \"noun\""
   ]
  },
  {
   "cell_type": "markdown",
   "source": [
    "Generating form_id"
   ],
   "metadata": {
    "collapsed": false
   },
   "id": "40bb8cc2f2095405"
  },
  {
   "cell_type": "code",
   "execution_count": 7,
   "outputs": [],
   "source": [
    "def add_form_id(df, suffix=\"\"):\n",
    "    df.index.name = \"form_id\"\n",
    "    df.reset_index(inplace=True)\n",
    "    df[\"form_id\"] = \"form_\" + df[\"form_id\"].apply(str) + suffix\n",
    "\n",
    "add_form_id(LatInfLexi_verbs, \"_v\")\n",
    "add_form_id(LatInfLexi_nouns, \"_n\")"
   ],
   "metadata": {
    "collapsed": false,
    "ExecuteTime": {
     "end_time": "2023-11-21T13:00:58.124742878Z",
     "start_time": "2023-11-21T13:00:57.957949501Z"
    }
   },
   "id": "1a75d1017c405c42"
  },
  {
   "cell_type": "markdown",
   "source": [
    "Concatenating forms tables:"
   ],
   "metadata": {
    "collapsed": false
   },
   "id": "b6c3e4cdd55bee24"
  },
  {
   "cell_type": "code",
   "execution_count": 8,
   "outputs": [],
   "source": [
    "LatInfLexi_forms = pd.concat([LatInfLexi_verbs, LatInfLexi_nouns])"
   ],
   "metadata": {
    "collapsed": false,
    "ExecuteTime": {
     "end_time": "2023-11-21T13:00:58.201850861Z",
     "start_time": "2023-11-21T13:00:58.124578719Z"
    }
   },
   "id": "19af8e84219aa94b"
  },
  {
   "cell_type": "markdown",
   "source": [
    "# Converting forms to Paralex format"
   ],
   "metadata": {
    "collapsed": false
   },
   "id": "cc3f84079a4187d"
  },
  {
   "cell_type": "markdown",
   "source": [
    "Obtaining columns in Paralex format:"
   ],
   "metadata": {
    "collapsed": false
   },
   "id": "8b4b27e741d8ff6"
  },
  {
   "cell_type": "code",
   "execution_count": 9,
   "id": "73d9fe66",
   "metadata": {
    "ExecuteTime": {
     "end_time": "2023-11-21T13:00:58.207228624Z",
     "start_time": "2023-11-21T13:00:58.189356148Z"
    }
   },
   "outputs": [],
   "source": [
    "col_map = {\"form\": \"orth_form\", \"form_IPA\": \"phon_form\", \"PoSTag:features\": \"cell\",\n",
    "           \"freqTFTL\":\"frequency\",\n",
    "           \"freqAntiquitas\":\"frequency_Antiquitas\" ,\n",
    "           \"freqAetasPatrum\":\"frequency_AetasPatrum\",\n",
    "            \"freqMediumAeuum\":\"frequency_MediumAeuum\",\n",
    "            \"freqRecentiorLatinitas\":\"frequency_RecentiorLatinitas\"\n",
    "           }\n",
    "LatInfLexi_forms.rename(col_map, axis=1, inplace=True)"
   ]
  },
  {
   "cell_type": "markdown",
   "source": [
    "Mapping cells to new scheme:"
   ],
   "metadata": {
    "collapsed": false
   },
   "id": "eb75402379a88c4a"
  },
  {
   "cell_type": "code",
   "execution_count": 10,
   "outputs": [],
   "source": [
    "LatInfLexi_cells_mapper = LatInfLexi_cells.set_index(\"LatInFlexi-cell\").cell_id.to_dict()\n",
    "LatInfLexi_forms.loc[:,\"cell\"] = LatInfLexi_forms.cell.map(LatInfLexi_cells_mapper)"
   ],
   "metadata": {
    "collapsed": false,
    "ExecuteTime": {
     "end_time": "2023-11-21T13:00:58.258968619Z",
     "start_time": "2023-11-21T13:00:58.195513272Z"
    }
   },
   "id": "5e1f7c0173511219"
  },
  {
   "cell_type": "code",
   "execution_count": 11,
   "outputs": [
    {
     "data": {
      "text/plain": "              form_id      lexeme                   cell   orth_form  \\\n489442  form_489442_v  lustro/-or  fut.act.ptcp.nom.n.pl  lūstrātūra   \n659995  form_659995_v      proruo           gdv.dat.n.pl  prōruendīs   \n529154  form_529154_v     oblecto           prs.pass.inf   oblectārī   \n760603  form_760603_v        spuo  prs.act.ptcp.voc.n.sg      spuēns   \n250547  form_250547_v      diligo           gdv.dat.n.pl  dīligendīs   \n\n            phon_form  frequency  frequency_Antiquitas  frequency_AetasPatrum  \\\n489442  luːstraːtuːra          0                     0                      0   \n659995   proːruendiːs          0                     0                      0   \n529154    oblektaːriː         39                     0                     13   \n760603        spueːns          2                     0                      2   \n250547   diːliɡendiːs         26                     1                      8   \n\n        frequency_MediumAeuum  frequency_RecentiorLatinitas   POS  \n489442                      0                             0  verb  \n659995                      0                             0  verb  \n529154                     23                             3  verb  \n760603                      0                             0  verb  \n250547                     16                             1  verb  ",
      "text/html": "<div>\n<style scoped>\n    .dataframe tbody tr th:only-of-type {\n        vertical-align: middle;\n    }\n\n    .dataframe tbody tr th {\n        vertical-align: top;\n    }\n\n    .dataframe thead th {\n        text-align: right;\n    }\n</style>\n<table border=\"1\" class=\"dataframe\">\n  <thead>\n    <tr style=\"text-align: right;\">\n      <th></th>\n      <th>form_id</th>\n      <th>lexeme</th>\n      <th>cell</th>\n      <th>orth_form</th>\n      <th>phon_form</th>\n      <th>frequency</th>\n      <th>frequency_Antiquitas</th>\n      <th>frequency_AetasPatrum</th>\n      <th>frequency_MediumAeuum</th>\n      <th>frequency_RecentiorLatinitas</th>\n      <th>POS</th>\n    </tr>\n  </thead>\n  <tbody>\n    <tr>\n      <th>489442</th>\n      <td>form_489442_v</td>\n      <td>lustro/-or</td>\n      <td>fut.act.ptcp.nom.n.pl</td>\n      <td>lūstrātūra</td>\n      <td>luːstraːtuːra</td>\n      <td>0</td>\n      <td>0</td>\n      <td>0</td>\n      <td>0</td>\n      <td>0</td>\n      <td>verb</td>\n    </tr>\n    <tr>\n      <th>659995</th>\n      <td>form_659995_v</td>\n      <td>proruo</td>\n      <td>gdv.dat.n.pl</td>\n      <td>prōruendīs</td>\n      <td>proːruendiːs</td>\n      <td>0</td>\n      <td>0</td>\n      <td>0</td>\n      <td>0</td>\n      <td>0</td>\n      <td>verb</td>\n    </tr>\n    <tr>\n      <th>529154</th>\n      <td>form_529154_v</td>\n      <td>oblecto</td>\n      <td>prs.pass.inf</td>\n      <td>oblectārī</td>\n      <td>oblektaːriː</td>\n      <td>39</td>\n      <td>0</td>\n      <td>13</td>\n      <td>23</td>\n      <td>3</td>\n      <td>verb</td>\n    </tr>\n    <tr>\n      <th>760603</th>\n      <td>form_760603_v</td>\n      <td>spuo</td>\n      <td>prs.act.ptcp.voc.n.sg</td>\n      <td>spuēns</td>\n      <td>spueːns</td>\n      <td>2</td>\n      <td>0</td>\n      <td>2</td>\n      <td>0</td>\n      <td>0</td>\n      <td>verb</td>\n    </tr>\n    <tr>\n      <th>250547</th>\n      <td>form_250547_v</td>\n      <td>diligo</td>\n      <td>gdv.dat.n.pl</td>\n      <td>dīligendīs</td>\n      <td>diːliɡendiːs</td>\n      <td>26</td>\n      <td>1</td>\n      <td>8</td>\n      <td>16</td>\n      <td>1</td>\n      <td>verb</td>\n    </tr>\n  </tbody>\n</table>\n</div>"
     },
     "execution_count": 11,
     "metadata": {},
     "output_type": "execute_result"
    }
   ],
   "source": [
    "LatInfLexi_forms.sample(5)"
   ],
   "metadata": {
    "collapsed": false,
    "ExecuteTime": {
     "end_time": "2023-11-21T13:00:58.276812826Z",
     "start_time": "2023-11-21T13:00:58.233922805Z"
    }
   },
   "id": "8385f70c72669fad"
  },
  {
   "cell_type": "markdown",
   "source": [
    "Setting form_id as index"
   ],
   "metadata": {
    "collapsed": false
   },
   "id": "fcd4b3795e3a761"
  },
  {
   "cell_type": "code",
   "execution_count": 12,
   "id": "169f36eee87e7e85",
   "metadata": {
    "ExecuteTime": {
     "end_time": "2023-11-21T13:00:58.421537348Z",
     "start_time": "2023-11-21T13:00:58.276071229Z"
    }
   },
   "outputs": [],
   "source": [
    "LatInfLexi_forms = LatInfLexi_forms.set_index(\"form_id\")"
   ]
  },
  {
   "cell_type": "code",
   "execution_count": 13,
   "outputs": [
    {
     "data": {
      "text/plain": "                lexeme              cell    orth_form      phon_form  \\\nform_id                                                                \nform_0_v      abalieno  prs.act.ind.1.sg     abaliēnō     abalieːnoː   \nform_1_v      abalieno  prs.act.ind.2.sg    abaliēnās    abalieːnaːs   \nform_2_v      abalieno  prs.act.ind.3.sg    abaliēnat     abalieːnat   \nform_3_v      abalieno  prs.act.ind.1.pl  abaliēnāmus  abalieːnaːmus   \nform_4_v      abalieno  prs.act.ind.2.pl  abaliēnātis  abalieːnaːtis   \n...                ...               ...          ...            ...   \nform_12451_n      uxor            gen.pl       uxōrum       uksoːrum   \nform_12452_n      uxor            dat.pl     uxōribus     uksoːribus   \nform_12453_n      uxor            acc.pl       uxōrēs      uksoːreːs   \nform_12454_n      uxor            voc.pl       uxōrēs      uksoːreːs   \nform_12455_n      uxor            abl.pl     uxōribus     uksoːribus   \n\n              frequency  frequency_Antiquitas  frequency_AetasPatrum  \\\nform_id                                                                \nform_0_v              0                     0                      0   \nform_1_v              0                     0                      0   \nform_2_v              5                     2                      2   \nform_3_v              0                     0                      0   \nform_4_v              2                     1                      1   \n...                 ...                   ...                    ...   \nform_12451_n        265                    15                    124   \nform_12452_n        725                    30                    317   \nform_12453_n       2073                    90                   1064   \nform_12454_n       2073                    90                   1064   \nform_12455_n        725                    30                    317   \n\n              frequency_MediumAeuum  frequency_RecentiorLatinitas   POS  \nform_id                                                                  \nform_0_v                          0                             0  verb  \nform_1_v                          0                             0  verb  \nform_2_v                          1                             0  verb  \nform_3_v                          0                             0  verb  \nform_4_v                          0                             0  verb  \n...                             ...                           ...   ...  \nform_12451_n                    122                             4  noun  \nform_12452_n                    373                             5  noun  \nform_12453_n                    903                            16  noun  \nform_12454_n                    903                            16  noun  \nform_12455_n                    373                             5  noun  \n\n[862848 rows x 10 columns]",
      "text/html": "<div>\n<style scoped>\n    .dataframe tbody tr th:only-of-type {\n        vertical-align: middle;\n    }\n\n    .dataframe tbody tr th {\n        vertical-align: top;\n    }\n\n    .dataframe thead th {\n        text-align: right;\n    }\n</style>\n<table border=\"1\" class=\"dataframe\">\n  <thead>\n    <tr style=\"text-align: right;\">\n      <th></th>\n      <th>lexeme</th>\n      <th>cell</th>\n      <th>orth_form</th>\n      <th>phon_form</th>\n      <th>frequency</th>\n      <th>frequency_Antiquitas</th>\n      <th>frequency_AetasPatrum</th>\n      <th>frequency_MediumAeuum</th>\n      <th>frequency_RecentiorLatinitas</th>\n      <th>POS</th>\n    </tr>\n    <tr>\n      <th>form_id</th>\n      <th></th>\n      <th></th>\n      <th></th>\n      <th></th>\n      <th></th>\n      <th></th>\n      <th></th>\n      <th></th>\n      <th></th>\n      <th></th>\n    </tr>\n  </thead>\n  <tbody>\n    <tr>\n      <th>form_0_v</th>\n      <td>abalieno</td>\n      <td>prs.act.ind.1.sg</td>\n      <td>abaliēnō</td>\n      <td>abalieːnoː</td>\n      <td>0</td>\n      <td>0</td>\n      <td>0</td>\n      <td>0</td>\n      <td>0</td>\n      <td>verb</td>\n    </tr>\n    <tr>\n      <th>form_1_v</th>\n      <td>abalieno</td>\n      <td>prs.act.ind.2.sg</td>\n      <td>abaliēnās</td>\n      <td>abalieːnaːs</td>\n      <td>0</td>\n      <td>0</td>\n      <td>0</td>\n      <td>0</td>\n      <td>0</td>\n      <td>verb</td>\n    </tr>\n    <tr>\n      <th>form_2_v</th>\n      <td>abalieno</td>\n      <td>prs.act.ind.3.sg</td>\n      <td>abaliēnat</td>\n      <td>abalieːnat</td>\n      <td>5</td>\n      <td>2</td>\n      <td>2</td>\n      <td>1</td>\n      <td>0</td>\n      <td>verb</td>\n    </tr>\n    <tr>\n      <th>form_3_v</th>\n      <td>abalieno</td>\n      <td>prs.act.ind.1.pl</td>\n      <td>abaliēnāmus</td>\n      <td>abalieːnaːmus</td>\n      <td>0</td>\n      <td>0</td>\n      <td>0</td>\n      <td>0</td>\n      <td>0</td>\n      <td>verb</td>\n    </tr>\n    <tr>\n      <th>form_4_v</th>\n      <td>abalieno</td>\n      <td>prs.act.ind.2.pl</td>\n      <td>abaliēnātis</td>\n      <td>abalieːnaːtis</td>\n      <td>2</td>\n      <td>1</td>\n      <td>1</td>\n      <td>0</td>\n      <td>0</td>\n      <td>verb</td>\n    </tr>\n    <tr>\n      <th>...</th>\n      <td>...</td>\n      <td>...</td>\n      <td>...</td>\n      <td>...</td>\n      <td>...</td>\n      <td>...</td>\n      <td>...</td>\n      <td>...</td>\n      <td>...</td>\n      <td>...</td>\n    </tr>\n    <tr>\n      <th>form_12451_n</th>\n      <td>uxor</td>\n      <td>gen.pl</td>\n      <td>uxōrum</td>\n      <td>uksoːrum</td>\n      <td>265</td>\n      <td>15</td>\n      <td>124</td>\n      <td>122</td>\n      <td>4</td>\n      <td>noun</td>\n    </tr>\n    <tr>\n      <th>form_12452_n</th>\n      <td>uxor</td>\n      <td>dat.pl</td>\n      <td>uxōribus</td>\n      <td>uksoːribus</td>\n      <td>725</td>\n      <td>30</td>\n      <td>317</td>\n      <td>373</td>\n      <td>5</td>\n      <td>noun</td>\n    </tr>\n    <tr>\n      <th>form_12453_n</th>\n      <td>uxor</td>\n      <td>acc.pl</td>\n      <td>uxōrēs</td>\n      <td>uksoːreːs</td>\n      <td>2073</td>\n      <td>90</td>\n      <td>1064</td>\n      <td>903</td>\n      <td>16</td>\n      <td>noun</td>\n    </tr>\n    <tr>\n      <th>form_12454_n</th>\n      <td>uxor</td>\n      <td>voc.pl</td>\n      <td>uxōrēs</td>\n      <td>uksoːreːs</td>\n      <td>2073</td>\n      <td>90</td>\n      <td>1064</td>\n      <td>903</td>\n      <td>16</td>\n      <td>noun</td>\n    </tr>\n    <tr>\n      <th>form_12455_n</th>\n      <td>uxor</td>\n      <td>abl.pl</td>\n      <td>uxōribus</td>\n      <td>uksoːribus</td>\n      <td>725</td>\n      <td>30</td>\n      <td>317</td>\n      <td>373</td>\n      <td>5</td>\n      <td>noun</td>\n    </tr>\n  </tbody>\n</table>\n<p>862848 rows × 10 columns</p>\n</div>"
     },
     "execution_count": 13,
     "metadata": {},
     "output_type": "execute_result"
    }
   ],
   "source": [
    "LatInfLexi_forms"
   ],
   "metadata": {
    "collapsed": false,
    "ExecuteTime": {
     "end_time": "2023-11-21T13:00:58.453597203Z",
     "start_time": "2023-11-21T13:00:58.402685989Z"
    }
   },
   "id": "5b00c561095c1be6"
  },
  {
   "cell_type": "markdown",
   "source": [
    "Adding stress"
   ],
   "metadata": {
    "collapsed": false
   },
   "id": "e45f928a882fe366"
  },
  {
   "cell_type": "code",
   "execution_count": 14,
   "outputs": [],
   "source": [
    "\n",
    "C = r\"b|d|ɡ|m|n|l|r|z|p|pʰ|f|t|tʰ|s|k|kʰ|h\"\n",
    "V = r\"waj|[jw][aeiouy]ː|[aeiouy]ː?|[jw][aeiouy]|[aeiouy][jw]\"\n",
    "segmenter = f\"(?:{C}|({V}))*?\"\n",
    "\n",
    "\n",
    "def search_vowels(word):\n",
    "    segmented = regex.fullmatch(segmenter, word)\n",
    "    return segmented.spans(1)\n",
    "\n",
    "def find_latin_stress(word):\n",
    "\n",
    "    if word == \"#DEF#\":\n",
    "        return word\n",
    "\n",
    "    def stress(idxs):\n",
    "        i = idxs[0]\n",
    "        if word[i] in 'wj':\n",
    "            i += 1\n",
    "        return word[:i] + \"ˈ\" + word[i:]\n",
    "\n",
    "    indexes = search_vowels(word)\n",
    "\n",
    "    # 2 syllables or less => stress first syllable\n",
    "    if len(indexes) <= 2:\n",
    "        return stress(indexes[0])\n",
    "\n",
    "    *_, antepenult, penult, ultimate = indexes\n",
    "\n",
    "    # If the penult has a long vowel it is stressed\n",
    "    if word[slice(*penult)][-1] in {\"ː\", \"j\", \"w\"}:\n",
    "        return stress(penult)\n",
    "\n",
    "    # Single C after the penult => short penult => stress antepenult\n",
    "    if (ultimate[0] - penult[1]) < 2:\n",
    "        return stress(antepenult)\n",
    "\n",
    "    # For the rest, it depends on the consonant sequence\n",
    "    c_seq = word[penult[1]:ultimate[0]]\n",
    "    cl = re.compile(\"^[bdɡpctd]ʰ?[rl]$\")\n",
    "\n",
    "    # C seq is a liquid cluster => short penult => stress antepenult\n",
    "    if cl.match(c_seq):\n",
    "        return stress(antepenult)\n",
    "\n",
    "    # other C sequence => long penult => stress penult\n",
    "    return stress(penult)\n",
    "\n",
    "\n",
    "LatInfLexi_forms.loc[:, \"phon_form\"] = LatInfLexi_forms[\"phon_form\"].apply(find_latin_stress)"
   ],
   "metadata": {
    "collapsed": false,
    "ExecuteTime": {
     "end_time": "2023-11-21T13:01:02.498239734Z",
     "start_time": "2023-11-21T13:00:58.443958281Z"
    }
   },
   "id": "a1347d8fd04d2543"
  },
  {
   "cell_type": "markdown",
   "source": [
    "Separating sounds with spaces"
   ],
   "metadata": {
    "collapsed": false
   },
   "id": "e38f366aa4d7ba3e"
  },
  {
   "cell_type": "code",
   "execution_count": 15,
   "outputs": [],
   "source": [
    "\n",
    "def splitter(series, split_pattern):\n",
    "    series = series.str.split(pat=split_pattern, regex=True)\n",
    "    return series.apply(lambda x: \" \".join([char for char in x if char]))\n",
    "\n",
    "sounds = ['b', 'd', 'ɡ', 'm', 'n', 'l', 'r', 'z', 'p', 'pʰ', 'f', 't', 'tʰ', 's',\n",
    "          'k', 'kʰ', 'h', 'j', 'w', 'a', 'aː', 'e', 'eː', 'i', 'iː', 'o', 'oː',\n",
    "          'u', 'uː',\n",
    "          'ˈa', 'ˈaː', 'ˈe', 'ˈeː', 'ˈi', 'ˈiː', 'ˈo', 'ˈoː',\n",
    "          'ˈu', 'ˈuː',\n",
    "          \n",
    "          'ˈy', 'ˈyː']\n",
    "split_pattern = \"(\" + \"|\".join(sorted(sounds, key=len, reverse=True)) + \")\"\n",
    "LatInfLexi_forms[\"phon_form\"] = splitter(LatInfLexi_forms[\"phon_form\"], split_pattern)"
   ],
   "metadata": {
    "collapsed": false,
    "ExecuteTime": {
     "end_time": "2023-11-21T13:01:05.076581395Z",
     "start_time": "2023-11-21T13:01:02.482146700Z"
    }
   },
   "id": "4f0c826681ed2758"
  },
  {
   "cell_type": "markdown",
   "source": [
    "# Adjusting the transcription"
   ],
   "metadata": {
    "collapsed": false
   },
   "id": "bd06721f2f1b9648"
  },
  {
   "cell_type": "code",
   "execution_count": 16,
   "outputs": [],
   "source": [
    "# Adding frequencies to the cells"
   ],
   "metadata": {
    "collapsed": false,
    "ExecuteTime": {
     "end_time": "2023-11-21T13:01:05.085900582Z",
     "start_time": "2023-11-21T13:01:05.076921200Z"
    }
   },
   "id": "9cf1ca089764139a"
  },
  {
   "cell_type": "code",
   "execution_count": 17,
   "outputs": [],
   "source": [
    "cells_freq = LatInfLexi_forms.groupby(\"cell\")[[\"frequency\", \n",
    "                                              \"frequency_Antiquitas\",\n",
    "                                              \"frequency_AetasPatrum\",\n",
    "                                              \"frequency_MediumAeuum\",\n",
    "                                              \"frequency_RecentiorLatinitas\"]].agg(sum)\n",
    "cells_freq.index.name = \"cell_id\""
   ],
   "metadata": {
    "collapsed": false,
    "ExecuteTime": {
     "end_time": "2023-11-21T13:01:05.132604231Z",
     "start_time": "2023-11-21T13:01:05.079288975Z"
    }
   },
   "id": "e99c21980bc47764"
  },
  {
   "cell_type": "code",
   "execution_count": 18,
   "outputs": [
    {
     "data": {
      "text/plain": "                    frequency  frequency_Antiquitas  frequency_AetasPatrum  \\\ncell_id                                                                      \nabl.pl                 835283                115180                 310927   \nabl.sg                2816933                297275                 962861   \nacc.pl                1565479                216650                 557840   \nacc.sg                2663992                246582                 945900   \ndat.pl                 835283                115180                 310927   \n...                       ...                   ...                    ...   \nprs.pass.sbjv.3.sg     168334                  9945                  66246   \nsup.abl                156341                 17168                  41767   \nsup.acc                591907                 50305                 198546   \nvoc.pl                2113371                236521                 758001   \nvoc.sg                3102649                290411                1028722   \n\n                    frequency_MediumAeuum  frequency_RecentiorLatinitas  \ncell_id                                                                  \nabl.pl                             382000                         27176  \nabl.sg                            1463839                         92958  \nacc.pl                             734860                         56129  \nacc.sg                            1391128                         80382  \ndat.pl                             382000                         27176  \n...                                   ...                           ...  \nprs.pass.sbjv.3.sg                  83631                          8512  \nsup.abl                             88748                          8658  \nsup.acc                            323267                         19789  \nvoc.pl                            1044528                         74321  \nvoc.sg                            1687352                         96164  \n\n[266 rows x 5 columns]",
      "text/html": "<div>\n<style scoped>\n    .dataframe tbody tr th:only-of-type {\n        vertical-align: middle;\n    }\n\n    .dataframe tbody tr th {\n        vertical-align: top;\n    }\n\n    .dataframe thead th {\n        text-align: right;\n    }\n</style>\n<table border=\"1\" class=\"dataframe\">\n  <thead>\n    <tr style=\"text-align: right;\">\n      <th></th>\n      <th>frequency</th>\n      <th>frequency_Antiquitas</th>\n      <th>frequency_AetasPatrum</th>\n      <th>frequency_MediumAeuum</th>\n      <th>frequency_RecentiorLatinitas</th>\n    </tr>\n    <tr>\n      <th>cell_id</th>\n      <th></th>\n      <th></th>\n      <th></th>\n      <th></th>\n      <th></th>\n    </tr>\n  </thead>\n  <tbody>\n    <tr>\n      <th>abl.pl</th>\n      <td>835283</td>\n      <td>115180</td>\n      <td>310927</td>\n      <td>382000</td>\n      <td>27176</td>\n    </tr>\n    <tr>\n      <th>abl.sg</th>\n      <td>2816933</td>\n      <td>297275</td>\n      <td>962861</td>\n      <td>1463839</td>\n      <td>92958</td>\n    </tr>\n    <tr>\n      <th>acc.pl</th>\n      <td>1565479</td>\n      <td>216650</td>\n      <td>557840</td>\n      <td>734860</td>\n      <td>56129</td>\n    </tr>\n    <tr>\n      <th>acc.sg</th>\n      <td>2663992</td>\n      <td>246582</td>\n      <td>945900</td>\n      <td>1391128</td>\n      <td>80382</td>\n    </tr>\n    <tr>\n      <th>dat.pl</th>\n      <td>835283</td>\n      <td>115180</td>\n      <td>310927</td>\n      <td>382000</td>\n      <td>27176</td>\n    </tr>\n    <tr>\n      <th>...</th>\n      <td>...</td>\n      <td>...</td>\n      <td>...</td>\n      <td>...</td>\n      <td>...</td>\n    </tr>\n    <tr>\n      <th>prs.pass.sbjv.3.sg</th>\n      <td>168334</td>\n      <td>9945</td>\n      <td>66246</td>\n      <td>83631</td>\n      <td>8512</td>\n    </tr>\n    <tr>\n      <th>sup.abl</th>\n      <td>156341</td>\n      <td>17168</td>\n      <td>41767</td>\n      <td>88748</td>\n      <td>8658</td>\n    </tr>\n    <tr>\n      <th>sup.acc</th>\n      <td>591907</td>\n      <td>50305</td>\n      <td>198546</td>\n      <td>323267</td>\n      <td>19789</td>\n    </tr>\n    <tr>\n      <th>voc.pl</th>\n      <td>2113371</td>\n      <td>236521</td>\n      <td>758001</td>\n      <td>1044528</td>\n      <td>74321</td>\n    </tr>\n    <tr>\n      <th>voc.sg</th>\n      <td>3102649</td>\n      <td>290411</td>\n      <td>1028722</td>\n      <td>1687352</td>\n      <td>96164</td>\n    </tr>\n  </tbody>\n</table>\n<p>266 rows × 5 columns</p>\n</div>"
     },
     "execution_count": 18,
     "metadata": {},
     "output_type": "execute_result"
    }
   ],
   "source": [
    "cells_freq"
   ],
   "metadata": {
    "collapsed": false,
    "ExecuteTime": {
     "end_time": "2023-11-21T13:01:05.133589871Z",
     "start_time": "2023-11-21T13:01:05.121449584Z"
    }
   },
   "id": "24ba7b8138dde3b3"
  },
  {
   "cell_type": "code",
   "execution_count": 19,
   "outputs": [],
   "source": [
    "LatInfLexi_cells.set_index(\"cell_id\", inplace=True)"
   ],
   "metadata": {
    "collapsed": false,
    "ExecuteTime": {
     "end_time": "2023-11-21T13:01:05.133764734Z",
     "start_time": "2023-11-21T13:01:05.123932297Z"
    }
   },
   "id": "3fc2a0ced4b9ad34"
  },
  {
   "cell_type": "code",
   "execution_count": 20,
   "outputs": [],
   "source": [
    "LatInfLexi_cells = pd.merge(LatInfLexi_cells, cells_freq, left_index=True, right_index=True)"
   ],
   "metadata": {
    "collapsed": false,
    "ExecuteTime": {
     "end_time": "2023-11-21T13:01:05.133912013Z",
     "start_time": "2023-11-21T13:01:05.128034659Z"
    }
   },
   "id": "a619e9d137255c83"
  },
  {
   "cell_type": "markdown",
   "source": [
    "# Creating the lexemes table"
   ],
   "metadata": {
    "collapsed": false
   },
   "id": "996f2e0ca5858551"
  },
  {
   "cell_type": "code",
   "execution_count": 21,
   "outputs": [],
   "source": [
    "LatInfLexi_lexemes = LatInfLexi_forms.groupby([\"lexeme\", \"POS\"])[[\"frequency\", \n",
    "                                                                      \"frequency_Antiquitas\",\n",
    "                                                                      \"frequency_AetasPatrum\",\n",
    "                                                                      \"frequency_MediumAeuum\",\n",
    "                                                                      \"frequency_RecentiorLatinitas\"]].agg(sum).reset_index(\"POS\", drop=False)\n",
    "LatInfLexi_lexemes.index.name = \"lexeme_id\""
   ],
   "metadata": {
    "collapsed": false,
    "ExecuteTime": {
     "end_time": "2023-11-21T13:01:05.263446165Z",
     "start_time": "2023-11-21T13:01:05.132922798Z"
    }
   },
   "id": "8c9f645aa7c0e0ee"
  },
  {
   "cell_type": "code",
   "execution_count": 22,
   "outputs": [
    {
     "data": {
      "text/plain": "            POS  frequency  frequency_Antiquitas  frequency_AetasPatrum  \\\nlexeme_id                                                                 \nabalieno   verb        393                   101                    176   \nabdico     verb       2256                   773                    760   \nabdo       verb       4850                   971                   2111   \nabduco     verb       3194                   937                   1057   \nabeo       verb       6626                  1723                   1466   \n...         ...        ...                   ...                    ...   \nuulgus     noun       7917                  1588                   2524   \nuulnero    verb      10975                  1167                   4903   \nuulnus     noun      18041                  3618                   7531   \nuultus     noun      25464                  4688                   9117   \nuxor       noun      28358                  2861                  12294   \n\n           frequency_MediumAeuum  frequency_RecentiorLatinitas  \nlexeme_id                                                       \nabalieno                     113                             3  \nabdico                       683                            40  \nabdo                        1644                           124  \nabduco                      1116                            84  \nabeo                        3229                           208  \n...                          ...                           ...  \nuulgus                      2311                          1494  \nuulnero                     4784                           121  \nuulnus                      6637                           255  \nuultus                     11269                           390  \nuxor                       12973                           230  \n\n[4386 rows x 6 columns]",
      "text/html": "<div>\n<style scoped>\n    .dataframe tbody tr th:only-of-type {\n        vertical-align: middle;\n    }\n\n    .dataframe tbody tr th {\n        vertical-align: top;\n    }\n\n    .dataframe thead th {\n        text-align: right;\n    }\n</style>\n<table border=\"1\" class=\"dataframe\">\n  <thead>\n    <tr style=\"text-align: right;\">\n      <th></th>\n      <th>POS</th>\n      <th>frequency</th>\n      <th>frequency_Antiquitas</th>\n      <th>frequency_AetasPatrum</th>\n      <th>frequency_MediumAeuum</th>\n      <th>frequency_RecentiorLatinitas</th>\n    </tr>\n    <tr>\n      <th>lexeme_id</th>\n      <th></th>\n      <th></th>\n      <th></th>\n      <th></th>\n      <th></th>\n      <th></th>\n    </tr>\n  </thead>\n  <tbody>\n    <tr>\n      <th>abalieno</th>\n      <td>verb</td>\n      <td>393</td>\n      <td>101</td>\n      <td>176</td>\n      <td>113</td>\n      <td>3</td>\n    </tr>\n    <tr>\n      <th>abdico</th>\n      <td>verb</td>\n      <td>2256</td>\n      <td>773</td>\n      <td>760</td>\n      <td>683</td>\n      <td>40</td>\n    </tr>\n    <tr>\n      <th>abdo</th>\n      <td>verb</td>\n      <td>4850</td>\n      <td>971</td>\n      <td>2111</td>\n      <td>1644</td>\n      <td>124</td>\n    </tr>\n    <tr>\n      <th>abduco</th>\n      <td>verb</td>\n      <td>3194</td>\n      <td>937</td>\n      <td>1057</td>\n      <td>1116</td>\n      <td>84</td>\n    </tr>\n    <tr>\n      <th>abeo</th>\n      <td>verb</td>\n      <td>6626</td>\n      <td>1723</td>\n      <td>1466</td>\n      <td>3229</td>\n      <td>208</td>\n    </tr>\n    <tr>\n      <th>...</th>\n      <td>...</td>\n      <td>...</td>\n      <td>...</td>\n      <td>...</td>\n      <td>...</td>\n      <td>...</td>\n    </tr>\n    <tr>\n      <th>uulgus</th>\n      <td>noun</td>\n      <td>7917</td>\n      <td>1588</td>\n      <td>2524</td>\n      <td>2311</td>\n      <td>1494</td>\n    </tr>\n    <tr>\n      <th>uulnero</th>\n      <td>verb</td>\n      <td>10975</td>\n      <td>1167</td>\n      <td>4903</td>\n      <td>4784</td>\n      <td>121</td>\n    </tr>\n    <tr>\n      <th>uulnus</th>\n      <td>noun</td>\n      <td>18041</td>\n      <td>3618</td>\n      <td>7531</td>\n      <td>6637</td>\n      <td>255</td>\n    </tr>\n    <tr>\n      <th>uultus</th>\n      <td>noun</td>\n      <td>25464</td>\n      <td>4688</td>\n      <td>9117</td>\n      <td>11269</td>\n      <td>390</td>\n    </tr>\n    <tr>\n      <th>uxor</th>\n      <td>noun</td>\n      <td>28358</td>\n      <td>2861</td>\n      <td>12294</td>\n      <td>12973</td>\n      <td>230</td>\n    </tr>\n  </tbody>\n</table>\n<p>4386 rows × 6 columns</p>\n</div>"
     },
     "execution_count": 22,
     "metadata": {},
     "output_type": "execute_result"
    }
   ],
   "source": [
    "LatInfLexi_lexemes"
   ],
   "metadata": {
    "collapsed": false,
    "ExecuteTime": {
     "end_time": "2023-11-21T13:01:05.264557558Z",
     "start_time": "2023-11-21T13:01:05.227951300Z"
    }
   },
   "id": "5923bce1f2a1e9f8"
  },
  {
   "cell_type": "markdown",
   "source": [
    "# Output"
   ],
   "metadata": {
    "collapsed": false
   },
   "id": "c89e335f2ff3e020"
  },
  {
   "cell_type": "markdown",
   "source": [
    "Writing it all to file"
   ],
   "metadata": {
    "collapsed": false
   },
   "id": "1a71f72f1ce3fa47"
  },
  {
   "cell_type": "code",
   "execution_count": 23,
   "outputs": [],
   "source": [
    "LatInfLexi_lexemes.to_csv(\"LatInfLexi-lexemes.csv\")\n",
    "LatInfLexi_forms.to_csv(\"LatInfLexi-forms.csv\")\n",
    "LatInfLexi_cells.to_csv(\"LatInfLexi-cells.csv\")"
   ],
   "metadata": {
    "collapsed": false,
    "ExecuteTime": {
     "end_time": "2023-11-21T13:01:06.936662866Z",
     "start_time": "2023-11-21T13:01:05.228154427Z"
    }
   },
   "id": "f7472c11"
  },
  {
   "cell_type": "markdown",
   "source": [
    "Remove temporary files from v1.1"
   ],
   "metadata": {
    "collapsed": false
   },
   "id": "4bfe5c4cfeff0d95"
  },
  {
   "cell_type": "code",
   "execution_count": 24,
   "outputs": [],
   "source": [
    "%%bash\n",
    "rm LatInfLexi-nouns.csv\n",
    "rm LatInfLexi-verbs.csv\n"
   ],
   "metadata": {
    "collapsed": false,
    "ExecuteTime": {
     "end_time": "2023-11-21T13:01:06.992333360Z",
     "start_time": "2023-11-21T13:01:06.938291821Z"
    }
   },
   "id": "dbb1715d99b9881b"
  },
  {
   "cell_type": "code",
   "execution_count": 24,
   "outputs": [],
   "source": [],
   "metadata": {
    "collapsed": false,
    "ExecuteTime": {
     "end_time": "2023-11-21T13:01:06.992676076Z",
     "start_time": "2023-11-21T13:01:06.992115294Z"
    }
   },
   "id": "81f6407878dfcb5d"
  }
 ],
 "metadata": {
  "kernelspec": {
   "name": "python3",
   "language": "python",
   "display_name": "Python 3 (ipykernel)"
  },
  "language_info": {
   "codemirror_mode": {
    "name": "ipython",
    "version": 3
   },
   "file_extension": ".py",
   "mimetype": "text/x-python",
   "name": "python",
   "nbconvert_exporter": "python",
   "pygments_lexer": "ipython3",
   "version": "3.11.5"
  }
 },
 "nbformat": 4,
 "nbformat_minor": 5
}
