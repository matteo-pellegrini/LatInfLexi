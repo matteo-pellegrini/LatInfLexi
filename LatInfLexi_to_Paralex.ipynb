{
 "cells": [
  {
   "cell_type": "code",
   "execution_count": 154,
   "id": "7000cf02",
   "metadata": {
    "ExecuteTime": {
     "end_time": "2023-11-21T13:00:57.182042012Z",
     "start_time": "2023-11-21T13:00:56.919440671Z"
    }
   },
   "outputs": [],
   "source": [
    "import pandas as pd\n",
    "import re\n",
    "import regex"
   ]
  },
  {
   "cell_type": "markdown",
   "id": "767dbea641a13100",
   "metadata": {
    "collapsed": false,
    "jupyter": {
     "outputs_hidden": false
    }
   },
   "source": [
    "# Reading cells "
   ]
  },
  {
   "cell_type": "markdown",
   "id": "66f4c69b0cc6d94b",
   "metadata": {
    "collapsed": false,
    "jupyter": {
     "outputs_hidden": false
    }
   },
   "source": [
    "We have manually made tables in `etc/`, we just annotate them with POS and concatenate to make a single table:"
   ]
  },
  {
   "cell_type": "code",
   "execution_count": 155,
   "id": "bda42d78ed60358b",
   "metadata": {
    "ExecuteTime": {
     "end_time": "2023-11-21T13:00:57.182361126Z",
     "start_time": "2023-11-21T13:00:57.159986055Z"
    },
    "collapsed": false,
    "jupyter": {
     "outputs_hidden": false
    }
   },
   "outputs": [],
   "source": [
    "LatInfLexi_verbs_cells = pd.read_csv(\"etc/LatInfLexi-verbs_cells.csv\")\n",
    "LatInfLexi_verbs_cells[\"POS\"] = \"verb\"\n",
    "LatInfLexi_nouns_cells = pd.read_csv(\"etc/LatInfLexi-nouns_cells.csv\")\n",
    "LatInfLexi_nouns_cells[\"POS\"] = \"noun\"\n",
    "LatInfLexi_cells = pd.concat([LatInfLexi_verbs_cells, LatInfLexi_nouns_cells])"
   ]
  },
  {
   "cell_type": "markdown",
   "id": "48c462897f155180",
   "metadata": {
    "collapsed": false,
    "jupyter": {
     "outputs_hidden": false
    }
   },
   "source": [
    "# Reading forms"
   ]
  },
  {
   "cell_type": "markdown",
   "id": "115b19a4fd6e13ea",
   "metadata": {
    "collapsed": false,
    "jupyter": {
     "outputs_hidden": false
    }
   },
   "source": [
    "We get the previous version's forms"
   ]
  },
  {
   "cell_type": "code",
   "execution_count": 156,
   "id": "67cc46312e698bb2",
   "metadata": {
    "ExecuteTime": {
     "end_time": "2023-11-21T13:00:57.309573258Z",
     "start_time": "2023-11-21T13:00:57.160176902Z"
    },
    "collapsed": false,
    "jupyter": {
     "outputs_hidden": false
    }
   },
   "outputs": [],
   "source": [
    "%%bash \n",
    "git checkout v1.1 -- LatInfLexi-nouns.csv\n",
    "git checkout v1.1 -- LatInfLexi-verbs.csv"
   ]
  },
  {
   "cell_type": "markdown",
   "id": "75b626c8d40b19dc",
   "metadata": {
    "collapsed": false,
    "jupyter": {
     "outputs_hidden": false
    }
   },
   "source": [
    "We read these tables"
   ]
  },
  {
   "cell_type": "code",
   "execution_count": 157,
   "id": "2792d387",
   "metadata": {
    "ExecuteTime": {
     "end_time": "2023-11-21T13:00:57.935037040Z",
     "start_time": "2023-11-21T13:00:57.311536958Z"
    }
   },
   "outputs": [],
   "source": [
    "LatInfLexi_verbs = pd.read_csv(\"LatInfLexi-verbs.csv\")\n",
    "LatInfLexi_nouns = pd.read_csv(\"LatInfLexi-nouns.csv\")"
   ]
  },
  {
   "cell_type": "markdown",
   "id": "77d9c9b0-a6da-4d62-aaab-b2bd5167de71",
   "metadata": {},
   "source": [
    "# Making some corrections"
   ]
  },
  {
   "cell_type": "code",
   "execution_count": 158,
   "id": "95dfa07a-3ffc-40e2-86fb-7e6dc9db99f3",
   "metadata": {},
   "outputs": [],
   "source": [
    "changes = {\n",
    "# vowel length in the present system of lexeme \"praescisco\" (and consequently IPA transcriptions) \n",
    "633730: { \"form\" : \"praescīscō\" , \"form_IPA\" : \"prajskiːskoː\" } ,\n",
    "633731: { \"form\" : \"praescīscis\" , \"form_IPA\" : \"prajskiːskis\" } ,\n",
    "633732: { \"form\" : \"praescīscit\" , \"form_IPA\" : \"prajskiːskit\" } ,\n",
    "633733: { \"form\" : \"praescīscimus\" , \"form_IPA\" : \"prajskiːskimus\" } ,\n",
    "633734: { \"form\" : \"praescīscitis\" , \"form_IPA\" : \"prajskiːskitis\" } ,\n",
    "633735: { \"form\" : \"praescīscunt\" , \"form_IPA\" : \"prajskiːskunt\" } ,\n",
    "633736: { \"form\" : \"praescīscēbam\" , \"form_IPA\" : \"prajskiːskeːbam\" } ,\n",
    "633737: { \"form\" : \"praescīscēbās\" , \"form_IPA\" : \"prajskiːskeːbaːs\" } ,\n",
    "633738: { \"form\" : \"praescīscēbat\" , \"form_IPA\" : \"prajskiːskeːbat\" } ,\n",
    "633739: { \"form\" : \"praescīscēbāmus\" , \"form_IPA\" : \"prajskiːskeːbaːmus\" } ,\n",
    "633740: { \"form\" : \"praescīscēbātis\" , \"form_IPA\" : \"prajskiːskeːbaːtis\" } ,\n",
    "633741: { \"form\" : \"praescīscēbant\" , \"form_IPA\" : \"prajskiːskeːbant\" } ,\n",
    "633742: { \"form\" : \"praescīscam\" , \"form_IPA\" : \"prajskiːskam\" } ,\n",
    "633743: { \"form\" : \"praescīscēs\" , \"form_IPA\" : \"prajskiːskeːs\" } ,\n",
    "633744: { \"form\" : \"praescīscet\" , \"form_IPA\" : \"prajskiːsket\" } ,\n",
    "633745: { \"form\" : \"praescīscēmus\" , \"form_IPA\" : \"prajskiːskeːmus\" } ,\n",
    "633746: { \"form\" : \"praescīscētis\" , \"form_IPA\" : \"prajskiːskeːtis\" } ,\n",
    "633747: { \"form\" : \"praescīscent\" , \"form_IPA\" : \"prajskiːskent\" } ,\n",
    "633748: { \"form\" : \"praescīscam\" , \"form_IPA\" : \"prajskiːskam\" } ,\n",
    "633749: { \"form\" : \"praescīscās\" , \"form_IPA\" : \"prajskiːskaːs\" } ,\n",
    "633750: { \"form\" : \"praescīscat\" , \"form_IPA\" : \"prajskiːskat\" } ,\n",
    "633751: { \"form\" : \"praescīscāmus\" , \"form_IPA\" : \"prajskiːskaːmus\" } ,\n",
    "633752: { \"form\" : \"praescīscātis\" , \"form_IPA\" : \"prajskiːskaːtis\" } ,\n",
    "633753: { \"form\" : \"praescīscant\" , \"form_IPA\" : \"prajskiːskant\" } ,\n",
    "633754: { \"form\" : \"praescīscerem\" , \"form_IPA\" : \"prajskiːskerem\" } ,\n",
    "633755: { \"form\" : \"praescīscerēs\" , \"form_IPA\" : \"prajskiːskereːs\" } ,\n",
    "633756: { \"form\" : \"praescīsceret\" , \"form_IPA\" : \"prajskiːskeret\" } ,\n",
    "633757: { \"form\" : \"praescīscerēmus\" , \"form_IPA\" : \"prajskiːskereːmus\" } ,\n",
    "633758: { \"form\" : \"praescīscerētis\" , \"form_IPA\" : \"prajskiːskereːtis\" } ,\n",
    "633759: { \"form\" : \"praescīscerent\" , \"form_IPA\" : \"prajskiːskerent\" } ,\n",
    "633760: { \"form\" : \"praescīsce\" , \"form_IPA\" : \"prajskiːske\" } ,\n",
    "633761: { \"form\" : \"praescīscite\" , \"form_IPA\" : \"prajskiːskite\" } ,\n",
    "633762: { \"form\" : \"praescīscitō\" , \"form_IPA\" : \"prajskiːskitoː\" } ,\n",
    "633763: { \"form\" : \"praescīscitō\" , \"form_IPA\" : \"prajskiːskitoː\" } ,\n",
    "633764: { \"form\" : \"praescīscitōte\" , \"form_IPA\" : \"prajskiːskitoːte\" } ,\n",
    "633765: { \"form\" : \"praescīscuntō\" , \"form_IPA\" : \"prajskiːskuntoː\" } ,\n",
    "633766: { \"form\" : \"praescīscere\" , \"form_IPA\" : \"prajskiːskere\" } ,\n",
    "633767: { \"form\" : \"praescīscor\" , \"form_IPA\" : \"prajskiːskor\" } ,\n",
    "633768: { \"form\" : \"praescīsceris\" , \"form_IPA\" : \"prajskiːskeris\" } ,\n",
    "633769: { \"form\" : \"praescīscitur\" , \"form_IPA\" : \"prajskiːskitur\" } ,\n",
    "633770: { \"form\" : \"praescīscimur\" , \"form_IPA\" : \"prajskiːskimur\" } ,\n",
    "633771: { \"form\" : \"praescīsciminī\" , \"form_IPA\" : \"prajskiːskiminiː\" } ,\n",
    "633772: { \"form\" : \"praescīscuntur\" , \"form_IPA\" : \"prajskiːskuntur\" } ,\n",
    "633773: { \"form\" : \"praescīscēbar\" , \"form_IPA\" : \"prajskiːskeːbar\" } ,\n",
    "633774: { \"form\" : \"praescīscēbāris\" , \"form_IPA\" : \"prajskiːskeːbaːris\" } ,\n",
    "633775: { \"form\" : \"praescīscēbātur\" , \"form_IPA\" : \"prajskiːskeːbaːtur\" } ,\n",
    "633776: { \"form\" : \"praescīscēbāmur\" , \"form_IPA\" : \"prajskiːskeːbaːmur\" } ,\n",
    "633777: { \"form\" : \"praescīscēbāminī\" , \"form_IPA\" : \"prajskiːskeːbaːminiː\" } ,\n",
    "633778: { \"form\" : \"praescīscēbantur\" , \"form_IPA\" : \"prajskiːskeːbantur\" } ,\n",
    "633779: { \"form\" : \"praescīscar\" , \"form_IPA\" : \"prajskiːskar\" } ,\n",
    "633780: { \"form\" : \"praescīscēris\" , \"form_IPA\" : \"prajskiːskeːris\" } ,\n",
    "633781: { \"form\" : \"praescīscētur\" , \"form_IPA\" : \"prajskiːskeːtur\" } ,\n",
    "633782: { \"form\" : \"praescīscēmur\" , \"form_IPA\" : \"prajskiːskeːmur\" } ,\n",
    "633783: { \"form\" : \"praescīscēminī\" , \"form_IPA\" : \"prajskiːskeːminiː\" } ,\n",
    "633784: { \"form\" : \"praescīscentur\" , \"form_IPA\" : \"prajskiːskentur\" } ,\n",
    "633785: { \"form\" : \"praescīscar\" , \"form_IPA\" : \"prajskiːskar\" } ,\n",
    "633786: { \"form\" : \"praescīscāris\" , \"form_IPA\" : \"prajskiːskaːris\" } ,\n",
    "633787: { \"form\" : \"praescīscātur\" , \"form_IPA\" : \"prajskiːskaːtur\" } ,\n",
    "633788: { \"form\" : \"praescīscāmur\" , \"form_IPA\" : \"prajskiːskaːmur\" } ,\n",
    "633789: { \"form\" : \"praescīscāminī\" , \"form_IPA\" : \"prajskiːskaːminiː\" } ,\n",
    "633790: { \"form\" : \"praescīscantur\" , \"form_IPA\" : \"prajskiːskantur\" } ,\n",
    "633791: { \"form\" : \"praescīscerer\" , \"form_IPA\" : \"prajskiːskerer\" } ,\n",
    "633792: { \"form\" : \"praescīscerēris\" , \"form_IPA\" : \"prajskiːskereːris\" } ,\n",
    "633793: { \"form\" : \"praescīscerētur\" , \"form_IPA\" : \"prajskiːskereːtur\" } ,\n",
    "633794: { \"form\" : \"praescīscerēmur\" , \"form_IPA\" : \"prajskiːskereːmur\" } ,\n",
    "633795: { \"form\" : \"praescīscerēminī\" , \"form_IPA\" : \"prajskiːskereːminiː\" } ,\n",
    "633796: { \"form\" : \"praescīscerentur\" , \"form_IPA\" : \"prajskiːskerentur\" } ,\n",
    "633797: { \"form\" : \"praescīscere\" , \"form_IPA\" : \"prajskiːskere\" } ,\n",
    "633798: { \"form\" : \"praescīsciminī\" , \"form_IPA\" : \"prajskiːskiminiː\" } ,\n",
    "633799: { \"form\" : \"praescīscitor\" , \"form_IPA\" : \"prajskiːskitor\" } ,\n",
    "633800: { \"form\" : \"praescīscitor\" , \"form_IPA\" : \"prajskiːskitor\" } ,\n",
    "633801: { \"form\" : \"praescīscuntor\" , \"form_IPA\" : \"prajskiːskuntor\" } ,\n",
    "633802: { \"form\" : \"praescīscī\" , \"form_IPA\" : \"prajskiːskiː\" } ,\n",
    "633803: { \"form\" : \"praescīscendī\" , \"form_IPA\" : \"prajskiːskendiː\" } ,\n",
    "633804: { \"form\" : \"praescīscendō\" , \"form_IPA\" : \"prajskiːskendoː\" } ,\n",
    "633805: { \"form\" : \"praescīscendum\" , \"form_IPA\" : \"prajskiːskendum\" } ,\n",
    "633806: { \"form\" : \"praescīscendō\" , \"form_IPA\" : \"prajskiːskendoː\" } ,\n",
    "633807: { \"form\" : \"praescīscendus\" , \"form_IPA\" : \"prajskiːskendus\" } ,\n",
    "633808: { \"form\" : \"praescīscenda\" , \"form_IPA\" : \"prajskiːskenda\" } ,\n",
    "633809: { \"form\" : \"praescīscendum\" , \"form_IPA\" : \"prajskiːskendum\" } ,\n",
    "633810: { \"form\" : \"praescīscendī\" , \"form_IPA\" : \"prajskiːskendiː\" } ,\n",
    "633811: { \"form\" : \"praescīscendae\" , \"form_IPA\" : \"prajskiːskendaj\" } ,\n",
    "633812: { \"form\" : \"praescīscendī\" , \"form_IPA\" : \"prajskiːskendiː\" } ,\n",
    "633813: { \"form\" : \"praescīscendō\" , \"form_IPA\" : \"prajskiːskendoː\" } ,\n",
    "633814: { \"form\" : \"praescīscendae\" , \"form_IPA\" : \"prajskiːskendaj\" } ,\n",
    "633815: { \"form\" : \"praescīscendō\" , \"form_IPA\" : \"prajskiːskendoː\" } ,\n",
    "633816: { \"form\" : \"praescīscendum\" , \"form_IPA\" : \"prajskiːskendum\" } ,\n",
    "633817: { \"form\" : \"praescīscendam\" , \"form_IPA\" : \"prajskiːskendam\" } ,\n",
    "633818: { \"form\" : \"praescīscendum\" , \"form_IPA\" : \"prajskiːskendum\" } ,\n",
    "633819: { \"form\" : \"praescīscende\" , \"form_IPA\" : \"prajskiːskende\" } ,\n",
    "633820: { \"form\" : \"praescīscenda\" , \"form_IPA\" : \"prajskiːskenda\" } ,\n",
    "633821: { \"form\" : \"praescīscendum\" , \"form_IPA\" : \"prajskiːskendum\" } ,\n",
    "633822: { \"form\" : \"praescīscendō\" , \"form_IPA\" : \"prajskiːskendoː\" } ,\n",
    "633823: { \"form\" : \"praescīscendā\" , \"form_IPA\" : \"prajskiːskendaː\" } ,\n",
    "633824: { \"form\" : \"praescīscendō\" , \"form_IPA\" : \"prajskiːskendoː\" } ,\n",
    "633825: { \"form\" : \"praescīscendī\" , \"form_IPA\" : \"prajskiːskendiː\" } ,\n",
    "633826: { \"form\" : \"praescīscendae\" , \"form_IPA\" : \"prajskiːskendaj\" } ,\n",
    "633827: { \"form\" : \"praescīscenda\" , \"form_IPA\" : \"prajskiːskenda\" } ,\n",
    "633828: { \"form\" : \"praescīscendōrum\" , \"form_IPA\" : \"prajskiːskendoːrum\" } ,\n",
    "633829: { \"form\" : \"praescīscendārum\" , \"form_IPA\" : \"prajskiːskendaːrum\" } ,\n",
    "633830: { \"form\" : \"praescīscendōrum\" , \"form_IPA\" : \"prajskiːskendoːrum\" } ,\n",
    "633831: { \"form\" : \"praescīscendīs\" , \"form_IPA\" : \"prajskiːskendiːs\" } ,\n",
    "633832: { \"form\" : \"praescīscendīs\" , \"form_IPA\" : \"prajskiːskendiːs\" } ,\n",
    "633833: { \"form\" : \"praescīscendīs\" , \"form_IPA\" : \"prajskiːskendiːs\" } ,\n",
    "633834: { \"form\" : \"praescīscendōs\" , \"form_IPA\" : \"prajskiːskendoːs\" } ,\n",
    "633835: { \"form\" : \"praescīscendās\" , \"form_IPA\" : \"prajskiːskendaːs\" } ,\n",
    "633836: { \"form\" : \"praescīscenda\" , \"form_IPA\" : \"prajskiːskenda\" } ,\n",
    "633837: { \"form\" : \"praescīscendī\" , \"form_IPA\" : \"prajskiːskendiː\" } ,\n",
    "633838: { \"form\" : \"praescīscendae\" , \"form_IPA\" : \"prajskiːskendaj\" } ,\n",
    "633839: { \"form\" : \"praescīscenda\" , \"form_IPA\" : \"prajskiːskenda\" } ,\n",
    "633840: { \"form\" : \"praescīscendīs\" , \"form_IPA\" : \"prajskiːskendiːs\" } ,\n",
    "633841: { \"form\" : \"praescīscendīs\" , \"form_IPA\" : \"prajskiːskendiːs\" } ,\n",
    "633842: { \"form\" : \"praescīscendīs\" , \"form_IPA\" : \"prajskiːskendiːs\" } ,\n",
    "633843: { \"form\" : \"praescīscēns\" , \"form_IPA\" : \"prajskiːskeːns\" } ,\n",
    "633844: { \"form\" : \"praescīscēns\" , \"form_IPA\" : \"prajskiːskeːns\" } ,\n",
    "633845: { \"form\" : \"praescīscēns\" , \"form_IPA\" : \"prajskiːskeːns\" } ,\n",
    "633846: { \"form\" : \"praescīscentis\" , \"form_IPA\" : \"prajskiːskentis\" } ,\n",
    "633847: { \"form\" : \"praescīscentis\" , \"form_IPA\" : \"prajskiːskentis\" } ,\n",
    "633848: { \"form\" : \"praescīscentis\" , \"form_IPA\" : \"prajskiːskentis\" } ,\n",
    "633849: { \"form\" : \"praescīscentī\" , \"form_IPA\" : \"prajskiːskentiː\" } ,\n",
    "633850: { \"form\" : \"praescīscentī\" , \"form_IPA\" : \"prajskiːskentiː\" } ,\n",
    "633851: { \"form\" : \"praescīscentī\" , \"form_IPA\" : \"prajskiːskentiː\" } ,\n",
    "633852: { \"form\" : \"praescīscentem\" , \"form_IPA\" : \"prajskiːskentem\" } ,\n",
    "633853: { \"form\" : \"praescīscentem\" , \"form_IPA\" : \"prajskiːskentem\" } ,\n",
    "633854: { \"form\" : \"praescīscēns\" , \"form_IPA\" : \"prajskiːskeːns\" } ,\n",
    "633855: { \"form\" : \"praescīscēns\" , \"form_IPA\" : \"prajskiːskeːns\" } ,\n",
    "633856: { \"form\" : \"praescīscēns\" , \"form_IPA\" : \"prajskiːskeːns\" } ,\n",
    "633857: { \"form\" : \"praescīscēns\" , \"form_IPA\" : \"prajskiːskeːns\" } ,\n",
    "633858: { \"form\" : \"praescīscente\" , \"form_IPA\" : \"prajskiːskente\" } ,\n",
    "633859: { \"form\" : \"praescīscente\" , \"form_IPA\" : \"prajskiːskente\" } ,\n",
    "633860: { \"form\" : \"praescīscente\" , \"form_IPA\" : \"prajskiːskente\" } ,\n",
    "633861: { \"form\" : \"praescīscentēs\" , \"form_IPA\" : \"prajskiːskenteːs\" } ,\n",
    "633862: { \"form\" : \"praescīscentēs\" , \"form_IPA\" : \"prajskiːskenteːs\" } ,\n",
    "633863: { \"form\" : \"praescīscentia\" , \"form_IPA\" : \"prajskiːskentia\" } ,\n",
    "633864: { \"form\" : \"praescīscentium\" , \"form_IPA\" : \"prajskiːskentium\" } ,\n",
    "633865: { \"form\" : \"praescīscentium\" , \"form_IPA\" : \"prajskiːskentium\" } ,\n",
    "633866: { \"form\" : \"praescīscentium\" , \"form_IPA\" : \"prajskiːskentium\" } ,\n",
    "633867: { \"form\" : \"praescīscentibus\" , \"form_IPA\" : \"prajskiːskentibus\" } ,\n",
    "633868: { \"form\" : \"praescīscentibus\" , \"form_IPA\" : \"prajskiːskentibus\" } ,\n",
    "633869: { \"form\" : \"praescīscentibus\" , \"form_IPA\" : \"prajskiːskentibus\" } ,\n",
    "633870: { \"form\" : \"praescīscentēs\" , \"form_IPA\" : \"prajskiːskenteːs\" } ,\n",
    "633871: { \"form\" : \"praescīscentēs\" , \"form_IPA\" : \"prajskiːskenteːs\" } ,\n",
    "633872: { \"form\" : \"praescīscentia\" , \"form_IPA\" : \"prajskiːskentia\" } ,\n",
    "633873: { \"form\" : \"praescīscentēs\" , \"form_IPA\" : \"prajskiːskenteːs\" } ,\n",
    "633874: { \"form\" : \"praescīscentēs\" , \"form_IPA\" : \"prajskiːskenteːs\" } ,\n",
    "633875: { \"form\" : \"praescīscentia\" , \"form_IPA\" : \"prajskiːskentia\" } ,\n",
    "633876: { \"form\" : \"praescīscentibus\" , \"form_IPA\" : \"prajskiːskentibus\" } ,\n",
    "633877: { \"form\" : \"praescīscentibus\" , \"form_IPA\" : \"prajskiːskentibus\" } ,\n",
    "633878: { \"form\" : \"praescīscentibus\" , \"form_IPA\" : \"prajskiːskentibus\" } ,\n",
    "# \"i\" in prs.act.ind.2/3sg of lexeme \"aio\" is vowel, not glide (cf. Bennett grammar, §135)\n",
    "41149: { \"form_IPA\" : \"aiːs\" } ,\n",
    "41150: { \"form_IPA\" : \"ait\" }\n",
    "}"
   ]
  },
  {
   "cell_type": "code",
   "execution_count": 159,
   "id": "8e2c8f52-33e9-49fb-a683-9b9cdff676fc",
   "metadata": {},
   "outputs": [],
   "source": [
    "for row in changes:\n",
    "    #print(row)\n",
    "    for column in changes[row]:\n",
    "        #print(column)\n",
    "        #print(changes[row][column])\n",
    "        LatInfLexi_verbs.loc[row,column] = changes[row][column]"
   ]
  },
  {
   "cell_type": "markdown",
   "id": "e22f228abea29755",
   "metadata": {
    "collapsed": false,
    "jupyter": {
     "outputs_hidden": false
    }
   },
   "source": [
    "# Combining forms tables"
   ]
  },
  {
   "cell_type": "markdown",
   "id": "d3221180c97d6912",
   "metadata": {
    "collapsed": false,
    "jupyter": {
     "outputs_hidden": false
    }
   },
   "source": [
    "Adding POS"
   ]
  },
  {
   "cell_type": "code",
   "execution_count": 160,
   "id": "10d820ea",
   "metadata": {
    "ExecuteTime": {
     "end_time": "2023-11-21T13:00:57.971809516Z",
     "start_time": "2023-11-21T13:00:57.949544775Z"
    }
   },
   "outputs": [],
   "source": [
    "LatInfLexi_verbs[\"POS\"] = \"verb\"\n",
    "LatInfLexi_nouns[\"POS\"] = \"noun\""
   ]
  },
  {
   "cell_type": "markdown",
   "id": "40bb8cc2f2095405",
   "metadata": {
    "collapsed": false,
    "jupyter": {
     "outputs_hidden": false
    }
   },
   "source": [
    "Generating form_id"
   ]
  },
  {
   "cell_type": "code",
   "execution_count": 161,
   "id": "1a75d1017c405c42",
   "metadata": {
    "ExecuteTime": {
     "end_time": "2023-11-21T13:00:58.124742878Z",
     "start_time": "2023-11-21T13:00:57.957949501Z"
    },
    "collapsed": false,
    "jupyter": {
     "outputs_hidden": false
    }
   },
   "outputs": [],
   "source": [
    "def add_form_id(df, suffix=\"\"):\n",
    "    df.index.name = \"form_id\"\n",
    "    df.reset_index(inplace=True)\n",
    "    df[\"form_id\"] = \"form_\" + df[\"form_id\"].apply(str) + suffix\n",
    "\n",
    "add_form_id(LatInfLexi_verbs, \"_v\")\n",
    "add_form_id(LatInfLexi_nouns, \"_n\")"
   ]
  },
  {
   "cell_type": "markdown",
   "id": "b6c3e4cdd55bee24",
   "metadata": {
    "collapsed": false,
    "jupyter": {
     "outputs_hidden": false
    }
   },
   "source": [
    "Concatenating forms tables:"
   ]
  },
  {
   "cell_type": "code",
   "execution_count": 162,
   "id": "19af8e84219aa94b",
   "metadata": {
    "ExecuteTime": {
     "end_time": "2023-11-21T13:00:58.201850861Z",
     "start_time": "2023-11-21T13:00:58.124578719Z"
    },
    "collapsed": false,
    "jupyter": {
     "outputs_hidden": false
    }
   },
   "outputs": [],
   "source": [
    "LatInfLexi_forms = pd.concat([LatInfLexi_verbs, LatInfLexi_nouns])"
   ]
  },
  {
   "cell_type": "markdown",
   "id": "cc3f84079a4187d",
   "metadata": {
    "collapsed": false,
    "jupyter": {
     "outputs_hidden": false
    }
   },
   "source": [
    "# Converting forms to Paralex format"
   ]
  },
  {
   "cell_type": "markdown",
   "id": "8b4b27e741d8ff6",
   "metadata": {
    "collapsed": false,
    "jupyter": {
     "outputs_hidden": false
    }
   },
   "source": [
    "Obtaining columns in Paralex format:"
   ]
  },
  {
   "cell_type": "code",
   "execution_count": 163,
   "id": "73d9fe66",
   "metadata": {
    "ExecuteTime": {
     "end_time": "2023-11-21T13:00:58.207228624Z",
     "start_time": "2023-11-21T13:00:58.189356148Z"
    }
   },
   "outputs": [],
   "source": [
    "col_map = {\"form\": \"orth_form\", \"form_IPA\": \"phon_form\", \"PoSTag:features\": \"cell\",\n",
    "           \"freqTFTL\":\"frequency\",\n",
    "           \"freqAntiquitas\":\"frequency_Antiquitas\" ,\n",
    "           \"freqAetasPatrum\":\"frequency_AetasPatrum\",\n",
    "            \"freqMediumAeuum\":\"frequency_MediumAeuum\",\n",
    "            \"freqRecentiorLatinitas\":\"frequency_RecentiorLatinitas\"\n",
    "           }\n",
    "LatInfLexi_forms.rename(col_map, axis=1, inplace=True)"
   ]
  },
  {
   "cell_type": "markdown",
   "id": "eb75402379a88c4a",
   "metadata": {
    "collapsed": false,
    "jupyter": {
     "outputs_hidden": false
    }
   },
   "source": [
    "Mapping cells to new scheme:"
   ]
  },
  {
   "cell_type": "code",
   "execution_count": 164,
   "id": "5e1f7c0173511219",
   "metadata": {
    "ExecuteTime": {
     "end_time": "2023-11-21T13:00:58.258968619Z",
     "start_time": "2023-11-21T13:00:58.195513272Z"
    },
    "collapsed": false,
    "jupyter": {
     "outputs_hidden": false
    }
   },
   "outputs": [],
   "source": [
    "LatInfLexi_cells_mapper = LatInfLexi_cells.set_index(\"LatInFlexi-cell\").cell_id.to_dict()\n",
    "LatInfLexi_forms.loc[:,\"cell\"] = LatInfLexi_forms.cell.map(LatInfLexi_cells_mapper)"
   ]
  },
  {
   "cell_type": "code",
   "execution_count": 165,
   "id": "8385f70c72669fad",
   "metadata": {
    "ExecuteTime": {
     "end_time": "2023-11-21T13:00:58.276812826Z",
     "start_time": "2023-11-21T13:00:58.233922805Z"
    },
    "collapsed": false,
    "jupyter": {
     "outputs_hidden": false
    }
   },
   "outputs": [
    {
     "data": {
      "text/html": [
       "<div>\n",
       "<style scoped>\n",
       "    .dataframe tbody tr th:only-of-type {\n",
       "        vertical-align: middle;\n",
       "    }\n",
       "\n",
       "    .dataframe tbody tr th {\n",
       "        vertical-align: top;\n",
       "    }\n",
       "\n",
       "    .dataframe thead th {\n",
       "        text-align: right;\n",
       "    }\n",
       "</style>\n",
       "<table border=\"1\" class=\"dataframe\">\n",
       "  <thead>\n",
       "    <tr style=\"text-align: right;\">\n",
       "      <th></th>\n",
       "      <th>form_id</th>\n",
       "      <th>lexeme</th>\n",
       "      <th>cell</th>\n",
       "      <th>orth_form</th>\n",
       "      <th>phon_form</th>\n",
       "      <th>frequency</th>\n",
       "      <th>frequency_Antiquitas</th>\n",
       "      <th>frequency_AetasPatrum</th>\n",
       "      <th>frequency_MediumAeuum</th>\n",
       "      <th>frequency_RecentiorLatinitas</th>\n",
       "      <th>POS</th>\n",
       "    </tr>\n",
       "  </thead>\n",
       "  <tbody>\n",
       "    <tr>\n",
       "      <th>544518</th>\n",
       "      <td>form_544518_v</td>\n",
       "      <td>obuersor/-o</td>\n",
       "      <td>prf.pass.ptcp.voc.n.sg</td>\n",
       "      <td>obuersātum</td>\n",
       "      <td>obwersaːtum</td>\n",
       "      <td>3</td>\n",
       "      <td>1</td>\n",
       "      <td>0</td>\n",
       "      <td>1</td>\n",
       "      <td>1</td>\n",
       "      <td>verb</td>\n",
       "    </tr>\n",
       "    <tr>\n",
       "      <th>164603</th>\n",
       "      <td>form_164603_v</td>\n",
       "      <td>conspiro</td>\n",
       "      <td>iprf.act.ind.3.pl</td>\n",
       "      <td>cōnspīrābant</td>\n",
       "      <td>koːnspiːraːbant</td>\n",
       "      <td>4</td>\n",
       "      <td>0</td>\n",
       "      <td>2</td>\n",
       "      <td>2</td>\n",
       "      <td>0</td>\n",
       "      <td>verb</td>\n",
       "    </tr>\n",
       "    <tr>\n",
       "      <th>21837</th>\n",
       "      <td>form_21837_v</td>\n",
       "      <td>adiungo</td>\n",
       "      <td>fut.act.ptcp.acc.n.pl</td>\n",
       "      <td>adiūnctūra</td>\n",
       "      <td>adjuːnktuːra</td>\n",
       "      <td>0</td>\n",
       "      <td>0</td>\n",
       "      <td>0</td>\n",
       "      <td>0</td>\n",
       "      <td>0</td>\n",
       "      <td>verb</td>\n",
       "    </tr>\n",
       "    <tr>\n",
       "      <th>148862</th>\n",
       "      <td>form_148862_v</td>\n",
       "      <td>confero</td>\n",
       "      <td>prs.act.sbjv.1.sg</td>\n",
       "      <td>cōnferam</td>\n",
       "      <td>koːnferam</td>\n",
       "      <td>90</td>\n",
       "      <td>46</td>\n",
       "      <td>21</td>\n",
       "      <td>19</td>\n",
       "      <td>4</td>\n",
       "      <td>verb</td>\n",
       "    </tr>\n",
       "    <tr>\n",
       "      <th>69937</th>\n",
       "      <td>form_69937_v</td>\n",
       "      <td>assequor</td>\n",
       "      <td>gdv.acc.f.sg</td>\n",
       "      <td>assequendam</td>\n",
       "      <td>assekwendam</td>\n",
       "      <td>21</td>\n",
       "      <td>0</td>\n",
       "      <td>0</td>\n",
       "      <td>7</td>\n",
       "      <td>14</td>\n",
       "      <td>verb</td>\n",
       "    </tr>\n",
       "  </tbody>\n",
       "</table>\n",
       "</div>"
      ],
      "text/plain": [
       "              form_id       lexeme                    cell     orth_form  \\\n",
       "544518  form_544518_v  obuersor/-o  prf.pass.ptcp.voc.n.sg    obuersātum   \n",
       "164603  form_164603_v     conspiro       iprf.act.ind.3.pl  cōnspīrābant   \n",
       "21837    form_21837_v      adiungo   fut.act.ptcp.acc.n.pl    adiūnctūra   \n",
       "148862  form_148862_v      confero       prs.act.sbjv.1.sg      cōnferam   \n",
       "69937    form_69937_v     assequor            gdv.acc.f.sg   assequendam   \n",
       "\n",
       "              phon_form  frequency  frequency_Antiquitas  \\\n",
       "544518      obwersaːtum          3                     1   \n",
       "164603  koːnspiːraːbant          4                     0   \n",
       "21837      adjuːnktuːra          0                     0   \n",
       "148862        koːnferam         90                    46   \n",
       "69937       assekwendam         21                     0   \n",
       "\n",
       "        frequency_AetasPatrum  frequency_MediumAeuum  \\\n",
       "544518                      0                      1   \n",
       "164603                      2                      2   \n",
       "21837                       0                      0   \n",
       "148862                     21                     19   \n",
       "69937                       0                      7   \n",
       "\n",
       "        frequency_RecentiorLatinitas   POS  \n",
       "544518                             1  verb  \n",
       "164603                             0  verb  \n",
       "21837                              0  verb  \n",
       "148862                             4  verb  \n",
       "69937                             14  verb  "
      ]
     },
     "execution_count": 165,
     "metadata": {},
     "output_type": "execute_result"
    }
   ],
   "source": [
    "LatInfLexi_forms.sample(5)"
   ]
  },
  {
   "cell_type": "markdown",
   "id": "fcd4b3795e3a761",
   "metadata": {
    "collapsed": false,
    "jupyter": {
     "outputs_hidden": false
    }
   },
   "source": [
    "Setting form_id as index"
   ]
  },
  {
   "cell_type": "code",
   "execution_count": 166,
   "id": "169f36eee87e7e85",
   "metadata": {
    "ExecuteTime": {
     "end_time": "2023-11-21T13:00:58.421537348Z",
     "start_time": "2023-11-21T13:00:58.276071229Z"
    }
   },
   "outputs": [],
   "source": [
    "LatInfLexi_forms = LatInfLexi_forms.set_index(\"form_id\")"
   ]
  },
  {
   "cell_type": "code",
   "execution_count": 167,
   "id": "5b00c561095c1be6",
   "metadata": {
    "ExecuteTime": {
     "end_time": "2023-11-21T13:00:58.453597203Z",
     "start_time": "2023-11-21T13:00:58.402685989Z"
    },
    "collapsed": false,
    "jupyter": {
     "outputs_hidden": false
    }
   },
   "outputs": [
    {
     "data": {
      "text/html": [
       "<div>\n",
       "<style scoped>\n",
       "    .dataframe tbody tr th:only-of-type {\n",
       "        vertical-align: middle;\n",
       "    }\n",
       "\n",
       "    .dataframe tbody tr th {\n",
       "        vertical-align: top;\n",
       "    }\n",
       "\n",
       "    .dataframe thead th {\n",
       "        text-align: right;\n",
       "    }\n",
       "</style>\n",
       "<table border=\"1\" class=\"dataframe\">\n",
       "  <thead>\n",
       "    <tr style=\"text-align: right;\">\n",
       "      <th></th>\n",
       "      <th>lexeme</th>\n",
       "      <th>cell</th>\n",
       "      <th>orth_form</th>\n",
       "      <th>phon_form</th>\n",
       "      <th>frequency</th>\n",
       "      <th>frequency_Antiquitas</th>\n",
       "      <th>frequency_AetasPatrum</th>\n",
       "      <th>frequency_MediumAeuum</th>\n",
       "      <th>frequency_RecentiorLatinitas</th>\n",
       "      <th>POS</th>\n",
       "    </tr>\n",
       "    <tr>\n",
       "      <th>form_id</th>\n",
       "      <th></th>\n",
       "      <th></th>\n",
       "      <th></th>\n",
       "      <th></th>\n",
       "      <th></th>\n",
       "      <th></th>\n",
       "      <th></th>\n",
       "      <th></th>\n",
       "      <th></th>\n",
       "      <th></th>\n",
       "    </tr>\n",
       "  </thead>\n",
       "  <tbody>\n",
       "    <tr>\n",
       "      <th>form_0_v</th>\n",
       "      <td>abalieno</td>\n",
       "      <td>prs.act.ind.1.sg</td>\n",
       "      <td>abaliēnō</td>\n",
       "      <td>abalieːnoː</td>\n",
       "      <td>0</td>\n",
       "      <td>0</td>\n",
       "      <td>0</td>\n",
       "      <td>0</td>\n",
       "      <td>0</td>\n",
       "      <td>verb</td>\n",
       "    </tr>\n",
       "    <tr>\n",
       "      <th>form_1_v</th>\n",
       "      <td>abalieno</td>\n",
       "      <td>prs.act.ind.2.sg</td>\n",
       "      <td>abaliēnās</td>\n",
       "      <td>abalieːnaːs</td>\n",
       "      <td>0</td>\n",
       "      <td>0</td>\n",
       "      <td>0</td>\n",
       "      <td>0</td>\n",
       "      <td>0</td>\n",
       "      <td>verb</td>\n",
       "    </tr>\n",
       "    <tr>\n",
       "      <th>form_2_v</th>\n",
       "      <td>abalieno</td>\n",
       "      <td>prs.act.ind.3.sg</td>\n",
       "      <td>abaliēnat</td>\n",
       "      <td>abalieːnat</td>\n",
       "      <td>5</td>\n",
       "      <td>2</td>\n",
       "      <td>2</td>\n",
       "      <td>1</td>\n",
       "      <td>0</td>\n",
       "      <td>verb</td>\n",
       "    </tr>\n",
       "    <tr>\n",
       "      <th>form_3_v</th>\n",
       "      <td>abalieno</td>\n",
       "      <td>prs.act.ind.1.pl</td>\n",
       "      <td>abaliēnāmus</td>\n",
       "      <td>abalieːnaːmus</td>\n",
       "      <td>0</td>\n",
       "      <td>0</td>\n",
       "      <td>0</td>\n",
       "      <td>0</td>\n",
       "      <td>0</td>\n",
       "      <td>verb</td>\n",
       "    </tr>\n",
       "    <tr>\n",
       "      <th>form_4_v</th>\n",
       "      <td>abalieno</td>\n",
       "      <td>prs.act.ind.2.pl</td>\n",
       "      <td>abaliēnātis</td>\n",
       "      <td>abalieːnaːtis</td>\n",
       "      <td>2</td>\n",
       "      <td>1</td>\n",
       "      <td>1</td>\n",
       "      <td>0</td>\n",
       "      <td>0</td>\n",
       "      <td>verb</td>\n",
       "    </tr>\n",
       "    <tr>\n",
       "      <th>...</th>\n",
       "      <td>...</td>\n",
       "      <td>...</td>\n",
       "      <td>...</td>\n",
       "      <td>...</td>\n",
       "      <td>...</td>\n",
       "      <td>...</td>\n",
       "      <td>...</td>\n",
       "      <td>...</td>\n",
       "      <td>...</td>\n",
       "      <td>...</td>\n",
       "    </tr>\n",
       "    <tr>\n",
       "      <th>form_12451_n</th>\n",
       "      <td>uxor</td>\n",
       "      <td>gen.pl</td>\n",
       "      <td>uxōrum</td>\n",
       "      <td>uksoːrum</td>\n",
       "      <td>265</td>\n",
       "      <td>15</td>\n",
       "      <td>124</td>\n",
       "      <td>122</td>\n",
       "      <td>4</td>\n",
       "      <td>noun</td>\n",
       "    </tr>\n",
       "    <tr>\n",
       "      <th>form_12452_n</th>\n",
       "      <td>uxor</td>\n",
       "      <td>dat.pl</td>\n",
       "      <td>uxōribus</td>\n",
       "      <td>uksoːribus</td>\n",
       "      <td>725</td>\n",
       "      <td>30</td>\n",
       "      <td>317</td>\n",
       "      <td>373</td>\n",
       "      <td>5</td>\n",
       "      <td>noun</td>\n",
       "    </tr>\n",
       "    <tr>\n",
       "      <th>form_12453_n</th>\n",
       "      <td>uxor</td>\n",
       "      <td>acc.pl</td>\n",
       "      <td>uxōrēs</td>\n",
       "      <td>uksoːreːs</td>\n",
       "      <td>2073</td>\n",
       "      <td>90</td>\n",
       "      <td>1064</td>\n",
       "      <td>903</td>\n",
       "      <td>16</td>\n",
       "      <td>noun</td>\n",
       "    </tr>\n",
       "    <tr>\n",
       "      <th>form_12454_n</th>\n",
       "      <td>uxor</td>\n",
       "      <td>voc.pl</td>\n",
       "      <td>uxōrēs</td>\n",
       "      <td>uksoːreːs</td>\n",
       "      <td>2073</td>\n",
       "      <td>90</td>\n",
       "      <td>1064</td>\n",
       "      <td>903</td>\n",
       "      <td>16</td>\n",
       "      <td>noun</td>\n",
       "    </tr>\n",
       "    <tr>\n",
       "      <th>form_12455_n</th>\n",
       "      <td>uxor</td>\n",
       "      <td>abl.pl</td>\n",
       "      <td>uxōribus</td>\n",
       "      <td>uksoːribus</td>\n",
       "      <td>725</td>\n",
       "      <td>30</td>\n",
       "      <td>317</td>\n",
       "      <td>373</td>\n",
       "      <td>5</td>\n",
       "      <td>noun</td>\n",
       "    </tr>\n",
       "  </tbody>\n",
       "</table>\n",
       "<p>862848 rows × 10 columns</p>\n",
       "</div>"
      ],
      "text/plain": [
       "                lexeme              cell    orth_form      phon_form  \\\n",
       "form_id                                                                \n",
       "form_0_v      abalieno  prs.act.ind.1.sg     abaliēnō     abalieːnoː   \n",
       "form_1_v      abalieno  prs.act.ind.2.sg    abaliēnās    abalieːnaːs   \n",
       "form_2_v      abalieno  prs.act.ind.3.sg    abaliēnat     abalieːnat   \n",
       "form_3_v      abalieno  prs.act.ind.1.pl  abaliēnāmus  abalieːnaːmus   \n",
       "form_4_v      abalieno  prs.act.ind.2.pl  abaliēnātis  abalieːnaːtis   \n",
       "...                ...               ...          ...            ...   \n",
       "form_12451_n      uxor            gen.pl       uxōrum       uksoːrum   \n",
       "form_12452_n      uxor            dat.pl     uxōribus     uksoːribus   \n",
       "form_12453_n      uxor            acc.pl       uxōrēs      uksoːreːs   \n",
       "form_12454_n      uxor            voc.pl       uxōrēs      uksoːreːs   \n",
       "form_12455_n      uxor            abl.pl     uxōribus     uksoːribus   \n",
       "\n",
       "              frequency  frequency_Antiquitas  frequency_AetasPatrum  \\\n",
       "form_id                                                                \n",
       "form_0_v              0                     0                      0   \n",
       "form_1_v              0                     0                      0   \n",
       "form_2_v              5                     2                      2   \n",
       "form_3_v              0                     0                      0   \n",
       "form_4_v              2                     1                      1   \n",
       "...                 ...                   ...                    ...   \n",
       "form_12451_n        265                    15                    124   \n",
       "form_12452_n        725                    30                    317   \n",
       "form_12453_n       2073                    90                   1064   \n",
       "form_12454_n       2073                    90                   1064   \n",
       "form_12455_n        725                    30                    317   \n",
       "\n",
       "              frequency_MediumAeuum  frequency_RecentiorLatinitas   POS  \n",
       "form_id                                                                  \n",
       "form_0_v                          0                             0  verb  \n",
       "form_1_v                          0                             0  verb  \n",
       "form_2_v                          1                             0  verb  \n",
       "form_3_v                          0                             0  verb  \n",
       "form_4_v                          0                             0  verb  \n",
       "...                             ...                           ...   ...  \n",
       "form_12451_n                    122                             4  noun  \n",
       "form_12452_n                    373                             5  noun  \n",
       "form_12453_n                    903                            16  noun  \n",
       "form_12454_n                    903                            16  noun  \n",
       "form_12455_n                    373                             5  noun  \n",
       "\n",
       "[862848 rows x 10 columns]"
      ]
     },
     "execution_count": 167,
     "metadata": {},
     "output_type": "execute_result"
    }
   ],
   "source": [
    "LatInfLexi_forms"
   ]
  },
  {
   "cell_type": "markdown",
   "id": "e45f928a882fe366",
   "metadata": {
    "collapsed": false,
    "jupyter": {
     "outputs_hidden": false
    }
   },
   "source": [
    "Adding stress"
   ]
  },
  {
   "cell_type": "code",
   "execution_count": 168,
   "id": "a1347d8fd04d2543",
   "metadata": {
    "ExecuteTime": {
     "end_time": "2023-11-21T13:01:02.498239734Z",
     "start_time": "2023-11-21T13:00:58.443958281Z"
    },
    "collapsed": false,
    "jupyter": {
     "outputs_hidden": false
    }
   },
   "outputs": [],
   "source": [
    "C = r\"b|d|ɡ|m|n|l|r|z|p|pʰ|f|t|tʰ|s|k|kʰ|h\"\n",
    "V = r\"waj|[jw][aeiouy]ː|[aeiouy]ː?|[jw][aeiouy]|[aeiouy][jw]\"\n",
    "segmenter = f\"(?:{C}|({V}))*?\"\n",
    "\n",
    "\n",
    "def search_vowels(word):\n",
    "    segmented = regex.fullmatch(segmenter, word)\n",
    "    return segmented.spans(1)\n",
    "\n",
    "def find_latin_stress(word):\n",
    "\n",
    "    if word == \"#DEF#\":\n",
    "        return word\n",
    "\n",
    "    def stress(idxs):\n",
    "        i = idxs[0]\n",
    "        if word[i] in 'wj':\n",
    "            i += 1\n",
    "        return word[:i] + \"ˈ\" + word[i:]\n",
    "\n",
    "    indexes = search_vowels(word)\n",
    "\n",
    "    # 2 syllables or less => stress first syllable\n",
    "    if len(indexes) <= 2:\n",
    "        return stress(indexes[0])\n",
    "\n",
    "    *_, antepenult, penult, ultimate = indexes\n",
    "\n",
    "    # If the penult has a long vowel it is stressed\n",
    "    if word[slice(*penult)][-1] in {\"ː\", \"j\", \"w\"}:\n",
    "        return stress(penult)\n",
    "\n",
    "    # Single C after the penult => short penult => stress antepenult\n",
    "    if (ultimate[0] - penult[1]) < 2:\n",
    "        return stress(antepenult)\n",
    "\n",
    "    # For the rest, it depends on the consonant sequence\n",
    "    c_seq = word[penult[1]:ultimate[0]]\n",
    "    cl = re.compile(\"^[bdɡpctd]ʰ?[rl]$\")\n",
    "\n",
    "    # C seq is a liquid cluster => short penult => stress antepenult\n",
    "    if cl.match(c_seq):\n",
    "        return stress(antepenult)\n",
    "\n",
    "    # other C sequence => long penult => stress penult\n",
    "    return stress(penult)\n",
    "\n",
    "\n",
    "LatInfLexi_forms.loc[:, \"phon_form\"] = LatInfLexi_forms[\"phon_form\"].apply(find_latin_stress)"
   ]
  },
  {
   "cell_type": "markdown",
   "id": "e38f366aa4d7ba3e",
   "metadata": {
    "collapsed": false,
    "jupyter": {
     "outputs_hidden": false
    }
   },
   "source": [
    "Separating sounds with spaces"
   ]
  },
  {
   "cell_type": "code",
   "execution_count": 169,
   "id": "4f0c826681ed2758",
   "metadata": {
    "ExecuteTime": {
     "end_time": "2023-11-21T13:01:05.076581395Z",
     "start_time": "2023-11-21T13:01:02.482146700Z"
    },
    "collapsed": false,
    "jupyter": {
     "outputs_hidden": false
    }
   },
   "outputs": [],
   "source": [
    "def splitter(series, split_pattern):\n",
    "    series = series.str.split(pat=split_pattern, regex=True)\n",
    "    return series.apply(lambda x: \" \".join([char for char in x if char]))\n",
    "\n",
    "sounds = ['b', 'd', 'ɡ', 'm', 'n', 'l', 'r', 'z', 'p', 'pʰ', 'f', 't', 'tʰ', 's', 'k', 'kʰ', 'h', 'j', 'w', 'a', 'aː', 'e', 'eː', 'i', 'iː', 'o', 'oː', 'u', 'uː', 'ˈa', 'ˈaː', 'ˈe', 'ˈeː', 'ˈi', 'ˈiː', 'ˈo', 'ˈoː', 'ˈu', 'ˈuː', 'ˈy', 'ˈyː']\n",
    "split_pattern = \"(\" + \"|\".join(sorted(sounds, key=len, reverse=True)) + \")\"\n",
    "LatInfLexi_forms[\"phon_form\"] = splitter(LatInfLexi_forms[\"phon_form\"], split_pattern)"
   ]
  },
  {
   "cell_type": "markdown",
   "id": "bd06721f2f1b9648",
   "metadata": {
    "collapsed": false,
    "jupyter": {
     "outputs_hidden": false
    }
   },
   "source": [
    "# Adjusting the transcription"
   ]
  },
  {
   "cell_type": "code",
   "execution_count": 170,
   "id": "9cf1ca089764139a",
   "metadata": {
    "ExecuteTime": {
     "end_time": "2023-11-21T13:01:05.085900582Z",
     "start_time": "2023-11-21T13:01:05.076921200Z"
    },
    "collapsed": false,
    "jupyter": {
     "outputs_hidden": false
    }
   },
   "outputs": [],
   "source": [
    "# Adding frequencies to the cells"
   ]
  },
  {
   "cell_type": "code",
   "execution_count": 171,
   "id": "e99c21980bc47764",
   "metadata": {
    "ExecuteTime": {
     "end_time": "2023-11-21T13:01:05.132604231Z",
     "start_time": "2023-11-21T13:01:05.079288975Z"
    },
    "collapsed": false,
    "jupyter": {
     "outputs_hidden": false
    }
   },
   "outputs": [
    {
     "name": "stderr",
     "output_type": "stream",
     "text": [
      "C:\\Users\\matteo.pellegrini\\AppData\\Local\\Temp\\ipykernel_21396\\418782974.py:5: FutureWarning: The provided callable <built-in function sum> is currently using DataFrameGroupBy.sum. In a future version of pandas, the provided callable will be used directly. To keep current behavior pass the string \"sum\" instead.\n",
      "  \"frequency_RecentiorLatinitas\"]].agg(sum)\n"
     ]
    }
   ],
   "source": [
    "cells_freq = LatInfLexi_forms.groupby(\"cell\")[[\"frequency\", \n",
    "                                              \"frequency_Antiquitas\",\n",
    "                                              \"frequency_AetasPatrum\",\n",
    "                                              \"frequency_MediumAeuum\",\n",
    "                                              \"frequency_RecentiorLatinitas\"]].agg(sum)\n",
    "cells_freq.index.name = \"cell_id\""
   ]
  },
  {
   "cell_type": "code",
   "execution_count": 172,
   "id": "24ba7b8138dde3b3",
   "metadata": {
    "ExecuteTime": {
     "end_time": "2023-11-21T13:01:05.133589871Z",
     "start_time": "2023-11-21T13:01:05.121449584Z"
    },
    "collapsed": false,
    "jupyter": {
     "outputs_hidden": false
    }
   },
   "outputs": [
    {
     "data": {
      "text/html": [
       "<div>\n",
       "<style scoped>\n",
       "    .dataframe tbody tr th:only-of-type {\n",
       "        vertical-align: middle;\n",
       "    }\n",
       "\n",
       "    .dataframe tbody tr th {\n",
       "        vertical-align: top;\n",
       "    }\n",
       "\n",
       "    .dataframe thead th {\n",
       "        text-align: right;\n",
       "    }\n",
       "</style>\n",
       "<table border=\"1\" class=\"dataframe\">\n",
       "  <thead>\n",
       "    <tr style=\"text-align: right;\">\n",
       "      <th></th>\n",
       "      <th>frequency</th>\n",
       "      <th>frequency_Antiquitas</th>\n",
       "      <th>frequency_AetasPatrum</th>\n",
       "      <th>frequency_MediumAeuum</th>\n",
       "      <th>frequency_RecentiorLatinitas</th>\n",
       "    </tr>\n",
       "    <tr>\n",
       "      <th>cell_id</th>\n",
       "      <th></th>\n",
       "      <th></th>\n",
       "      <th></th>\n",
       "      <th></th>\n",
       "      <th></th>\n",
       "    </tr>\n",
       "  </thead>\n",
       "  <tbody>\n",
       "    <tr>\n",
       "      <th>abl.pl</th>\n",
       "      <td>835283</td>\n",
       "      <td>115180</td>\n",
       "      <td>310927</td>\n",
       "      <td>382000</td>\n",
       "      <td>27176</td>\n",
       "    </tr>\n",
       "    <tr>\n",
       "      <th>abl.sg</th>\n",
       "      <td>2816933</td>\n",
       "      <td>297275</td>\n",
       "      <td>962861</td>\n",
       "      <td>1463839</td>\n",
       "      <td>92958</td>\n",
       "    </tr>\n",
       "    <tr>\n",
       "      <th>acc.pl</th>\n",
       "      <td>1565479</td>\n",
       "      <td>216650</td>\n",
       "      <td>557840</td>\n",
       "      <td>734860</td>\n",
       "      <td>56129</td>\n",
       "    </tr>\n",
       "    <tr>\n",
       "      <th>acc.sg</th>\n",
       "      <td>2663992</td>\n",
       "      <td>246582</td>\n",
       "      <td>945900</td>\n",
       "      <td>1391128</td>\n",
       "      <td>80382</td>\n",
       "    </tr>\n",
       "    <tr>\n",
       "      <th>dat.pl</th>\n",
       "      <td>835283</td>\n",
       "      <td>115180</td>\n",
       "      <td>310927</td>\n",
       "      <td>382000</td>\n",
       "      <td>27176</td>\n",
       "    </tr>\n",
       "    <tr>\n",
       "      <th>...</th>\n",
       "      <td>...</td>\n",
       "      <td>...</td>\n",
       "      <td>...</td>\n",
       "      <td>...</td>\n",
       "      <td>...</td>\n",
       "    </tr>\n",
       "    <tr>\n",
       "      <th>prs.pass.sbjv.3.sg</th>\n",
       "      <td>168334</td>\n",
       "      <td>9945</td>\n",
       "      <td>66246</td>\n",
       "      <td>83631</td>\n",
       "      <td>8512</td>\n",
       "    </tr>\n",
       "    <tr>\n",
       "      <th>sup.abl</th>\n",
       "      <td>156341</td>\n",
       "      <td>17168</td>\n",
       "      <td>41767</td>\n",
       "      <td>88748</td>\n",
       "      <td>8658</td>\n",
       "    </tr>\n",
       "    <tr>\n",
       "      <th>sup.acc</th>\n",
       "      <td>591907</td>\n",
       "      <td>50305</td>\n",
       "      <td>198546</td>\n",
       "      <td>323267</td>\n",
       "      <td>19789</td>\n",
       "    </tr>\n",
       "    <tr>\n",
       "      <th>voc.pl</th>\n",
       "      <td>2113371</td>\n",
       "      <td>236521</td>\n",
       "      <td>758001</td>\n",
       "      <td>1044528</td>\n",
       "      <td>74321</td>\n",
       "    </tr>\n",
       "    <tr>\n",
       "      <th>voc.sg</th>\n",
       "      <td>3102649</td>\n",
       "      <td>290411</td>\n",
       "      <td>1028722</td>\n",
       "      <td>1687352</td>\n",
       "      <td>96164</td>\n",
       "    </tr>\n",
       "  </tbody>\n",
       "</table>\n",
       "<p>266 rows × 5 columns</p>\n",
       "</div>"
      ],
      "text/plain": [
       "                    frequency  frequency_Antiquitas  frequency_AetasPatrum  \\\n",
       "cell_id                                                                      \n",
       "abl.pl                 835283                115180                 310927   \n",
       "abl.sg                2816933                297275                 962861   \n",
       "acc.pl                1565479                216650                 557840   \n",
       "acc.sg                2663992                246582                 945900   \n",
       "dat.pl                 835283                115180                 310927   \n",
       "...                       ...                   ...                    ...   \n",
       "prs.pass.sbjv.3.sg     168334                  9945                  66246   \n",
       "sup.abl                156341                 17168                  41767   \n",
       "sup.acc                591907                 50305                 198546   \n",
       "voc.pl                2113371                236521                 758001   \n",
       "voc.sg                3102649                290411                1028722   \n",
       "\n",
       "                    frequency_MediumAeuum  frequency_RecentiorLatinitas  \n",
       "cell_id                                                                  \n",
       "abl.pl                             382000                         27176  \n",
       "abl.sg                            1463839                         92958  \n",
       "acc.pl                             734860                         56129  \n",
       "acc.sg                            1391128                         80382  \n",
       "dat.pl                             382000                         27176  \n",
       "...                                   ...                           ...  \n",
       "prs.pass.sbjv.3.sg                  83631                          8512  \n",
       "sup.abl                             88748                          8658  \n",
       "sup.acc                            323267                         19789  \n",
       "voc.pl                            1044528                         74321  \n",
       "voc.sg                            1687352                         96164  \n",
       "\n",
       "[266 rows x 5 columns]"
      ]
     },
     "execution_count": 172,
     "metadata": {},
     "output_type": "execute_result"
    }
   ],
   "source": [
    "cells_freq"
   ]
  },
  {
   "cell_type": "code",
   "execution_count": 173,
   "id": "3fc2a0ced4b9ad34",
   "metadata": {
    "ExecuteTime": {
     "end_time": "2023-11-21T13:01:05.133764734Z",
     "start_time": "2023-11-21T13:01:05.123932297Z"
    },
    "collapsed": false,
    "jupyter": {
     "outputs_hidden": false
    }
   },
   "outputs": [],
   "source": [
    "LatInfLexi_cells.set_index(\"cell_id\", inplace=True)"
   ]
  },
  {
   "cell_type": "code",
   "execution_count": 174,
   "id": "a619e9d137255c83",
   "metadata": {
    "ExecuteTime": {
     "end_time": "2023-11-21T13:01:05.133912013Z",
     "start_time": "2023-11-21T13:01:05.128034659Z"
    },
    "collapsed": false,
    "jupyter": {
     "outputs_hidden": false
    }
   },
   "outputs": [],
   "source": [
    "LatInfLexi_cells = pd.merge(LatInfLexi_cells, cells_freq, left_index=True, right_index=True)"
   ]
  },
  {
   "cell_type": "markdown",
   "id": "996f2e0ca5858551",
   "metadata": {
    "collapsed": false,
    "jupyter": {
     "outputs_hidden": false
    }
   },
   "source": [
    "# Creating the lexemes table"
   ]
  },
  {
   "cell_type": "code",
   "execution_count": 175,
   "id": "8c9f645aa7c0e0ee",
   "metadata": {
    "ExecuteTime": {
     "end_time": "2023-11-21T13:01:05.263446165Z",
     "start_time": "2023-11-21T13:01:05.132922798Z"
    },
    "collapsed": false,
    "jupyter": {
     "outputs_hidden": false
    }
   },
   "outputs": [
    {
     "name": "stderr",
     "output_type": "stream",
     "text": [
      "C:\\Users\\matteo.pellegrini\\AppData\\Local\\Temp\\ipykernel_21396\\2816140279.py:5: FutureWarning: The provided callable <built-in function sum> is currently using DataFrameGroupBy.sum. In a future version of pandas, the provided callable will be used directly. To keep current behavior pass the string \"sum\" instead.\n",
      "  \"frequency_RecentiorLatinitas\"]].agg(sum).reset_index(\"POS\", drop=False)\n"
     ]
    }
   ],
   "source": [
    "LatInfLexi_lexemes = LatInfLexi_forms.groupby([\"lexeme\", \"POS\"])[[\"frequency\", \n",
    "                                                                      \"frequency_Antiquitas\",\n",
    "                                                                      \"frequency_AetasPatrum\",\n",
    "                                                                      \"frequency_MediumAeuum\",\n",
    "                                                                      \"frequency_RecentiorLatinitas\"]].agg(sum).reset_index(\"POS\", drop=False)\n",
    "LatInfLexi_lexemes.index.name = \"lexeme_id\""
   ]
  },
  {
   "cell_type": "code",
   "execution_count": 176,
   "id": "5923bce1f2a1e9f8",
   "metadata": {
    "ExecuteTime": {
     "end_time": "2023-11-21T13:01:05.264557558Z",
     "start_time": "2023-11-21T13:01:05.227951300Z"
    },
    "collapsed": false,
    "jupyter": {
     "outputs_hidden": false
    }
   },
   "outputs": [
    {
     "data": {
      "text/html": [
       "<div>\n",
       "<style scoped>\n",
       "    .dataframe tbody tr th:only-of-type {\n",
       "        vertical-align: middle;\n",
       "    }\n",
       "\n",
       "    .dataframe tbody tr th {\n",
       "        vertical-align: top;\n",
       "    }\n",
       "\n",
       "    .dataframe thead th {\n",
       "        text-align: right;\n",
       "    }\n",
       "</style>\n",
       "<table border=\"1\" class=\"dataframe\">\n",
       "  <thead>\n",
       "    <tr style=\"text-align: right;\">\n",
       "      <th></th>\n",
       "      <th>POS</th>\n",
       "      <th>frequency</th>\n",
       "      <th>frequency_Antiquitas</th>\n",
       "      <th>frequency_AetasPatrum</th>\n",
       "      <th>frequency_MediumAeuum</th>\n",
       "      <th>frequency_RecentiorLatinitas</th>\n",
       "    </tr>\n",
       "    <tr>\n",
       "      <th>lexeme_id</th>\n",
       "      <th></th>\n",
       "      <th></th>\n",
       "      <th></th>\n",
       "      <th></th>\n",
       "      <th></th>\n",
       "      <th></th>\n",
       "    </tr>\n",
       "  </thead>\n",
       "  <tbody>\n",
       "    <tr>\n",
       "      <th>abalieno</th>\n",
       "      <td>verb</td>\n",
       "      <td>393</td>\n",
       "      <td>101</td>\n",
       "      <td>176</td>\n",
       "      <td>113</td>\n",
       "      <td>3</td>\n",
       "    </tr>\n",
       "    <tr>\n",
       "      <th>abdico</th>\n",
       "      <td>verb</td>\n",
       "      <td>2256</td>\n",
       "      <td>773</td>\n",
       "      <td>760</td>\n",
       "      <td>683</td>\n",
       "      <td>40</td>\n",
       "    </tr>\n",
       "    <tr>\n",
       "      <th>abdo</th>\n",
       "      <td>verb</td>\n",
       "      <td>4850</td>\n",
       "      <td>971</td>\n",
       "      <td>2111</td>\n",
       "      <td>1644</td>\n",
       "      <td>124</td>\n",
       "    </tr>\n",
       "    <tr>\n",
       "      <th>abduco</th>\n",
       "      <td>verb</td>\n",
       "      <td>3194</td>\n",
       "      <td>937</td>\n",
       "      <td>1057</td>\n",
       "      <td>1116</td>\n",
       "      <td>84</td>\n",
       "    </tr>\n",
       "    <tr>\n",
       "      <th>abeo</th>\n",
       "      <td>verb</td>\n",
       "      <td>6626</td>\n",
       "      <td>1723</td>\n",
       "      <td>1466</td>\n",
       "      <td>3229</td>\n",
       "      <td>208</td>\n",
       "    </tr>\n",
       "    <tr>\n",
       "      <th>...</th>\n",
       "      <td>...</td>\n",
       "      <td>...</td>\n",
       "      <td>...</td>\n",
       "      <td>...</td>\n",
       "      <td>...</td>\n",
       "      <td>...</td>\n",
       "    </tr>\n",
       "    <tr>\n",
       "      <th>uulgus</th>\n",
       "      <td>noun</td>\n",
       "      <td>7917</td>\n",
       "      <td>1588</td>\n",
       "      <td>2524</td>\n",
       "      <td>2311</td>\n",
       "      <td>1494</td>\n",
       "    </tr>\n",
       "    <tr>\n",
       "      <th>uulnero</th>\n",
       "      <td>verb</td>\n",
       "      <td>10975</td>\n",
       "      <td>1167</td>\n",
       "      <td>4903</td>\n",
       "      <td>4784</td>\n",
       "      <td>121</td>\n",
       "    </tr>\n",
       "    <tr>\n",
       "      <th>uulnus</th>\n",
       "      <td>noun</td>\n",
       "      <td>18041</td>\n",
       "      <td>3618</td>\n",
       "      <td>7531</td>\n",
       "      <td>6637</td>\n",
       "      <td>255</td>\n",
       "    </tr>\n",
       "    <tr>\n",
       "      <th>uultus</th>\n",
       "      <td>noun</td>\n",
       "      <td>25464</td>\n",
       "      <td>4688</td>\n",
       "      <td>9117</td>\n",
       "      <td>11269</td>\n",
       "      <td>390</td>\n",
       "    </tr>\n",
       "    <tr>\n",
       "      <th>uxor</th>\n",
       "      <td>noun</td>\n",
       "      <td>28358</td>\n",
       "      <td>2861</td>\n",
       "      <td>12294</td>\n",
       "      <td>12973</td>\n",
       "      <td>230</td>\n",
       "    </tr>\n",
       "  </tbody>\n",
       "</table>\n",
       "<p>4386 rows × 6 columns</p>\n",
       "</div>"
      ],
      "text/plain": [
       "            POS  frequency  frequency_Antiquitas  frequency_AetasPatrum  \\\n",
       "lexeme_id                                                                 \n",
       "abalieno   verb        393                   101                    176   \n",
       "abdico     verb       2256                   773                    760   \n",
       "abdo       verb       4850                   971                   2111   \n",
       "abduco     verb       3194                   937                   1057   \n",
       "abeo       verb       6626                  1723                   1466   \n",
       "...         ...        ...                   ...                    ...   \n",
       "uulgus     noun       7917                  1588                   2524   \n",
       "uulnero    verb      10975                  1167                   4903   \n",
       "uulnus     noun      18041                  3618                   7531   \n",
       "uultus     noun      25464                  4688                   9117   \n",
       "uxor       noun      28358                  2861                  12294   \n",
       "\n",
       "           frequency_MediumAeuum  frequency_RecentiorLatinitas  \n",
       "lexeme_id                                                       \n",
       "abalieno                     113                             3  \n",
       "abdico                       683                            40  \n",
       "abdo                        1644                           124  \n",
       "abduco                      1116                            84  \n",
       "abeo                        3229                           208  \n",
       "...                          ...                           ...  \n",
       "uulgus                      2311                          1494  \n",
       "uulnero                     4784                           121  \n",
       "uulnus                      6637                           255  \n",
       "uultus                     11269                           390  \n",
       "uxor                       12973                           230  \n",
       "\n",
       "[4386 rows x 6 columns]"
      ]
     },
     "execution_count": 176,
     "metadata": {},
     "output_type": "execute_result"
    }
   ],
   "source": [
    "LatInfLexi_lexemes"
   ]
  },
  {
   "cell_type": "markdown",
   "id": "c89e335f2ff3e020",
   "metadata": {
    "collapsed": false,
    "jupyter": {
     "outputs_hidden": false
    }
   },
   "source": [
    "# Output"
   ]
  },
  {
   "cell_type": "markdown",
   "id": "1a71f72f1ce3fa47",
   "metadata": {
    "collapsed": false,
    "jupyter": {
     "outputs_hidden": false
    }
   },
   "source": [
    "Writing it all to file"
   ]
  },
  {
   "cell_type": "code",
   "execution_count": null,
   "id": "f7472c11",
   "metadata": {
    "ExecuteTime": {
     "end_time": "2023-11-21T13:01:06.936662866Z",
     "start_time": "2023-11-21T13:01:05.228154427Z"
    },
    "collapsed": false,
    "jupyter": {
     "outputs_hidden": false
    }
   },
   "outputs": [],
   "source": [
    "LatInfLexi_lexemes.to_csv(\"LatInfLexi-lexemes.csv\")\n",
    "LatInfLexi_forms.to_csv(\"LatInfLexi-forms.csv\")\n",
    "LatInfLexi_cells.to_csv(\"LatInfLexi-cells.csv\")"
   ]
  },
  {
   "cell_type": "markdown",
   "id": "4bfe5c4cfeff0d95",
   "metadata": {
    "collapsed": false,
    "jupyter": {
     "outputs_hidden": false
    }
   },
   "source": [
    "Remove temporary files from v1.1"
   ]
  },
  {
   "cell_type": "code",
   "execution_count": null,
   "id": "dbb1715d99b9881b",
   "metadata": {
    "ExecuteTime": {
     "end_time": "2023-11-21T13:01:06.992333360Z",
     "start_time": "2023-11-21T13:01:06.938291821Z"
    },
    "collapsed": false,
    "jupyter": {
     "outputs_hidden": false
    }
   },
   "outputs": [],
   "source": [
    "%%bash\n",
    "rm LatInfLexi-nouns.csv\n",
    "rm LatInfLexi-verbs.csv\n"
   ]
  },
  {
   "cell_type": "code",
   "execution_count": null,
   "id": "81f6407878dfcb5d",
   "metadata": {
    "ExecuteTime": {
     "end_time": "2023-11-21T13:01:06.992676076Z",
     "start_time": "2023-11-21T13:01:06.992115294Z"
    },
    "collapsed": false,
    "jupyter": {
     "outputs_hidden": false
    }
   },
   "outputs": [],
   "source": []
  }
 ],
 "metadata": {
  "kernelspec": {
   "display_name": "Python 3 (ipykernel)",
   "language": "python",
   "name": "python3"
  },
  "language_info": {
   "codemirror_mode": {
    "name": "ipython",
    "version": 3
   },
   "file_extension": ".py",
   "mimetype": "text/x-python",
   "name": "python",
   "nbconvert_exporter": "python",
   "pygments_lexer": "ipython3",
   "version": "3.12.0"
  }
 },
 "nbformat": 4,
 "nbformat_minor": 5
}
